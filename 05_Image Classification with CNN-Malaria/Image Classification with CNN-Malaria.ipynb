{
 "cells": [
  {
   "cell_type": "markdown",
   "metadata": {
    "id": "CqyKl6OBsl9A"
   },
   "source": [
    "<h1 style=\"text-align: center;\">Deep Learning<br><br>Image Classification with CNN<br><br>Malaria Data<br><h1>"
   ]
  },
  {
   "cell_type": "markdown",
   "metadata": {
    "id": "NgJ-_SBHsl9B"
   },
   "source": [
    "\n",
    "# Dataset Info\n",
    "\n",
    "The dataset contains 2 folders - 'parasitized', 'uninfected'\n",
    "\n",
    "And a total of 27,558 images.\n",
    "\n",
    "This Dataset is taken from the official NIH Website: https://ceb.nlm.nih.gov/repositories/malaria-datasets/ "
   ]
  },
  {
   "cell_type": "markdown",
   "metadata": {
    "id": "CMrNns6kobX7"
   },
   "source": [
    "# Import Libraries and Export Images from Zip_File"
   ]
  },
  {
   "cell_type": "code",
   "execution_count": 1,
   "metadata": {
    "executionInfo": {
     "elapsed": 565,
     "status": "ok",
     "timestamp": 1663888472543,
     "user": {
      "displayName": "Edward Williams",
      "userId": "15751998290745019023"
     },
     "user_tz": -120
    },
    "id": "ULUCJSJzsl9C"
   },
   "outputs": [],
   "source": [
    "import os\n",
    "import numpy as np\n",
    "import pandas as pd\n",
    "import matplotlib.pyplot as plt\n",
    "import seaborn as sns\n",
    "from matplotlib.image import imread\n",
    "\n",
    "plt.rcParams[\"figure.figsize\"] = (10,6)\n",
    "\n",
    "sns.set_style(\"whitegrid\")\n",
    "pd.set_option('display.float_format', lambda x: '%.4f' % x)\n",
    "\n",
    "# Set it None to display all rows in the dataframe\n",
    "# pd.set_option('display.max_rows', None)\n",
    "\n",
    "# Set it to None to display all columns in the dataframe\n",
    "pd.set_option('display.max_columns', None)"
   ]
  },
  {
   "cell_type": "code",
   "execution_count": 2,
   "metadata": {
    "colab": {
     "base_uri": "https://localhost:8080/"
    },
    "executionInfo": {
     "elapsed": 2934,
     "status": "ok",
     "timestamp": 1663888480853,
     "user": {
      "displayName": "Edward Williams",
      "userId": "15751998290745019023"
     },
     "user_tz": -120
    },
    "id": "eBfqbn-TgoA4",
    "outputId": "076f9196-20bd-4ea6-f3ef-59281bd33ca0"
   },
   "outputs": [
    {
     "data": {
      "text/plain": [
       "[]"
      ]
     },
     "execution_count": 2,
     "metadata": {},
     "output_type": "execute_result"
    }
   ],
   "source": [
    "import tensorflow as tf\n",
    "\n",
    "tf.config.list_physical_devices(\"GPU\")"
   ]
  },
  {
   "cell_type": "code",
   "execution_count": 3,
   "metadata": {
    "colab": {
     "base_uri": "https://localhost:8080/"
    },
    "executionInfo": {
     "elapsed": 17477,
     "status": "ok",
     "timestamp": 1663888515497,
     "user": {
      "displayName": "Edward Williams",
      "userId": "15751998290745019023"
     },
     "user_tz": -120
    },
    "id": "GnnB7Iigsl9E",
    "outputId": "61471a05-ecbb-4189-8cdd-f6d050c73b3d"
   },
   "outputs": [
    {
     "name": "stdout",
     "output_type": "stream",
     "text": [
      "Mounted at /content/drive\n"
     ]
    }
   ],
   "source": [
    "from google.colab import drive\n",
    "drive.mount('/content/drive')"
   ]
  },
  {
   "cell_type": "code",
   "execution_count": 4,
   "metadata": {
    "executionInfo": {
     "elapsed": 7578,
     "status": "ok",
     "timestamp": 1663888559513,
     "user": {
      "displayName": "Edward Williams",
      "userId": "15751998290745019023"
     },
     "user_tz": -120
    },
    "id": "HKxrKtV5H77z"
   },
   "outputs": [],
   "source": [
    "import zipfile\n",
    "\n",
    "# Unzip the file\n",
    "zip_ref = zipfile.ZipFile(\"/content/drive/MyDrive/cell_images.zip\", \"r\")\n",
    "zip_ref.extractall()\n",
    "zip_ref.close()"
   ]
  },
  {
   "cell_type": "markdown",
   "metadata": {
    "id": "YTyh7iXXsl9E"
   },
   "source": [
    "# Recognizing and Understanding Data"
   ]
  },
  {
   "cell_type": "code",
   "execution_count": 5,
   "metadata": {
    "executionInfo": {
     "elapsed": 283,
     "status": "ok",
     "timestamp": 1663888641833,
     "user": {
      "displayName": "Edward Williams",
      "userId": "15751998290745019023"
     },
     "user_tz": -120
    },
    "id": "BxDyRgOYdiDB"
   },
   "outputs": [],
   "source": [
    "my_data_dir = \"cell_images\""
   ]
  },
  {
   "cell_type": "code",
   "execution_count": 6,
   "metadata": {
    "colab": {
     "base_uri": "https://localhost:8080/"
    },
    "executionInfo": {
     "elapsed": 211,
     "status": "ok",
     "timestamp": 1663888667822,
     "user": {
      "displayName": "Edward Williams",
      "userId": "15751998290745019023"
     },
     "user_tz": -120
    },
    "id": "AQVM6TYWsl9G",
    "outputId": "8571cfc8-abe2-486d-9f8f-218807d1f510"
   },
   "outputs": [
    {
     "data": {
      "text/plain": [
       "['train', 'test']"
      ]
     },
     "execution_count": 6,
     "metadata": {},
     "output_type": "execute_result"
    }
   ],
   "source": [
    "# CONFIRM THAT THIS REPORTS BACK 'test', and 'train'\n",
    "os.listdir(my_data_dir) "
   ]
  },
  {
   "cell_type": "code",
   "execution_count": 7,
   "metadata": {
    "executionInfo": {
     "elapsed": 228,
     "status": "ok",
     "timestamp": 1663888719733,
     "user": {
      "displayName": "Edward Williams",
      "userId": "15751998290745019023"
     },
     "user_tz": -120
    },
    "id": "Chik3r8Ysl9H"
   },
   "outputs": [],
   "source": [
    "test_path = os.path.join(my_data_dir, 'test')\n",
    "train_path = os.path.join(my_data_dir, 'train')"
   ]
  },
  {
   "cell_type": "code",
   "execution_count": 8,
   "metadata": {
    "colab": {
     "base_uri": "https://localhost:8080/",
     "height": 36
    },
    "executionInfo": {
     "elapsed": 242,
     "status": "ok",
     "timestamp": 1663888727026,
     "user": {
      "displayName": "Edward Williams",
      "userId": "15751998290745019023"
     },
     "user_tz": -120
    },
    "id": "IMJzGXX4fwr_",
    "outputId": "77eccb16-ac90-438c-c050-0c0660edb44b"
   },
   "outputs": [
    {
     "data": {
      "application/vnd.google.colaboratory.intrinsic+json": {
       "type": "string"
      },
      "text/plain": [
       "'cell_images/test'"
      ]
     },
     "execution_count": 8,
     "metadata": {},
     "output_type": "execute_result"
    }
   ],
   "source": [
    "test_path"
   ]
  },
  {
   "cell_type": "code",
   "execution_count": 9,
   "metadata": {
    "colab": {
     "base_uri": "https://localhost:8080/"
    },
    "executionInfo": {
     "elapsed": 224,
     "status": "ok",
     "timestamp": 1663888751716,
     "user": {
      "displayName": "Edward Williams",
      "userId": "15751998290745019023"
     },
     "user_tz": -120
    },
    "id": "hO_ct-D3sl9H",
    "outputId": "949b1c60-cc65-49c9-f30a-d4e53dcca27e"
   },
   "outputs": [
    {
     "data": {
      "text/plain": [
       "['parasitized', 'uninfected']"
      ]
     },
     "execution_count": 9,
     "metadata": {},
     "output_type": "execute_result"
    }
   ],
   "source": [
    "os.listdir(test_path)"
   ]
  },
  {
   "cell_type": "code",
   "execution_count": 10,
   "metadata": {
    "colab": {
     "base_uri": "https://localhost:8080/"
    },
    "executionInfo": {
     "elapsed": 205,
     "status": "ok",
     "timestamp": 1663888767913,
     "user": {
      "displayName": "Edward Williams",
      "userId": "15751998290745019023"
     },
     "user_tz": -120
    },
    "id": "QN6kB1Ezsl9I",
    "outputId": "4627d40d-6b3e-42df-9011-7969f64158c5"
   },
   "outputs": [
    {
     "data": {
      "text/plain": [
       "['parasitized', 'uninfected']"
      ]
     },
     "execution_count": 10,
     "metadata": {},
     "output_type": "execute_result"
    }
   ],
   "source": [
    "os.listdir(train_path)"
   ]
  },
  {
   "cell_type": "code",
   "execution_count": 11,
   "metadata": {
    "colab": {
     "base_uri": "https://localhost:8080/"
    },
    "executionInfo": {
     "elapsed": 241,
     "status": "ok",
     "timestamp": 1663889036645,
     "user": {
      "displayName": "Edward Williams",
      "userId": "15751998290745019023"
     },
     "user_tz": -120
    },
    "id": "eC4GUi8Jp8Rq",
    "outputId": "60701d8d-9223-4889-e598-504ea2f6f793"
   },
   "outputs": [
    {
     "data": {
      "text/plain": [
       "['parasitized', 'uninfected']"
      ]
     },
     "execution_count": 11,
     "metadata": {},
     "output_type": "execute_result"
    }
   ],
   "source": [
    "classes = os.listdir(train_path)\n",
    "classes"
   ]
  },
  {
   "cell_type": "code",
   "execution_count": 12,
   "metadata": {
    "colab": {
     "base_uri": "https://localhost:8080/"
    },
    "executionInfo": {
     "elapsed": 11,
     "status": "ok",
     "timestamp": 1663889036646,
     "user": {
      "displayName": "Edward Williams",
      "userId": "15751998290745019023"
     },
     "user_tz": -120
    },
    "id": "AYrKX5pqe8Ky",
    "outputId": "b6199c30-babc-48e7-dfae-14f3e3c43fdd"
   },
   "outputs": [
    {
     "name": "stdout",
     "output_type": "stream",
     "text": [
      "['parasitized' 'uninfected']\n"
     ]
    }
   ],
   "source": [
    "import pathlib\n",
    "\n",
    "data_dir = pathlib.Path(train_path) # turn our training path into a Python path\n",
    "class_names = np.array(sorted([item.name for item in data_dir.glob('*')])) # created a list of class_names from the subdirectories\n",
    "print(class_names)"
   ]
  },
  {
   "cell_type": "code",
   "execution_count": 13,
   "metadata": {
    "colab": {
     "base_uri": "https://localhost:8080/"
    },
    "executionInfo": {
     "elapsed": 252,
     "status": "ok",
     "timestamp": 1663889140344,
     "user": {
      "displayName": "Edward Williams",
      "userId": "15751998290745019023"
     },
     "user_tz": -120
    },
    "id": "6e0a4UGj5j6N",
    "outputId": "5adb6b46-1409-43f8-fcb0-184ba71954df"
   },
   "outputs": [
    {
     "data": {
      "text/plain": [
       "[PosixPath('cell_images/train/parasitized'),\n",
       " PosixPath('cell_images/train/uninfected')]"
      ]
     },
     "execution_count": 13,
     "metadata": {},
     "output_type": "execute_result"
    }
   ],
   "source": [
    "[item for item in data_dir.glob('*')]"
   ]
  },
  {
   "cell_type": "code",
   "execution_count": 14,
   "metadata": {
    "colab": {
     "base_uri": "https://localhost:8080/"
    },
    "executionInfo": {
     "elapsed": 5,
     "status": "ok",
     "timestamp": 1663889140583,
     "user": {
      "displayName": "Edward Williams",
      "userId": "15751998290745019023"
     },
     "user_tz": -120
    },
    "id": "17L-4uqGptMS",
    "outputId": "a56d3320-0769-464c-96bf-d759c0c2fd57"
   },
   "outputs": [
    {
     "data": {
      "text/plain": [
       "array(['parasitized', 'uninfected'], dtype='<U11')"
      ]
     },
     "execution_count": 14,
     "metadata": {},
     "output_type": "execute_result"
    }
   ],
   "source": [
    "class_names"
   ]
  },
  {
   "cell_type": "markdown",
   "metadata": {
    "id": "mFVLtsmLsl9N"
   },
   "source": [
    "**Let's check how many images there are.**"
   ]
  },
  {
   "cell_type": "code",
   "execution_count": 26,
   "metadata": {
    "colab": {
     "base_uri": "https://localhost:8080/"
    },
    "executionInfo": {
     "elapsed": 1104,
     "status": "ok",
     "timestamp": 1663878833870,
     "user": {
      "displayName": "Edward Williams",
      "userId": "15751998290745019023"
     },
     "user_tz": -120
    },
    "id": "uYCWoVG1qPNo",
    "outputId": "042c5289-9439-40db-c1ab-c3f9703431b0",
    "scrolled": true,
    "tags": []
   },
   "outputs": [
    {
     "data": {
      "text/plain": [
       "['C184P145ThinF_IMG_20151203_103637_cell_151.png',\n",
       " 'C119P80ThinF_IMG_20151002_122720_cell_163.png',\n",
       " 'C136P97ThinF_IMG_20151005_144449_cell_24.png',\n",
       " 'C67P28N_ThinF_IMG_20150819_121456_cell_240.png',\n",
       " 'C180P141NThinF_IMG_20151201_163751_cell_177.png',\n",
       " 'C60P21thinF_IMG_20150803_144003_cell_125.png',\n",
       " 'C176P137NThinF_IMG_20151201_121808_cell_122.png',\n",
       " 'C67P28N_ThinF_IMG_20150819_121053_cell_233.png',\n",
       " 'C99P60ThinF_IMG_20150918_141001_cell_125.png',\n",
       " 'C129P90ThinF_IMG_20151004_134306_cell_125.png',\n",
       " 'C101P62ThinF_IMG_20150923_170246_cell_63.png',\n",
       " 'C128P89ThinF_IMG_20151004_130408_cell_157.png',\n",
       " 'C184P145ThinF_IMG_20151203_104030_cell_12.png',\n",
       " 'C59P20thinF_IMG_20150803_112858_cell_153.png',\n",
       " 'C116P77ThinF_IMG_20150930_172112_cell_84.png',\n",
       " 'C146P107ThinF_IMG_20151018_134554_cell_255.png',\n",
       " 'C176P137NThinF_IMG_20151201_121808_cell_126.png',\n",
       " 'C180P141NThinF_IMG_20151201_165601_cell_178.png',\n",
       " 'C167P128ReThinF_IMG_20151201_110011_cell_241.png',\n",
       " 'C180P141NThinF_IMG_20151201_163848_cell_153.png',\n",
       " 'C45P6ThinF_IMG_20151130_155110_cell_208.png',\n",
       " 'C130P91ThinF_IMG_20151004_142709_cell_122.png',\n",
       " 'C39P4thinF_original_IMG_20150622_113842_cell_3.png',\n",
       " 'C59P20thinF_IMG_20150803_113139_cell_12.png',\n",
       " 'C184P145ThinF_IMG_20151203_103824_cell_132.png',\n",
       " 'C68P29N_ThinF_IMG_20150819_134112_cell_122.png',\n",
       " 'C45P6ThinF_IMG_20151130_154725_cell_179.png',\n",
       " 'C176P137NThinF_IMG_20151201_122708_cell_142.png',\n",
       " 'C95P56ThinF_IMG_20150821_172319_cell_104.png',\n",
       " 'C124P85ThinF_IMG_20151002_154846_cell_152.png',\n",
       " 'C182P143NThinF_IMG_20151201_172257_cell_154.png',\n",
       " 'C59P20thinF_IMG_20150803_111333_cell_146.png',\n",
       " 'C140P101ThinF_IMG_20151005_211735_cell_159.png',\n",
       " 'C68P29N_ThinF_IMG_20150819_134504_cell_169.png',\n",
       " 'C126P87ThinF_IMG_20151004_104408_cell_167.png',\n",
       " 'C99P60ThinF_IMG_20150918_141857_cell_31.png',\n",
       " 'C59P20thinF_IMG_20150803_112858_cell_167.png',\n",
       " 'C133P94ThinF_IMG_20151004_155144_cell_124.png',\n",
       " 'C97P58ThinF_IMG_20150917_151437_cell_156.png',\n",
       " 'C78P39ThinF_IMG_20150606_103413_cell_171.png',\n",
       " 'C91P52ThinF_IMG_20150821_124739_cell_180.png',\n",
       " 'C180P141NThinF_IMG_20151201_165423_cell_173.png',\n",
       " 'C80P41ThinF_IMG_20150817_110348_cell_116.png',\n",
       " 'C180P141NThinF_IMG_20151201_170021_cell_14.png',\n",
       " 'C118P79ThinF_IMG_20151002_110002_cell_12.png',\n",
       " 'C133P94ThinF_IMG_20151004_154351_cell_108.png',\n",
       " 'C132P93ThinF_IMG_20151004_152642_cell_8.png',\n",
       " 'C116P77ThinF_IMG_20150930_172112_cell_83.png',\n",
       " 'C109P70ThinF_IMG_20150930_102716_cell_186.png',\n",
       " 'C128P89ThinF_IMG_20151004_131753_cell_136.png',\n",
       " 'C132P93ThinF_IMG_20151004_152808_cell_9.png',\n",
       " 'C70P31_ThinF_IMG_20150813_131457_cell_12.png',\n",
       " 'C68P29N_ThinF_IMG_20150819_134326_cell_163.png',\n",
       " 'C137P98ThinF_IMG_20151005_161306_cell_6.png',\n",
       " 'C181P142ThinF_IMG_20151127_160434_cell_162.png',\n",
       " 'C91P52ThinF_IMG_20150821_125423_cell_4.png',\n",
       " 'C183P144NThinF_IMG_20151201_222917_cell_158.png',\n",
       " 'C91P52ThinF_IMG_20150821_125256_cell_18.png',\n",
       " 'C136P97ThinF_IMG_20151005_142627_cell_1.png',\n",
       " 'C189P150ThinF_IMG_20151203_141110_cell_75.png',\n",
       " 'C181P142ThinF_IMG_20151127_160650_cell_175.png',\n",
       " 'C46P7ThinF_IMG_20151130_205828_cell_140.png',\n",
       " 'C149P110ThinF_IMG_20151115_114910_cell_291.png',\n",
       " 'C161P122ThinF_IMG_20151116_101059_cell_120.png',\n",
       " 'C80P41ThinF_IMG_20150817_112557_cell_4.png',\n",
       " 'C132P93ThinF_IMG_20151004_152642_cell_35.png',\n",
       " 'C70P31_ThinF_IMG_20150813_131924_cell_11.png',\n",
       " 'C74P35_ThinF_IMG_20150815_121324_cell_136.png',\n",
       " 'C146P107ThinF_IMG_20151018_140342_cell_249.png',\n",
       " 'C182P143NThinF_IMG_20151201_171905_cell_177.png',\n",
       " 'C129P90ThinF_IMG_20151004_134520_cell_118.png',\n",
       " 'C137P98ThinF_IMG_20151005_164119_cell_73.png',\n",
       " 'C186P147NThinF_IMG_20151203_150132_cell_197.png',\n",
       " 'C162P123ThinF_IMG_20151116_104451_cell_170.png',\n",
       " 'C82P43ThinF_IMG_20150817_124010_cell_192.png',\n",
       " 'C137P98ThinF_IMG_20151005_161659_cell_2.png',\n",
       " 'C129P90ThinF_IMG_20151004_134306_cell_149.png',\n",
       " 'C82P43ThinF_IMG_20150817_123824_cell_185.png',\n",
       " 'C119P80ThinF_IMG_20151002_124425_cell_132.png',\n",
       " 'C80P41ThinF_IMG_20150817_110957_cell_134.png',\n",
       " 'C82P43ThinF_IMG_20150817_124010_cell_196.png',\n",
       " 'C135P96ThinF_IMG_20151005_124204_cell_126.png',\n",
       " 'C182P143NThinF_IMG_20151201_171836_cell_161.png',\n",
       " 'C183P144NThinF_IMG_20151201_222917_cell_156.png',\n",
       " 'C97P58ThinF_IMG_20150917_151551_cell_175.png',\n",
       " 'C136P97ThinF_IMG_20151005_143743_cell_102.png',\n",
       " 'C145P106ThinF_IMG_20151016_155121_cell_196.png',\n",
       " 'C189P150ThinF_IMG_20151203_141615_cell_88.png',\n",
       " 'C101P62ThinF_IMG_20150923_165215_cell_8.png',\n",
       " 'C119P80ThinF_IMG_20151002_124425_cell_144.png',\n",
       " 'C184P145ThinF_IMG_20151203_102543_cell_176.png',\n",
       " 'C182P143NThinF_IMG_20151201_172257_cell_158.png',\n",
       " 'C120P81ThinF_IMG_20151002_130715_cell_191.png',\n",
       " 'C180P141NThinF_IMG_20151201_163751_cell_165.png',\n",
       " 'C63P24N_ThinF_IMG_20150818_143544_cell_172.png',\n",
       " 'C120P81ThinF_IMG_20151002_130918_cell_192.png',\n",
       " 'C147P108ThinF_IMG_20151115_092605_cell_225.png',\n",
       " 'C159P120ThinF_IMG_20151115_190002_cell_227.png',\n",
       " 'C133P94ThinF_IMG_20151004_154717_cell_126.png',\n",
       " 'C82P43ThinF_IMG_20150817_123652_cell_220.png',\n",
       " 'C172P133ThinF_IMG_20151119_154936_cell_254.png',\n",
       " 'C136P97ThinF_IMG_20151005_144727_cell_127.png',\n",
       " 'C59P20thinF_IMG_20150803_113809_cell_19.png',\n",
       " 'C132P93ThinF_IMG_20151004_151811_cell_126.png',\n",
       " 'C119P80ThinF_IMG_20151002_123608_cell_141.png',\n",
       " 'C175P136NThinF_IMG_20151127_141253_cell_251.png',\n",
       " 'C184P145ThinF_IMG_20151203_104153_cell_152.png',\n",
       " 'C116P77ThinF_IMG_20150930_171635_cell_112.png',\n",
       " 'C134P95ThinF_IMG_20151005_122552_cell_124.png',\n",
       " 'C137P98ThinF_IMG_20151005_163335_cell_4.png',\n",
       " 'C140P101ThinF_IMG_20151005_210026_cell_180.png',\n",
       " 'C48P9thinF_IMG_20150721_163810_cell_22.png',\n",
       " 'C116P77ThinF_IMG_20150930_171844_cell_98.png',\n",
       " 'C137P98ThinF_IMG_20151005_161659_cell_5.png',\n",
       " 'C120P81ThinF_IMG_20151002_130150_cell_200.png',\n",
       " 'C91P52ThinF_IMG_20150821_124739_cell_187.png',\n",
       " 'C119P80ThinF_IMG_20151002_124345_cell_157.png',\n",
       " 'C133P94ThinF_IMG_20151004_153930_cell_112.png',\n",
       " 'C145P106ThinF_IMG_20151016_154921_cell_148.png',\n",
       " 'C97P58ThinF_IMG_20150917_152437_cell_9.png',\n",
       " 'C99P60ThinF_IMG_20150918_142334_cell_24.png',\n",
       " 'C39P4thinF_original_IMG_20150622_113842_cell_16.png',\n",
       " 'C46P7ThinF_IMG_20151130_205719_cell_133.png',\n",
       " 'C59P20thinF_IMG_20150803_113051_cell_184.png',\n",
       " 'C60P21thinF_IMG_20150804_105034_cell_104.png',\n",
       " 'C59P20thinF_IMG_20150803_112802_cell_163.png',\n",
       " 'C93P54ThinF_IMG_20150821_164024_cell_201.png',\n",
       " 'C70P31_ThinF_IMG_20150819_141436_cell_104.png',\n",
       " 'C172P133ThinF_IMG_20151119_155343_cell_271.png',\n",
       " 'C80P41ThinF_IMG_20150817_111943_cell_1.png',\n",
       " 'C39P4thinF_original_IMG_20150622_114609_cell_8.png',\n",
       " 'C133P94ThinF_IMG_20151004_155144_cell_129.png',\n",
       " 'C84P45ThinF_IMG_20150818_101550_cell_107.png',\n",
       " 'C154P115ThinF_IMG_20151115_141336_cell_231.png',\n",
       " 'C133P94ThinF_IMG_20151004_154919_cell_146.png',\n",
       " 'C67P28N_ThinF_IMG_20150819_115955_cell_174.png',\n",
       " 'C186P147NThinF_IMG_20151203_150859_cell_167.png',\n",
       " 'C92P53ThinF_IMG_20150821_151224_cell_212.png',\n",
       " 'C133P94ThinF_IMG_20151004_154512_cell_134.png',\n",
       " 'C184P145ThinF_IMG_20151203_103637_cell_164.png',\n",
       " 'C120P81ThinF_IMG_20151002_130407_cell_195.png',\n",
       " 'C116P77ThinF_IMG_20150930_171844_cell_116.png',\n",
       " 'C182P143NThinF_IMG_20151201_172607_cell_43.png',\n",
       " 'C182P143NThinF_IMG_20151201_171950_cell_171.png',\n",
       " 'C118P79ThinF_IMG_20151002_110002_cell_19.png',\n",
       " 'C181P142ThinF_IMG_20151127_160616_cell_164.png',\n",
       " 'C47P8thin_Original_Motic_IMG_20150714_093512_cell_170.png',\n",
       " 'C99P60ThinF_IMG_20150918_141857_cell_29.png',\n",
       " 'C91P52ThinF_IMG_20150821_123116_cell_193.png',\n",
       " 'C82P43ThinF_IMG_20150817_124728_cell_22.png',\n",
       " 'C144P105ThinF_IMG_20151015_155004_cell_307.png',\n",
       " 'C140P101ThinF_IMG_20151005_210309_cell_182.png',\n",
       " 'C176P137NThinF_IMG_20151201_122811_cell_146.png',\n",
       " 'C99P60ThinF_IMG_20150918_141001_cell_96.png',\n",
       " 'C184P145ThinF_IMG_20151203_103326_cell_128.png',\n",
       " 'C91P52ThinF_IMG_20150821_125256_cell_9.png',\n",
       " 'C120P81ThinF_IMG_20151002_125443_cell_135.png',\n",
       " 'C123P84ThinF_IMG_20151002_151432_cell_164.png',\n",
       " 'C184P145ThinF_IMG_20151203_102543_cell_171.png',\n",
       " 'C113P74ThinF_IMG_20150930_140646_cell_186.png',\n",
       " 'C139P100ThinF_IMG_20151005_183521_cell_155.png',\n",
       " 'C136P97ThinF_IMG_20151005_141321_cell_102.png',\n",
       " 'C119P80ThinF_IMG_20151002_123043_cell_162.png',\n",
       " 'C137P98ThinF_IMG_20151005_164119_cell_67.png',\n",
       " 'C177P138NThinF_IMG_20151201_143546_cell_162.png',\n",
       " 'C141P102ThinF_IMG_20151005_214208_cell_111.png',\n",
       " 'C97P58ThinF_IMG_20150917_151903_cell_11.png',\n",
       " 'C128P89ThinF_IMG_20151004_131030_cell_160.png',\n",
       " 'C136P97ThinF_IMG_20151005_141803_cell_108.png',\n",
       " 'C67P28N_ThinF_IMG_20150819_121456_cell_248.png',\n",
       " 'C75P36_ThinF_IMG_20150815_162935_cell_145.png',\n",
       " 'C181P142ThinF_IMG_20151127_155914_cell_178.png',\n",
       " 'C158P119ThinF_IMG_20151115_181859_cell_202.png',\n",
       " 'C136P97ThinF_IMG_20151005_140538_cell_106.png',\n",
       " 'C179P140ThinF_IMG_20151127_153350_cell_172.png',\n",
       " 'C93P54ThinF_IMG_20150821_162901_cell_202.png',\n",
       " 'C70P31_ThinF_IMG_20150813_131457_cell_7.png',\n",
       " 'C189P150ThinF_IMG_20151203_140809_cell_123.png',\n",
       " 'C128P89ThinF_IMG_20151004_130549_cell_144.png',\n",
       " 'C97P58ThinF_IMG_20150917_151437_cell_160.png',\n",
       " 'C136P97ThinF_IMG_20151005_144727_cell_110.png',\n",
       " 'C97P58ThinF_IMG_20150917_151551_cell_182.png',\n",
       " 'C59P20thinF_IMG_20150803_113430_cell_27.png',\n",
       " 'C129P90ThinF_IMG_20151004_133921_cell_122.png',\n",
       " 'C45P6ThinF_IMG_20151130_154725_cell_168.png',\n",
       " 'C39P4thinF_original_IMG_20150622_110435_cell_116.png',\n",
       " 'C59P20thinF_IMG_20150803_113051_cell_148.png',\n",
       " 'C184P145ThinF_IMG_20151203_103114_cell_142.png',\n",
       " 'C133P94ThinF_IMG_20151004_155518_cell_102.png',\n",
       " 'C39P4thinF_original_IMG_20150622_105803_cell_81.png',\n",
       " 'C46P7ThinF_IMG_20151130_205558_cell_149.png',\n",
       " 'C89P50ThinF_IMG_20150820_163347_cell_204.png',\n",
       " 'C132P93ThinF_IMG_20151004_151701_cell_142.png',\n",
       " 'C45P6ThinF_IMG_20151130_154725_cell_178.png',\n",
       " 'C184P145ThinF_IMG_20151203_102405_cell_177.png',\n",
       " 'C79P40ThinF_IMG_20150817_103901_cell_122.png',\n",
       " 'C103P64ThinF_IMG_20150918_165510_cell_179.png',\n",
       " 'C80P41ThinF_IMG_20150817_110348_cell_123.png',\n",
       " 'C59P20thinF_IMG_20150803_111333_cell_142.png',\n",
       " 'C184P145ThinF_IMG_20151203_102721_cell_9.png',\n",
       " 'C184P145ThinF_IMG_20151203_104030_cell_15.png',\n",
       " 'C93P54ThinF_IMG_20150821_163815_cell_218.png',\n",
       " 'C39P4thinF_original_IMG_20150622_110352_cell_111.png',\n",
       " 'C39P4thinF_original_IMG_20150622_113842_cell_41.png',\n",
       " 'C68P29N_ThinF_IMG_20150819_134625_cell_13.png',\n",
       " 'C39P4thinF_original_IMG_20150622_114804_cell_19.png',\n",
       " 'C82P43ThinF_IMG_20150817_124010_cell_211.png',\n",
       " 'C182P143NThinF_IMG_20151201_171836_cell_168.png',\n",
       " 'C93P54ThinF_IMG_20150821_163640_cell_209.png',\n",
       " 'C180P141NThinF_IMG_20151201_163702_cell_172.png',\n",
       " 'C93P54ThinF_IMG_20150821_162641_cell_221.png',\n",
       " 'C48P9thinF_IMG_20150721_161055_cell_178.png',\n",
       " 'C39P4thinF_original_IMG_20150622_113446_cell_22.png',\n",
       " 'C39P4thinF_original_IMG_20150622_111723_cell_96.png',\n",
       " 'C84P45ThinF_IMG_20150818_101412_cell_102.png',\n",
       " 'C182P143NThinF_IMG_20151201_172216_cell_159.png',\n",
       " 'C116P77ThinF_IMG_20150930_171448_cell_99.png',\n",
       " 'C68P29N_ThinF_IMG_20150819_134112_cell_138.png',\n",
       " 'C129P90ThinF_IMG_20151004_133421_cell_114.png',\n",
       " 'C178P139NThinF_IMG_20151201_151903_cell_102.png',\n",
       " 'C68P29N_ThinF_IMG_20150819_134712_cell_39.png',\n",
       " 'C133P94ThinF_IMG_20151004_155144_cell_120.png',\n",
       " 'C132P93ThinF_IMG_20151004_151701_cell_161.png',\n",
       " 'C99P60ThinF_IMG_20150918_141351_cell_124.png',\n",
       " 'C189P150ThinF_IMG_20151203_141110_cell_74.png',\n",
       " 'C129P90ThinF_IMG_20151004_133421_cell_104.png',\n",
       " 'C84P45ThinF_IMG_20150818_101550_cell_93.png',\n",
       " 'C132P93ThinF_IMG_20151004_152808_cell_55.png',\n",
       " 'C129P90ThinF_IMG_20151004_133703_cell_101.png',\n",
       " 'C119P80ThinF_IMG_20151002_124425_cell_142.png',\n",
       " 'C68P29N_ThinF_IMG_20150819_134712_cell_69.png',\n",
       " 'C93P54ThinF_IMG_20150821_163815_cell_212.png',\n",
       " 'C60P21thinF_IMG_20150804_105034_cell_107.png',\n",
       " 'C157P118ThinF_IMG_20151115_164141_cell_202.png',\n",
       " 'C173P134NThinF_IMG_20151130_115339_cell_261.png',\n",
       " 'C184P145ThinF_IMG_20151203_104440_cell_10.png',\n",
       " 'C180P141NThinF_IMG_20151201_164714_cell_192.png',\n",
       " 'C130P91ThinF_IMG_20151004_135449_cell_134.png',\n",
       " 'C158P119ThinF_IMG_20151115_181136_cell_200.png',\n",
       " 'C129P90ThinF_IMG_20151004_134700_cell_33.png',\n",
       " 'C45P6ThinF_IMG_20151130_160241_cell_208.png',\n",
       " 'C184P145ThinF_IMG_20151203_102405_cell_185.png',\n",
       " 'C188P149ThinF_IMG_20151203_134319_cell_183.png',\n",
       " 'C97P58ThinF_IMG_20150917_152225_cell_28.png',\n",
       " 'C119P80ThinF_IMG_20151002_123608_cell_144.png',\n",
       " 'C59P20thinF_IMG_20150803_111244_cell_205.png',\n",
       " 'C136P97ThinF_IMG_20151005_144727_cell_119.png',\n",
       " 'C183P144NThinF_IMG_20151201_222119_cell_138.png',\n",
       " 'C51AP12thinF_IMG_20150724_154330_cell_121.png',\n",
       " 'C101P62ThinF_IMG_20150918_151149_cell_71.png',\n",
       " 'C116P77ThinF_IMG_20150930_171219_cell_85.png',\n",
       " 'C85P46ThinF_IMG_20150820_110143_cell_241.png',\n",
       " 'C129P90ThinF_IMG_20151004_134520_cell_102.png',\n",
       " 'C91P52ThinF_IMG_20150821_124311_cell_22.png',\n",
       " 'C180P141NThinF_IMG_20151201_163751_cell_164.png',\n",
       " 'C70P31_ThinF_IMG_20150819_142703_cell_8.png',\n",
       " 'C129P90ThinF_IMG_20151004_134306_cell_127.png',\n",
       " 'C182P143NThinF_IMG_20151201_172759_cell_26.png',\n",
       " 'C136P97ThinF_IMG_20151005_143743_cell_104.png',\n",
       " 'C188P149ThinF_IMG_20151203_134229_cell_216.png',\n",
       " 'C126P87ThinF_IMG_20151004_104728_cell_130.png',\n",
       " 'C39P4thinF_original_IMG_20150622_110352_cell_105.png',\n",
       " 'C176P137NThinF_IMG_20151201_121030_cell_10.png',\n",
       " 'C80P41ThinF_IMG_20150817_110834_cell_132.png',\n",
       " 'C59P20thinF_IMG_20150803_111244_cell_179.png',\n",
       " 'C186P147NThinF_IMG_20151203_150322_cell_174.png',\n",
       " 'C82P43ThinF_IMG_20150817_124010_cell_209.png',\n",
       " 'C188P149ThinF_IMG_20151203_134229_cell_228.png',\n",
       " 'C81P42ThinF_IMG_20150817_120524_cell_192.png',\n",
       " 'C70P31_ThinF_IMG_20150813_131330_cell_96.png',\n",
       " 'C63P24N_ThinF_IMG_20150818_143319_cell_166.png',\n",
       " 'C137P98ThinF_IMG_20151005_161306_cell_22.png',\n",
       " 'C116P77ThinF_IMG_20150930_171844_cell_108.png',\n",
       " 'C48P9thinF_IMG_20150721_162732_cell_10.png',\n",
       " 'C184P145ThinF_IMG_20151203_102405_cell_187.png',\n",
       " 'C39P4thinF_original_IMG_20150622_114804_cell_3.png',\n",
       " 'C78P39ThinF_IMG_20150606_104106_cell_171.png',\n",
       " 'C129P90ThinF_IMG_20151004_133244_cell_119.png',\n",
       " 'C66P27N_ThinF_IMG_20150818_163551_cell_186.png',\n",
       " 'C85P46ThinF_IMG_20150820_105748_cell_256.png',\n",
       " 'C51AP12thinF_IMG_20150724_162636_cell_87.png',\n",
       " 'C67P28N_ThinF_IMG_20150819_115955_cell_172.png',\n",
       " 'C136P97ThinF_IMG_20151005_140646_cell_105.png',\n",
       " 'C116P77ThinF_IMG_20150930_171739_cell_104.png',\n",
       " 'C93P54ThinF_IMG_20150821_162901_cell_201.png',\n",
       " 'C181P142ThinF_IMG_20151127_155722_cell_196.png',\n",
       " 'C101P62ThinF_IMG_20150923_170110_cell_22.png',\n",
       " 'C184P145ThinF_IMG_20151203_104153_cell_128.png',\n",
       " 'C131P92ThinF_IMG_20151004_145224_cell_129.png',\n",
       " 'C39P4thinF_original_IMG_20150622_105102_cell_107.png',\n",
       " 'C116P77ThinF_IMG_20150930_171219_cell_81.png',\n",
       " 'C167P128ReThinF_IMG_20151201_110011_cell_232.png',\n",
       " 'C189P150ThinF_IMG_20151203_140809_cell_124.png',\n",
       " 'C59P20thinF_IMG_20150803_115303_cell_24.png',\n",
       " 'C107P68ThinF_IMG_20150924_221909_cell_159.png',\n",
       " 'C52P13thinF_IMG_20150725_125213_cell_170.png',\n",
       " 'C97P58ThinF_IMG_20150917_145555_cell_192.png',\n",
       " 'C99P60ThinF_IMG_20150918_140900_cell_142.png',\n",
       " 'C179P140ThinF_IMG_20151127_153350_cell_169.png',\n",
       " 'C100P61ThinF_IMG_20150918_145938_cell_167.png',\n",
       " 'C133P94ThinF_IMG_20151004_154351_cell_101.png',\n",
       " 'C60P21thinF_IMG_20150804_104919_cell_144.png',\n",
       " 'C91P52ThinF_IMG_20150821_124739_cell_195.png',\n",
       " 'C113P74ThinF_IMG_20150930_134614_cell_169.png',\n",
       " 'C186P147NThinF_IMG_20151203_150322_cell_167.png',\n",
       " 'C81P42ThinF_IMG_20150817_120524_cell_189.png',\n",
       " 'C84P45ThinF_IMG_20150818_101412_cell_101.png',\n",
       " 'C62P23N_ThinF_IMG_20150818_132918_cell_191.png',\n",
       " 'C137P98ThinF_IMG_20151005_162348_cell_5.png',\n",
       " 'C67P28N_ThinF_IMG_20150819_121240_cell_256.png',\n",
       " 'C105P66ThinF_IMG_20150924_095130_cell_157.png',\n",
       " 'C39P4thinF_original_IMG_20150622_110352_cell_109.png',\n",
       " 'C130P91ThinF_IMG_20151004_141504_cell_155.png',\n",
       " 'C129P90ThinF_IMG_20151004_134306_cell_140.png',\n",
       " 'C179P140ThinF_IMG_20151127_153852_cell_174.png',\n",
       " 'C39P4thinF_original_IMG_20150622_105253_cell_104.png',\n",
       " 'C82P43ThinF_IMG_20150817_123652_cell_231.png',\n",
       " 'C182P143NThinF_IMG_20151201_171905_cell_138.png',\n",
       " 'C146P107ThinF_IMG_20151018_140342_cell_253.png',\n",
       " 'C91P52ThinF_IMG_20150821_124504_cell_206.png',\n",
       " 'C48P9thinF_IMG_20150721_164304_cell_6.png',\n",
       " 'C180P141NThinF_IMG_20151201_165453_cell_31.png',\n",
       " 'C59P20thinF_IMG_20150803_113809_cell_38.png',\n",
       " 'C184P145ThinF_IMG_20151203_104334_cell_1.png',\n",
       " 'C108P69ThinF_IMG_20150924_225004_cell_225.png',\n",
       " 'C38P3thinF_original_IMG_20150621_112043_cell_203.png',\n",
       " 'C176P137NThinF_IMG_20151201_121808_cell_133.png',\n",
       " 'C59P20thinF_IMG_20150803_112802_cell_157.png',\n",
       " 'C80P41ThinF_IMG_20150817_110348_cell_129.png',\n",
       " 'C59P20thinF_IMG_20150803_112802_cell_149.png',\n",
       " 'C80P41ThinF_IMG_20150817_110348_cell_118.png',\n",
       " 'C184P145ThinF_IMG_20151203_104334_cell_46.png',\n",
       " 'C128P89ThinF_IMG_20151004_131030_cell_163.png',\n",
       " 'C70P31_ThinF_IMG_20150813_131924_cell_9.png',\n",
       " 'C93P54ThinF_IMG_20150821_162641_cell_226.png',\n",
       " 'C45P6ThinF_IMG_20151130_154725_cell_181.png',\n",
       " 'C80P41ThinF_IMG_20150817_111544_cell_141.png',\n",
       " 'C115P76ThinF_IMG_20150930_163156_cell_243.png',\n",
       " 'C74P35_ThinF_IMG_20150815_114819_cell_128.png',\n",
       " 'C176P137NThinF_IMG_20151201_122444_cell_128.png',\n",
       " 'C182P143NThinF_IMG_20151201_171905_cell_152.png',\n",
       " 'C137P98ThinF_IMG_20151005_163218_cell_81.png',\n",
       " 'C132P93ThinF_IMG_20151004_152505_cell_128.png',\n",
       " 'C143P104ThinF_IMG_20151005_225528_cell_182.png',\n",
       " 'C133P94ThinF_IMG_20151004_154717_cell_128.png',\n",
       " 'C128P89ThinF_IMG_20151004_131231_cell_158.png',\n",
       " 'C91P52ThinF_IMG_20150821_124311_cell_24.png',\n",
       " 'C68P29N_ThinF_IMG_20150819_134625_cell_51.png',\n",
       " 'C181P142ThinF_IMG_20151127_155722_cell_190.png',\n",
       " 'C120P81ThinF_IMG_20151002_131120_cell_189.png',\n",
       " 'C136P97ThinF_IMG_20151005_142437_cell_115.png',\n",
       " 'C51AP12thinF_IMG_20150724_161126_cell_125.png',\n",
       " 'C62P23N_ThinF_IMG_20150818_133527_cell_193.png',\n",
       " 'C81P42ThinF_IMG_20150817_120712_cell_158.png',\n",
       " 'C179P140ThinF_IMG_20151127_153350_cell_178.png',\n",
       " 'C176P137NThinF_IMG_20151201_114035_cell_119.png',\n",
       " 'C181P142ThinF_IMG_20151127_160539_cell_204.png',\n",
       " 'C126P87ThinF_IMG_20151004_105234_cell_130.png',\n",
       " 'C132P93ThinF_IMG_20151004_152353_cell_145.png',\n",
       " 'C80P41ThinF_IMG_20150817_111121_cell_145.png',\n",
       " 'C143P104ThinF_IMG_20151005_225454_cell_184.png',\n",
       " 'C70P31_ThinF_IMG_20150813_131457_cell_14.png',\n",
       " 'C137P98ThinF_IMG_20151005_155704_cell_57.png',\n",
       " 'C140P101ThinF_IMG_20151005_211530_cell_150.png',\n",
       " 'C136P97ThinF_IMG_20151005_140538_cell_100.png',\n",
       " 'C117P78ThinF_IMG_20150930_220616_cell_94.png',\n",
       " 'C74P35_ThinF_IMG_20150815_114819_cell_130.png',\n",
       " 'C48P9thinF_IMG_20150721_160406_cell_212.png',\n",
       " 'C59P20thinF_IMG_20150803_113430_cell_6.png',\n",
       " 'C99P60ThinF_IMG_20150918_141520_cell_114.png',\n",
       " 'C116P77ThinF_IMG_20150930_171448_cell_131.png',\n",
       " 'C118P79ThinF_IMG_20151002_110002_cell_6.png',\n",
       " 'C39P4thinF_original_IMG_20150622_112119_cell_6.png',\n",
       " 'C80P41ThinF_IMG_20150817_112329_cell_31.png',\n",
       " 'C186P147NThinF_IMG_20151203_150808_cell_140.png',\n",
       " 'C82P43ThinF_IMG_20150817_125326_cell_15.png',\n",
       " 'C78P39ThinF_IMG_20150606_104936_cell_176.png',\n",
       " 'C82P43ThinF_IMG_20150817_123652_cell_229.png',\n",
       " 'C182P143NThinF_IMG_20151201_171905_cell_137.png',\n",
       " 'C184P145ThinF_IMG_20151203_102405_cell_176.png',\n",
       " 'C66P27N_ThinF_IMG_20150818_163419_cell_205.png',\n",
       " 'C82P43ThinF_IMG_20150817_123824_cell_207.png',\n",
       " 'C46P7ThinF_IMG_20151130_205756_cell_122.png',\n",
       " 'C68P29N_ThinF_IMG_20150819_134830_cell_30.png',\n",
       " 'C116P77ThinF_IMG_20150930_171809_cell_82.png',\n",
       " 'C182P143NThinF_IMG_20151201_172607_cell_27.png',\n",
       " 'C132P93ThinF_IMG_20151004_151941_cell_13.png',\n",
       " 'C71P32_ThinF_IMG_20150813_162554_cell_190.png',\n",
       " 'C118P79ThinF_IMG_20151002_110942_cell_19.png',\n",
       " 'C180P141NThinF_IMG_20151201_164714_cell_178.png',\n",
       " 'C116P77ThinF_IMG_20150930_171809_cell_65.png',\n",
       " 'C184P145ThinF_IMG_20151203_102405_cell_166.png',\n",
       " 'C68P29N_ThinF_IMG_20150819_134830_cell_50.png',\n",
       " 'C180P141NThinF_IMG_20151201_170021_cell_15.png',\n",
       " 'C158P119ThinF_IMG_20151115_181035_cell_177.png',\n",
       " 'C137P98ThinF_IMG_20151005_162437_cell_84.png',\n",
       " 'C186P147NThinF_IMG_20151203_150322_cell_171.png',\n",
       " 'C60P21thinF_IMG_20150803_144510_cell_140.png',\n",
       " 'C59P20thinF_IMG_20150803_113051_cell_152.png',\n",
       " 'C137P98ThinF_IMG_20151005_163218_cell_89.png',\n",
       " 'C84P45ThinF_IMG_20150818_101146_cell_93.png',\n",
       " 'C157P118ThinF_IMG_20151115_163611_cell_214.png',\n",
       " 'C163P124ThinF_IMG_20151116_111147_cell_222.png',\n",
       " 'C116P77ThinF_IMG_20150930_171558_cell_144.png',\n",
       " 'C182P143NThinF_IMG_20151201_171836_cell_174.png',\n",
       " 'C82P43ThinF_IMG_20150817_124010_cell_197.png',\n",
       " 'C110P71ThinF_IMG_20150930_110052_cell_239.png',\n",
       " 'C116P77ThinF_IMG_20150930_172112_cell_75.png',\n",
       " 'C180P141NThinF_IMG_20151201_170110_cell_13.png',\n",
       " 'C184P145ThinF_IMG_20151203_104440_cell_23.png',\n",
       " 'C130P91ThinF_IMG_20151004_141428_cell_123.png',\n",
       " 'C102P63ThinF_IMG_20150918_163054_cell_168.png',\n",
       " 'C48P9thinF_IMG_20150721_160944_cell_209.png',\n",
       " 'C97P58ThinF_IMG_20150917_151903_cell_25.png',\n",
       " 'C92P53ThinF_IMG_20150821_151646_cell_204.png',\n",
       " 'C64P25N_ThinF_IMG_20150818_152921_cell_183.png',\n",
       " 'C39P4thinF_original_IMG_20150622_111942_cell_15.png',\n",
       " 'C140P101ThinF_IMG_20151005_205922_cell_184.png',\n",
       " 'C133P94ThinF_IMG_20151004_154919_cell_129.png',\n",
       " 'C111P72ThinF_IMG_20150930_113003_cell_182.png',\n",
       " 'C46P7ThinF_IMG_20151130_210938_cell_160.png',\n",
       " 'C48P9thinF_IMG_20150721_161055_cell_194.png',\n",
       " 'C39P4thinF_original_IMG_20150622_113126_cell_4.png',\n",
       " 'C74P35_ThinF_IMG_20150815_120957_cell_125.png',\n",
       " 'C119P80ThinF_IMG_20151002_124345_cell_162.png',\n",
       " 'C99P60ThinF_IMG_20150918_142334_cell_21.png',\n",
       " 'C137P98ThinF_IMG_20151005_160122_cell_72.png',\n",
       " 'C137P98ThinF_IMG_20151005_164119_cell_66.png',\n",
       " 'C136P97ThinF_IMG_20151005_140538_cell_107.png',\n",
       " 'C67P28N_ThinF_IMG_20150819_132441_cell_169.png',\n",
       " 'C77P38ThinF_IMG_20150602_112011_cell_125.png',\n",
       " 'C137P98ThinF_IMG_20151005_160918_cell_82.png',\n",
       " 'C101P62ThinF_IMG_20150923_165215_cell_19.png',\n",
       " 'C39P4thinF_original_IMG_20150622_113842_cell_30.png',\n",
       " 'C68P29N_ThinF_IMG_20150819_134326_cell_124.png',\n",
       " 'C182P143NThinF_IMG_20151201_171905_cell_156.png',\n",
       " 'C180P141NThinF_IMG_20151201_165528_cell_156.png',\n",
       " 'C116P77ThinF_IMG_20150930_172112_cell_82.png',\n",
       " 'C45P6ThinF_IMG_20151130_154725_cell_182.png',\n",
       " 'C184P145ThinF_IMG_20151203_103824_cell_141.png',\n",
       " 'C48P9thinF_IMG_20150721_164031_cell_9.png',\n",
       " 'C59P20thinF_IMG_20150803_113809_cell_30.png',\n",
       " 'C39P4thinF_original_IMG_20150622_110115_cell_121.png',\n",
       " 'C46P7ThinF_IMG_20151130_205558_cell_151.png',\n",
       " 'C184P145ThinF_IMG_20151203_104153_cell_157.png',\n",
       " 'C99P60ThinF_IMG_20150918_141129_cell_142.png',\n",
       " 'C91P52ThinF_IMG_20150821_124739_cell_191.png',\n",
       " 'C133P94ThinF_IMG_20151004_155012_cell_12.png',\n",
       " 'C60P21thinF_IMG_20150804_105034_cell_116.png',\n",
       " 'C66P27N_ThinF_IMG_20150818_164008_cell_151.png',\n",
       " 'C128P89ThinF_IMG_20151004_130810_cell_162.png',\n",
       " 'C132P93ThinF_IMG_20151004_152505_cell_150.png',\n",
       " 'C116P77ThinF_IMG_20150930_171954_cell_112.png',\n",
       " 'C182P143NThinF_IMG_20151201_171950_cell_160.png',\n",
       " 'C175P136NThinF_IMG_20151127_142009_cell_225.png',\n",
       " 'C137P98ThinF_IMG_20151005_160918_cell_83.png',\n",
       " 'C136P97ThinF_IMG_20151005_141803_cell_128.png',\n",
       " 'C132P93ThinF_IMG_20151004_152257_cell_134.png',\n",
       " 'C59P20thinF_IMG_20150803_113430_cell_4.png',\n",
       " 'C116P77ThinF_IMG_20150930_171558_cell_95.png',\n",
       " 'C113P74ThinF_IMG_20150930_134614_cell_176.png',\n",
       " 'C80P41ThinF_IMG_20150817_111246_cell_132.png',\n",
       " 'C183P144NThinF_IMG_20151201_223431_cell_106.png',\n",
       " 'C189P150ThinF_IMG_20151203_141719_cell_54.png',\n",
       " 'C101P62ThinF_IMG_20150918_155731_cell_80.png',\n",
       " 'C91P52ThinF_IMG_20150821_123314_cell_192.png',\n",
       " 'C85P46ThinF_IMG_20150820_110143_cell_239.png',\n",
       " 'C131P92ThinF_IMG_20151004_145224_cell_140.png',\n",
       " 'C66P27N_ThinF_IMG_20150818_164754_cell_199.png',\n",
       " 'C132P93ThinF_IMG_20151004_151941_cell_31.png',\n",
       " 'C118P79ThinF_IMG_20151002_110942_cell_4.png',\n",
       " 'C103P64ThinF_IMG_20150918_164250_cell_172.png',\n",
       " 'C181P142ThinF_IMG_20151127_160514_cell_171.png',\n",
       " 'C116P77ThinF_IMG_20150930_171448_cell_102.png',\n",
       " 'C125P86ThinF_IMG_20151004_101929_cell_152.png',\n",
       " 'C182P143NThinF_IMG_20151201_172759_cell_48.png',\n",
       " 'C174P135NThinF_IMG_20151127_135435_cell_213.png',\n",
       " 'C176P137NThinF_IMG_20151201_122811_cell_168.png',\n",
       " 'C68P29N_ThinF_IMG_20150819_133447_cell_129.png',\n",
       " 'C187P148NThinF_IMG_20151203_153713_cell_194.png',\n",
       " 'C68P29N_ThinF_IMG_20150819_134326_cell_151.png',\n",
       " 'C48P9thinF_IMG_20150721_164304_cell_2.png',\n",
       " 'C116P77ThinF_IMG_20150930_171558_cell_128.png',\n",
       " 'C189P150ThinF_IMG_20151203_141110_cell_76.png',\n",
       " 'C129P90ThinF_IMG_20151004_134636_cell_30.png',\n",
       " 'C180P141NThinF_IMG_20151201_165659_cell_18.png',\n",
       " 'C136P97ThinF_IMG_20151005_140646_cell_120.png',\n",
       " 'C158P119ThinF_IMG_20151115_181136_cell_197.png',\n",
       " 'C180P141NThinF_IMG_20151201_170110_cell_14.png',\n",
       " 'C137P98ThinF_IMG_20151005_160918_cell_68.png',\n",
       " 'C124P85ThinF_IMG_20151002_155101_cell_169.png',\n",
       " 'C45P6ThinF_IMG_20151130_160135_cell_216.png',\n",
       " 'C172P133ThinF_IMG_20151119_155343_cell_276.png',\n",
       " 'C99P60ThinF_IMG_20150918_142334_cell_5.png',\n",
       " 'C46P7ThinF_IMG_20151130_205756_cell_128.png',\n",
       " 'C68P29N_ThinF_IMG_20150819_134712_cell_17.png',\n",
       " 'C80P41ThinF_IMG_20150817_111544_cell_131.png',\n",
       " 'C107P68ThinF_IMG_20150924_222415_cell_176.png',\n",
       " 'C80P41ThinF_IMG_20150817_111943_cell_8.png',\n",
       " 'C119P80ThinF_IMG_20151002_122720_cell_171.png',\n",
       " 'C159P120ThinF_IMG_20151115_190002_cell_232.png',\n",
       " 'C132P93ThinF_IMG_20151004_151733_cell_178.png',\n",
       " 'C182P143NThinF_IMG_20151201_172057_cell_137.png',\n",
       " 'C84P45ThinF_IMG_20150818_104156_cell_123.png',\n",
       " 'C74P35_ThinF_IMG_20150815_114401_cell_155.png',\n",
       " 'C99P60ThinF_IMG_20150918_141001_cell_161.png',\n",
       " 'C182P143NThinF_IMG_20151201_172257_cell_178.png',\n",
       " 'C68P29N_ThinF_IMG_20150819_134712_cell_12.png',\n",
       " 'C116P77ThinF_IMG_20150930_171739_cell_98.png',\n",
       " 'C39P4thinF_original_IMG_20150622_105803_cell_96.png',\n",
       " 'C101P62ThinF_IMG_20150923_165215_cell_41.png',\n",
       " 'C46P7ThinF_IMG_20151130_210843_cell_140.png',\n",
       " 'C132P93ThinF_IMG_20151004_151811_cell_128.png',\n",
       " 'C116P77ThinF_IMG_20150930_171844_cell_95.png',\n",
       " 'C68P29N_ThinF_IMG_20150819_134830_cell_35.png',\n",
       " 'C84P45ThinF_IMG_20150818_101056_cell_104.png',\n",
       " 'C59P20thinF_IMG_20150803_115303_cell_6.png',\n",
       " 'C118P79ThinF_IMG_20151002_110002_cell_21.png',\n",
       " 'C68P29N_ThinF_IMG_20150819_134712_cell_3.png',\n",
       " 'C70P31_ThinF_IMG_20150813_131457_cell_3.png',\n",
       " 'C67P28N_ThinF_IMG_20150819_121053_cell_235.png',\n",
       " 'C176P137NThinF_IMG_20151201_122708_cell_146.png',\n",
       " 'C132P93ThinF_IMG_20151004_151733_cell_164.png',\n",
       " 'C76P37ThinF_IMG_20150815_171214_cell_196.png',\n",
       " 'C164P125ThinF_IMG_20151116_113550_cell_157.png',\n",
       " 'C176P137NThinF_IMG_20151201_120612_cell_5.png',\n",
       " 'C33P1thinF_IMG_20150619_121411a_cell_189.png',\n",
       " 'C132P93ThinF_IMG_20151004_153030_cell_14.png',\n",
       " 'C133P94ThinF_IMG_20151004_155721_cell_118.png',\n",
       " 'C99P60ThinF_IMG_20150918_142128_cell_119.png',\n",
       " 'C128P89ThinF_IMG_20151004_131231_cell_149.png',\n",
       " 'C46P7ThinF_IMG_20151130_205756_cell_121.png',\n",
       " 'C48P9thinF_IMG_20150721_163810_cell_21.png',\n",
       " 'C39P4thinF_original_IMG_20150622_111723_cell_80.png',\n",
       " 'C180P141NThinF_IMG_20151201_165423_cell_179.png',\n",
       " 'C137P98ThinF_IMG_20151005_155444_cell_100.png',\n",
       " 'C132P93ThinF_IMG_20151004_151701_cell_169.png',\n",
       " 'C116P77ThinF_IMG_20150930_171448_cell_90.png',\n",
       " 'C183P144NThinF_IMG_20151201_222119_cell_126.png',\n",
       " 'C89P50ThinF_IMG_20150820_163347_cell_202.png',\n",
       " 'C87P48ThinF_IMG_20150820_144855_cell_182.png',\n",
       " 'C39P4thinF_original_IMG_20150622_105803_cell_91.png',\n",
       " 'C51AP12thinF_IMG_20150724_154243_cell_123.png',\n",
       " 'C119P80ThinF_IMG_20151002_123608_cell_148.png',\n",
       " 'C140P101ThinF_IMG_20151005_211735_cell_157.png',\n",
       " 'C132P93ThinF_IMG_20151004_152642_cell_46.png',\n",
       " 'C184P145ThinF_IMG_20151203_103637_cell_171.png',\n",
       " 'C129P90ThinF_IMG_20151004_133538_cell_84.png',\n",
       " 'C99P60ThinF_IMG_20150918_141620_cell_1.png',\n",
       " 'C184P145ThinF_IMG_20151203_102405_cell_164.png',\n",
       " 'C51AP12thinF_IMG_20150724_155046_cell_99.png',\n",
       " 'C182P143NThinF_IMG_20151201_172524_cell_201.png',\n",
       " 'C80P41ThinF_IMG_20150817_111246_cell_134.png',\n",
       " 'C59P20thinF_IMG_20150803_113139_cell_23.png',\n",
       " 'C137P98ThinF_IMG_20151005_162348_cell_10.png',\n",
       " 'C179P140ThinF_IMG_20151127_153420_cell_174.png',\n",
       " 'C103P64ThinF_IMG_20150918_164331_cell_185.png',\n",
       " 'C48P9thinF_IMG_20150721_162732_cell_7.png',\n",
       " 'C176P137NThinF_IMG_20151201_114035_cell_133.png',\n",
       " 'C164P125ThinF_IMG_20151116_113651_cell_134.png',\n",
       " 'C189P150ThinF_IMG_20151203_141719_cell_56.png',\n",
       " 'C101P62ThinF_IMG_20150923_170110_cell_18.png',\n",
       " 'C179P140ThinF_IMG_20151127_153819_cell_181.png',\n",
       " 'C182P143NThinF_IMG_20151201_172216_cell_189.png',\n",
       " 'C102P63ThinF_IMG_20150918_161826_cell_170.png',\n",
       " 'C118P79ThinF_IMG_20151002_105735_cell_140.png',\n",
       " 'C182P143NThinF_IMG_20151201_172524_cell_205.png',\n",
       " 'C78P39ThinF_IMG_20150606_104106_cell_169.png',\n",
       " 'C118P79ThinF_IMG_20151002_104831_cell_167.png',\n",
       " 'C39P4thinF_original_IMG_20150622_105803_cell_103.png',\n",
       " 'C91P52ThinF_IMG_20150821_124504_cell_197.png',\n",
       " 'C182P143NThinF_IMG_20151201_171950_cell_187.png',\n",
       " 'C184P145ThinF_IMG_20151203_103114_cell_175.png',\n",
       " 'C181P142ThinF_IMG_20151127_155722_cell_194.png',\n",
       " 'C184P145ThinF_IMG_20151203_104030_cell_10.png',\n",
       " 'C116P77ThinF_IMG_20150930_171739_cell_101.png',\n",
       " 'C68P29N_ThinF_IMG_20150819_133350_cell_156.png',\n",
       " 'C80P41ThinF_IMG_20150817_111246_cell_118.png',\n",
       " 'C184P145ThinF_IMG_20151203_103824_cell_139.png',\n",
       " 'C84P45ThinF_IMG_20150818_102009_cell_8.png',\n",
       " 'C182P143NThinF_IMG_20151201_172057_cell_181.png',\n",
       " 'C33P1thinF_IMG_20150619_120645a_cell_215.png',\n",
       " 'C48P9thinF_IMG_20150721_161243_cell_152.png',\n",
       " 'C180P141NThinF_IMG_20151201_163848_cell_143.png',\n",
       " 'C136P97ThinF_IMG_20151005_143329_cell_112.png',\n",
       " 'C46P7ThinF_IMG_20151130_210815_cell_3.png',\n",
       " 'C84P45ThinF_IMG_20150818_102800_cell_11.png',\n",
       " 'C184P145ThinF_IMG_20151203_103824_cell_126.png',\n",
       " 'C116P77ThinF_IMG_20150930_171448_cell_92.png',\n",
       " 'C137P98ThinF_IMG_20151005_164119_cell_81.png',\n",
       " 'C132P93ThinF_IMG_20151004_153030_cell_34.png',\n",
       " 'C136P97ThinF_IMG_20151005_140538_cell_108.png',\n",
       " 'C133P94ThinF_IMG_20151004_155912_cell_3.png',\n",
       " 'C140P101ThinF_IMG_20151005_205406_cell_169.png',\n",
       " 'C99P60ThinF_IMG_20150918_141520_cell_130.png',\n",
       " 'C101P62ThinF_IMG_20150918_151239_cell_84.png',\n",
       " 'C133P94ThinF_IMG_20151004_154717_cell_122.png',\n",
       " 'C48P9thinF_IMG_20150721_161055_cell_169.png',\n",
       " 'C182P143NThinF_IMG_20151201_172257_cell_164.png',\n",
       " 'C48P9thinF_IMG_20150721_161243_cell_168.png',\n",
       " 'C118P79ThinF_IMG_20151002_110834_cell_159.png',\n",
       " 'C42P5thin_original_IMG_20150623_134547_cell_240.png',\n",
       " 'C115P76ThinF_IMG_20150930_162315_cell_256.png',\n",
       " 'C179P140ThinF_IMG_20151127_153819_cell_178.png',\n",
       " 'C126P87ThinF_IMG_20151004_104441_cell_118.png',\n",
       " 'C68P29N_ThinF_IMG_20150819_134830_cell_22.png',\n",
       " 'C102P63ThinF_IMG_20150918_162927_cell_5.png',\n",
       " 'C100P61ThinF_IMG_20150918_145422_cell_168.png',\n",
       " 'C184P145ThinF_IMG_20151203_103114_cell_155.png',\n",
       " 'C186P147NThinF_IMG_20151203_150222_cell_169.png',\n",
       " 'C118P79ThinF_IMG_20151002_105018_cell_146.png',\n",
       " 'C132P93ThinF_IMG_20151004_151733_cell_173.png',\n",
       " 'C182P143NThinF_IMG_20151201_172524_cell_202.png',\n",
       " 'C101P62ThinF_IMG_20150923_170246_cell_70.png',\n",
       " 'C189P150ThinF_IMG_20151203_141308_cell_66.png',\n",
       " 'C45P6ThinF_IMG_20151130_160135_cell_208.png',\n",
       " 'C59P20thinF_IMG_20150803_113430_cell_53.png',\n",
       " 'C118P79ThinF_IMG_20151002_110002_cell_23.png',\n",
       " 'C184P145ThinF_IMG_20151203_104440_cell_36.png',\n",
       " 'C154P115ThinF_IMG_20151115_141407_cell_225.png',\n",
       " 'C39P4thinF_original_IMG_20150622_110435_cell_101.png',\n",
       " 'C177P138NThinF_IMG_20151201_143025_cell_183.png',\n",
       " 'C62P23N_ThinF_IMG_20150818_133055_cell_184.png',\n",
       " 'C132P93ThinF_IMG_20151004_151701_cell_133.png',\n",
       " 'C59P20thinF_IMG_20150803_111333_cell_178.png',\n",
       " 'C51AP12thinF_IMG_20150724_160140_cell_61.png',\n",
       " 'C99P60ThinF_IMG_20150918_141620_cell_28.png',\n",
       " 'C132P93ThinF_IMG_20151004_152642_cell_11.png',\n",
       " 'C48P9thinF_IMG_20150721_164031_cell_1.png',\n",
       " 'C186P147NThinF_IMG_20151203_150408_cell_177.png',\n",
       " 'C99P60ThinF_IMG_20150918_142334_cell_33.png',\n",
       " 'C159P120ThinF_IMG_20151115_190642_cell_196.png',\n",
       " 'C168P129ThinF_IMG_20151118_155802_cell_153.png',\n",
       " 'C68P29N_ThinF_IMG_20150819_134625_cell_45.png',\n",
       " 'C39P4thinF_original_IMG_20150622_105554_cell_6.png',\n",
       " 'C39P4thinF_original_IMG_20150622_111206_cell_101.png',\n",
       " 'C91P52ThinF_IMG_20150821_124504_cell_191.png',\n",
       " 'C60P21thinF_IMG_20150804_113602_cell_119.png',\n",
       " 'C59P20thinF_IMG_20150803_111333_cell_182.png',\n",
       " 'C70P31_ThinF_IMG_20150813_131330_cell_84.png',\n",
       " 'C129P90ThinF_IMG_20151004_133538_cell_95.png',\n",
       " 'C136P97ThinF_IMG_20151005_144449_cell_19.png',\n",
       " 'C184P145ThinF_IMG_20151203_104030_cell_14.png',\n",
       " 'C176P137NThinF_IMG_20151201_120612_cell_20.png',\n",
       " 'C186P147NThinF_IMG_20151203_150132_cell_192.png',\n",
       " 'C99P60ThinF_IMG_20150918_141001_cell_102.png',\n",
       " 'C184P145ThinF_IMG_20151203_104030_cell_37.png',\n",
       " 'C97P58ThinF_IMG_20150917_151437_cell_173.png',\n",
       " 'C180P141NThinF_IMG_20151201_165423_cell_177.png',\n",
       " 'C189P150ThinF_IMG_20151203_141406_cell_93.png',\n",
       " 'C68P29N_ThinF_IMG_20150819_134504_cell_163.png',\n",
       " 'C68P29N_ThinF_IMG_20150819_133236_cell_197.png',\n",
       " 'C94P55ThinF_IMG_20150821_170021_cell_218.png',\n",
       " 'C99P60ThinF_IMG_20150918_141001_cell_166.png',\n",
       " 'C68P29N_ThinF_IMG_20150819_134625_cell_22.png',\n",
       " 'C180P141NThinF_IMG_20151201_165601_cell_173.png',\n",
       " 'C189P150ThinF_IMG_20151203_141308_cell_70.png',\n",
       " 'C78P39ThinF_IMG_20150606_103459_cell_172.png',\n",
       " 'C140P101ThinF_IMG_20151005_205406_cell_173.png',\n",
       " 'C180P141NThinF_IMG_20151201_163702_cell_199.png',\n",
       " 'C39P4thinF_original_IMG_20150622_105335_cell_3.png',\n",
       " 'C101P62ThinF_IMG_20150918_151335_cell_77.png',\n",
       " 'C70P31_ThinF_IMG_20150819_141403_cell_96.png',\n",
       " 'C99P60ThinF_IMG_20150918_141857_cell_9.png',\n",
       " 'C180P141NThinF_IMG_20151201_163848_cell_148.png',\n",
       " 'C39P4thinF_original_IMG_20150622_105554_cell_22.png',\n",
       " 'C129P90ThinF_IMG_20151004_134306_cell_139.png',\n",
       " 'C114P75ThinF_IMG_20150930_151150_cell_178.png',\n",
       " 'C82P43ThinF_IMG_20150817_123824_cell_183.png',\n",
       " 'C139P100ThinF_IMG_20151005_183601_cell_151.png',\n",
       " 'C70P31_ThinF_IMG_20150813_131330_cell_83.png',\n",
       " 'C84P45ThinF_IMG_20150818_101257_cell_89.png',\n",
       " 'C132P93ThinF_IMG_20151004_151941_cell_39.png',\n",
       " 'C189P150ThinF_IMG_20151203_141809_cell_90.png',\n",
       " 'C51AP12thinF_IMG_20150724_160140_cell_64.png',\n",
       " 'C82P43ThinF_IMG_20150817_125326_cell_18.png',\n",
       " 'C188P149ThinF_IMG_20151203_134419_cell_194.png',\n",
       " 'C39P4thinF_original_IMG_20150622_114122_cell_5.png',\n",
       " 'C159P120ThinF_IMG_20151115_191301_cell_233.png',\n",
       " 'C110P71ThinF_IMG_20150930_105559_cell_199.png',\n",
       " 'C159P120ThinF_IMG_20151115_185541_cell_176.png',\n",
       " 'C129P90ThinF_IMG_20151004_133244_cell_108.png',\n",
       " 'C116P77ThinF_IMG_20150930_171448_cell_112.png',\n",
       " 'C37BP2_thinF_IMG_20150620_132847a_cell_76.png',\n",
       " 'C103P64ThinF_IMG_20150918_165510_cell_177.png',\n",
       " 'C124P85ThinF_IMG_20151002_155223_cell_166.png',\n",
       " 'C183P144NThinF_IMG_20151201_224107_cell_122.png',\n",
       " 'C84P45ThinF_IMG_20150818_102800_cell_8.png',\n",
       " 'C182P143NThinF_IMG_20151201_172759_cell_31.png',\n",
       " 'C175P136NThinF_IMG_20151127_142009_cell_223.png',\n",
       " 'C186P147NThinF_IMG_20151203_150408_cell_183.png',\n",
       " 'C129P90ThinF_IMG_20151004_134520_cell_116.png',\n",
       " 'C184P145ThinF_IMG_20151203_102721_cell_6.png',\n",
       " 'C120P81ThinF_IMG_20151002_130715_cell_186.png',\n",
       " 'C140P101ThinF_IMG_20151005_210309_cell_183.png',\n",
       " 'C59P20thinF_IMG_20150803_112802_cell_164.png',\n",
       " 'C105P66ThinF_IMG_20150924_100655_cell_123.png',\n",
       " 'C130P91ThinF_IMG_20151004_142951_cell_146.png',\n",
       " 'C93P54ThinF_IMG_20150821_163815_cell_214.png',\n",
       " 'C39P4thinF_original_IMG_20150622_110352_cell_99.png',\n",
       " 'C149P110ThinF_IMG_20151115_114629_cell_273.png',\n",
       " 'C183P144NThinF_IMG_20151201_224107_cell_126.png',\n",
       " 'C184P145ThinF_IMG_20151203_104440_cell_33.png',\n",
       " 'C112P73ThinF_IMG_20150930_131659_cell_193.png',\n",
       " 'C173P134NThinF_IMG_20151130_125501_cell_258.png',\n",
       " 'C168P129ThinF_IMG_20151118_161940_cell_156.png',\n",
       " 'C186P147NThinF_IMG_20151203_150132_cell_203.png',\n",
       " 'C180P141NThinF_IMG_20151201_165528_cell_175.png',\n",
       " 'C134P95ThinF_IMG_20151005_122552_cell_123.png',\n",
       " 'C76P37ThinF_IMG_20150815_171454_cell_246.png',\n",
       " 'C106P67ThinF_IMG_20150924_102826_cell_143.png',\n",
       " 'C182P143NThinF_IMG_20151201_172607_cell_18.png',\n",
       " 'C70P31_ThinF_IMG_20150813_131457_cell_4.png',\n",
       " 'C70P31_ThinF_IMG_20150819_141730_cell_103.png',\n",
       " 'C82P43ThinF_IMG_20150817_123652_cell_214.png',\n",
       " 'C66P27N_ThinF_IMG_20150818_164754_cell_201.png',\n",
       " 'C89P50ThinF_IMG_20150820_163728_cell_195.png',\n",
       " 'C189P150ThinF_IMG_20151203_142224_cell_95.png',\n",
       " 'C167P128ReThinF_IMG_20151201_105354_cell_238.png',\n",
       " 'C97P58ThinF_IMG_20150917_151512_cell_167.png',\n",
       " 'C48P9thinF_IMG_20150721_160406_cell_235.png',\n",
       " 'C182P143NThinF_IMG_20151201_172257_cell_198.png',\n",
       " 'C82P43ThinF_IMG_20150817_123500_cell_236.png',\n",
       " 'C119P80ThinF_IMG_20151002_122720_cell_172.png',\n",
       " 'C189P150ThinF_IMG_20151203_141406_cell_95.png',\n",
       " 'C59P20thinF_IMG_20150803_111244_cell_174.png',\n",
       " 'C166P127ThinF_IMG_20151117_194932_cell_225.png',\n",
       " 'C116P77ThinF_IMG_20150930_171558_cell_126.png',\n",
       " 'C39P4thinF_original_IMG_20150622_111206_cell_78.png',\n",
       " 'C83P44ThinF_IMG_20150817_133609_cell_172.png',\n",
       " 'C132P93ThinF_IMG_20151004_152045_cell_127.png',\n",
       " 'C116P77ThinF_IMG_20150930_171809_cell_78.png',\n",
       " 'C47P8thin_Original_Motic_IMG_20150714_094054_cell_189.png',\n",
       " 'C59P20thinF_IMG_20150803_112733_cell_215.png',\n",
       " 'C78P39ThinF_IMG_20150606_103459_cell_173.png',\n",
       " 'C180P141NThinF_IMG_20151201_163751_cell_146.png',\n",
       " 'C184P145ThinF_IMG_20151203_103114_cell_156.png',\n",
       " 'C183P144NThinF_IMG_20151201_223758_cell_131.png',\n",
       " 'C180P141NThinF_IMG_20151201_163751_cell_183.png',\n",
       " 'C48P9thinF_IMG_20150721_160944_cell_206.png',\n",
       " 'C59P20thinF_IMG_20150803_112802_cell_178.png',\n",
       " 'C136P97ThinF_IMG_20151005_141552_cell_2.png',\n",
       " 'C117P78ThinF_IMG_20150930_214629_cell_104.png',\n",
       " 'C68P29N_ThinF_IMG_20150819_133447_cell_137.png',\n",
       " 'C180P141NThinF_IMG_20151201_163848_cell_184.png',\n",
       " 'C132P93ThinF_IMG_20151004_151811_cell_163.png',\n",
       " 'C84P45ThinF_IMG_20150818_101056_cell_106.png',\n",
       " 'C144P105ThinF_IMG_20151015_160529_cell_273.png',\n",
       " 'C133P94ThinF_IMG_20151004_154351_cell_111.png',\n",
       " 'C173P134NThinF_IMG_20151130_125408_cell_271.png',\n",
       " 'C176P137NThinF_IMG_20151201_122444_cell_121.png',\n",
       " 'C89P50ThinF_IMG_20150820_162504_cell_193.png',\n",
       " 'C132P93ThinF_IMG_20151004_152808_cell_4.png',\n",
       " 'C76P37ThinF_IMG_20150815_172808_cell_230.png',\n",
       " 'C96P57ThinF_IMG_20150824_112132_cell_191.png',\n",
       " 'C107P68ThinF_IMG_20150924_221632_cell_174.png',\n",
       " 'C97P58ThinF_IMG_20150917_152032_cell_173.png',\n",
       " 'C70P31_ThinF_IMG_20150813_131022_cell_93.png',\n",
       " 'C97P58ThinF_IMG_20150917_150838_cell_161.png',\n",
       " 'C48P9thinF_IMG_20150721_161243_cell_156.png',\n",
       " 'C101P62ThinF_IMG_20150923_170344_cell_81.png',\n",
       " 'C182P143NThinF_IMG_20151201_171905_cell_141.png',\n",
       " 'C179P140ThinF_IMG_20151127_153453_cell_187.png',\n",
       " 'C105P66ThinF_IMG_20150924_095034_cell_148.png',\n",
       " 'C159P120ThinF_IMG_20151115_190642_cell_199.png',\n",
       " 'C82P43ThinF_IMG_20150817_125326_cell_9.png',\n",
       " 'C180P141NThinF_IMG_20151201_165453_cell_20.png',\n",
       " 'C133P94ThinF_IMG_20151004_155012_cell_16.png',\n",
       " 'C132P93ThinF_IMG_20151004_152642_cell_28.png',\n",
       " 'C51AP12thinF_IMG_20150724_154243_cell_127.png',\n",
       " 'C187P148NThinF_IMG_20151203_154111_cell_129.png',\n",
       " 'C80P41ThinF_IMG_20150817_110834_cell_135.png',\n",
       " 'C68P29N_ThinF_IMG_20150819_134112_cell_114.png',\n",
       " 'C97P58ThinF_IMG_20150917_151437_cell_164.png',\n",
       " 'C181P142ThinF_IMG_20151127_160650_cell_176.png',\n",
       " 'C92P53ThinF_IMG_20150821_150457_cell_252.png',\n",
       " 'C68P29N_ThinF_IMG_20150819_134504_cell_148.png',\n",
       " 'C56P17thinF_IMG_20150728_160623_cell_147.png',\n",
       " 'C39P4thinF_original_IMG_20150622_113446_cell_28.png',\n",
       " 'C164P125ThinF_IMG_20151116_115604_cell_1.png',\n",
       " 'C137P98ThinF_IMG_20151005_163218_cell_87.png',\n",
       " 'C92P53ThinF_IMG_20150821_151224_cell_209.png',\n",
       " 'C99P60ThinF_IMG_20150918_141001_cell_159.png',\n",
       " 'C159P120ThinF_IMG_20151115_190421_cell_199.png',\n",
       " 'C182P143NThinF_IMG_20151201_171836_cell_184.png',\n",
       " 'C107P68ThinF_IMG_20150924_221632_cell_177.png',\n",
       " 'C145P106ThinF_IMG_20151016_154756_cell_116.png',\n",
       " 'C68P29N_ThinF_IMG_20150819_134326_cell_155.png',\n",
       " 'C175P136NThinF_IMG_20151127_142009_cell_236.png',\n",
       " 'C76P37ThinF_IMG_20150815_173019_cell_227.png',\n",
       " 'C118P79ThinF_IMG_20151002_105827_cell_141.png',\n",
       " 'C144P105ThinF_IMG_20151015_155004_cell_311.png',\n",
       " 'C184P145ThinF_IMG_20151203_104030_cell_23.png',\n",
       " 'C99P60ThinF_IMG_20150918_141314_cell_115.png',\n",
       " 'C82P43ThinF_IMG_20150817_123500_cell_223.png',\n",
       " 'C48P9thinF_IMG_20150721_161412_cell_185.png',\n",
       " 'C176P137NThinF_IMG_20151201_122811_cell_159.png',\n",
       " 'C175P136NThinF_IMG_20151127_141253_cell_252.png',\n",
       " 'C101P62ThinF_IMG_20150923_170110_cell_9.png',\n",
       " 'C99P60ThinF_IMG_20150918_142334_cell_16.png',\n",
       " 'C70P31_ThinF_IMG_20150813_130332_cell_98.png',\n",
       " 'C39P4thinF_original_IMG_20150622_111942_cell_4.png',\n",
       " 'C116P77ThinF_IMG_20150930_171635_cell_89.png',\n",
       " 'C118P79ThinF_IMG_20151002_104831_cell_160.png',\n",
       " 'C128P89ThinF_IMG_20151004_130408_cell_152.png',\n",
       " 'C181P142ThinF_IMG_20151127_160650_cell_180.png',\n",
       " 'C182P143NThinF_IMG_20151201_172759_cell_32.png',\n",
       " 'C48P9thinF_IMG_20150721_161412_cell_182.png',\n",
       " 'C51AP12thinF_IMG_20150724_155046_cell_95.png',\n",
       " 'C184P145ThinF_IMG_20151203_104153_cell_133.png',\n",
       " 'C126P87ThinF_IMG_20151004_105844_cell_150.png',\n",
       " 'C176P137NThinF_IMG_20151201_114235_cell_1.png',\n",
       " 'C184P145ThinF_IMG_20151203_103637_cell_143.png',\n",
       " 'C149P110ThinF_IMG_20151115_115154_cell_255.png',\n",
       " 'C39P4thinF_original_IMG_20150622_114609_cell_11.png',\n",
       " 'C78P39ThinF_IMG_20150606_104426_cell_156.png',\n",
       " 'C143P104ThinF_IMG_20151005_225623_cell_171.png',\n",
       " 'C80P41ThinF_IMG_20150817_110608_cell_157.png',\n",
       " 'C180P141NThinF_IMG_20151201_163751_cell_150.png',\n",
       " 'C84P45ThinF_IMG_20150818_101056_cell_110.png',\n",
       " 'C114P75ThinF_IMG_20150930_150145_cell_159.png',\n",
       " 'C129P90ThinF_IMG_20151004_134700_cell_1.png',\n",
       " 'C182P143NThinF_IMG_20151201_172216_cell_179.png',\n",
       " 'C149P110ThinF_IMG_20151115_114729_cell_261.png',\n",
       " 'C113P74ThinF_IMG_20150930_134614_cell_175.png',\n",
       " 'C68P29N_ThinF_IMG_20150819_134712_cell_68.png',\n",
       " 'C181P142ThinF_IMG_20151127_160539_cell_194.png',\n",
       " 'C99P60ThinF_IMG_20150918_141620_cell_58.png',\n",
       " 'C132P93ThinF_IMG_20151004_151701_cell_153.png',\n",
       " 'C63P24N_ThinF_IMG_20150818_144456_cell_178.png',\n",
       " 'C80P41ThinF_IMG_20150817_110834_cell_127.png',\n",
       " 'C141P102ThinF_IMG_20151005_215906_cell_120.png',\n",
       " 'C68P29N_ThinF_IMG_20150819_134504_cell_105.png',\n",
       " 'C182P143NThinF_IMG_20151201_171836_cell_163.png',\n",
       " 'C130P91ThinF_IMG_20151004_142709_cell_125.png',\n",
       " 'C136P97ThinF_IMG_20151005_144727_cell_116.png',\n",
       " 'C46P7ThinF_IMG_20151130_210309_cell_159.png',\n",
       " 'C129P90ThinF_IMG_20151004_134306_cell_129.png',\n",
       " 'C70P31_ThinF_IMG_20150813_130332_cell_108.png',\n",
       " 'C163P124ThinF_IMG_20151116_110818_cell_280.png',\n",
       " 'C183P144NThinF_IMG_20151201_223357_cell_144.png',\n",
       " 'C140P101ThinF_IMG_20151005_211735_cell_162.png',\n",
       " 'C84P45ThinF_IMG_20150818_101903_cell_1.png',\n",
       " 'C97P58ThinF_IMG_20150917_145555_cell_182.png',\n",
       " 'C84P45ThinF_IMG_20150818_104849_cell_23.png',\n",
       " 'C128P89ThinF_IMG_20151004_130810_cell_146.png',\n",
       " 'C180P141NThinF_IMG_20151201_165659_cell_6.png',\n",
       " 'C184P145ThinF_IMG_20151203_104334_cell_44.png',\n",
       " 'C84P45ThinF_IMG_20150818_104156_cell_122.png',\n",
       " 'C116P77ThinF_IMG_20150930_171954_cell_109.png',\n",
       " 'C103P64ThinF_IMG_20150918_165510_cell_186.png',\n",
       " 'C136P97ThinF_IMG_20151005_143329_cell_99.png',\n",
       " 'C59P20thinF_IMG_20150803_113139_cell_47.png',\n",
       " 'C128P89ThinF_IMG_20151004_131231_cell_143.png',\n",
       " 'C59P20thinF_IMG_20150803_113430_cell_41.png',\n",
       " 'C116P77ThinF_IMG_20150930_171739_cell_78.png',\n",
       " 'C102P63ThinF_IMG_20150918_161826_cell_171.png',\n",
       " 'C136P97ThinF_IMG_20151005_143743_cell_107.png',\n",
       " 'C188P149ThinF_IMG_20151203_134419_cell_196.png',\n",
       " 'C129P90ThinF_IMG_20151004_134636_cell_19.png',\n",
       " 'C82P43ThinF_IMG_20150817_125326_cell_2.png',\n",
       " 'C76P37ThinF_IMG_20150815_172902_cell_212.png',\n",
       " 'C132P93ThinF_IMG_20151004_151941_cell_2.png',\n",
       " 'C130P91ThinF_IMG_20151004_142709_cell_130.png',\n",
       " 'C52P13thinF_IMG_20150725_125213_cell_171.png',\n",
       " 'C148P109ThinF_IMG_20151115_112333_cell_245.png',\n",
       " 'C137P98ThinF_IMG_20151005_161449_cell_2.png',\n",
       " 'C99P60ThinF_IMG_20150918_141520_cell_119.png',\n",
       " 'C140P101ThinF_IMG_20151005_205406_cell_172.png',\n",
       " 'C99P60ThinF_IMG_20150918_141351_cell_126.png',\n",
       " 'C184P145ThinF_IMG_20151203_102721_cell_14.png',\n",
       " 'C176P137NThinF_IMG_20151201_114035_cell_123.png',\n",
       " 'C46P7ThinF_IMG_20151130_210743_cell_155.png',\n",
       " 'C189P150ThinF_IMG_20151203_140902_cell_117.png',\n",
       " 'C136P97ThinF_IMG_20151005_140646_cell_122.png',\n",
       " 'C59P20thinF_IMG_20150803_112858_cell_184.png',\n",
       " 'C51AP12thinF_IMG_20150724_162636_cell_78.png',\n",
       " 'C129P90ThinF_IMG_20151004_134944_cell_6.png',\n",
       " 'C100P61ThinF_IMG_20150918_144348_cell_141.png',\n",
       " 'C182P143NThinF_IMG_20151201_171950_cell_214.png',\n",
       " 'C39P4thinF_original_IMG_20150622_105253_cell_101.png',\n",
       " 'C89P50ThinF_IMG_20150820_162300_cell_208.png',\n",
       " 'C97P58ThinF_IMG_20150917_151320_cell_144.png',\n",
       " 'C68P29N_ThinF_IMG_20150819_134625_cell_55.png',\n",
       " 'C91P52ThinF_IMG_20150821_124504_cell_204.png',\n",
       " 'C180P141NThinF_IMG_20151201_170110_cell_5.png',\n",
       " 'C79P40ThinF_IMG_20150817_103303_cell_157.png',\n",
       " 'C99P60ThinF_IMG_20150918_141620_cell_13.png',\n",
       " 'C99P60ThinF_IMG_20150918_141620_cell_48.png',\n",
       " 'C48P9thinF_IMG_20150721_163810_cell_18.png',\n",
       " 'C172P133ThinF_IMG_20151119_155156_cell_264.png',\n",
       " 'C176P137NThinF_IMG_20151201_114035_cell_134.png',\n",
       " 'C112P73ThinF_IMG_20150930_131900_cell_175.png',\n",
       " 'C80P41ThinF_IMG_20150817_111121_cell_152.png',\n",
       " 'C180P141NThinF_IMG_20151201_163751_cell_153.png',\n",
       " 'C174P135NThinF_IMG_20151127_135554_cell_187.png',\n",
       " 'C97P58ThinF_IMG_20150917_152437_cell_10.png',\n",
       " 'C80P41ThinF_IMG_20150817_111246_cell_135.png',\n",
       " 'C133P94ThinF_IMG_20151004_155518_cell_124.png',\n",
       " 'C98P59ThinF_IMG_20150917_154235_cell_209.png',\n",
       " 'C168P129ThinF_IMG_20151118_154651_cell_139.png',\n",
       " 'C115P76ThinF_IMG_20150930_161825_cell_221.png',\n",
       " 'C104P65ThinF_IMG_20150918_171751_cell_186.png',\n",
       " 'C77P38ThinF_IMG_20150602_143650_cell_153.png',\n",
       " 'C66P27N_ThinF_IMG_20150818_164408_cell_136.png',\n",
       " 'C80P41ThinF_IMG_20150817_111544_cell_123.png',\n",
       " 'C158P119ThinF_IMG_20151115_181558_cell_199.png',\n",
       " 'C182P143NThinF_IMG_20151201_172057_cell_176.png',\n",
       " 'C179P140ThinF_IMG_20151127_153436_cell_174.png',\n",
       " 'C123P84ThinF_IMG_20151002_151432_cell_159.png',\n",
       " 'C184P145ThinF_IMG_20151203_104334_cell_45.png',\n",
       " 'C70P31_ThinF_IMG_20150813_130510_cell_84.png',\n",
       " 'C184P145ThinF_IMG_20151203_104440_cell_6.png',\n",
       " 'C182P143NThinF_IMG_20151201_172257_cell_177.png',\n",
       " 'C84P45ThinF_IMG_20150818_101056_cell_111.png',\n",
       " 'C99P60ThinF_IMG_20150918_141857_cell_22.png',\n",
       " 'C172P133ThinF_IMG_20151119_154936_cell_262.png',\n",
       " 'C101P62ThinF_IMG_20150918_151239_cell_93.png',\n",
       " 'C85P46ThinF_IMG_20150820_105301_cell_256.png',\n",
       " 'C68P29N_ThinF_IMG_20150819_134504_cell_152.png',\n",
       " 'C39P4thinF_original_IMG_20150622_110352_cell_100.png',\n",
       " 'C68P29N_ThinF_IMG_20150819_133236_cell_202.png',\n",
       " 'C129P90ThinF_IMG_20151004_134636_cell_3.png',\n",
       " 'C101P62ThinF_IMG_20150923_165215_cell_1.png',\n",
       " 'C84P45ThinF_IMG_20150818_104849_cell_3.png',\n",
       " 'C80P41ThinF_IMG_20150817_110957_cell_155.png',\n",
       " 'C184P145ThinF_IMG_20151203_102405_cell_162.png',\n",
       " 'C52P13thinF_IMG_20150725_125847_cell_169.png',\n",
       " 'C68P29N_ThinF_IMG_20150819_134326_cell_153.png',\n",
       " 'C48P9thinF_IMG_20150721_161412_cell_178.png',\n",
       " 'C137P98ThinF_IMG_20151005_155704_cell_62.png',\n",
       " 'C68P29N_ThinF_IMG_20150819_133236_cell_176.png',\n",
       " 'C39P4thinF_original_IMG_20150622_111326_cell_18.png',\n",
       " 'C132P93ThinF_IMG_20151004_151941_cell_8.png',\n",
       " 'C51AP12thinF_IMG_20150724_161126_cell_118.png',\n",
       " 'C182P143NThinF_IMG_20151201_171950_cell_212.png',\n",
       " 'C118P79ThinF_IMG_20151002_105827_cell_151.png',\n",
       " 'C60P21thinF_IMG_20150804_105955_cell_122.png',\n",
       " 'C182P143NThinF_IMG_20151201_172759_cell_10.png',\n",
       " 'C182P143NThinF_IMG_20151201_172759_cell_51.png',\n",
       " 'C128P89ThinF_IMG_20151004_130549_cell_147.png',\n",
       " 'C89P50ThinF_IMG_20150820_163728_cell_196.png',\n",
       " 'C145P106ThinF_IMG_20151016_154309_cell_149.png',\n",
       " 'C179P140ThinF_IMG_20151127_153819_cell_171.png',\n",
       " 'C146P107ThinF_IMG_20151018_135846_cell_220.png',\n",
       " 'C140P101ThinF_IMG_20151005_211530_cell_153.png',\n",
       " 'C101P62ThinF_IMG_20150918_151239_cell_92.png',\n",
       " 'C91P52ThinF_IMG_20150821_125154_cell_208.png',\n",
       " 'C89P50ThinF_IMG_20150820_162153_cell_196.png',\n",
       " 'C68P29N_ThinF_IMG_20150819_134712_cell_61.png',\n",
       " 'C133P94ThinF_IMG_20151004_154717_cell_138.png',\n",
       " 'C39P4thinF_original_IMG_20150622_113446_cell_26.png',\n",
       " 'C76P37ThinF_IMG_20150815_171454_cell_255.png',\n",
       " 'C136P97ThinF_IMG_20151005_141552_cell_13.png',\n",
       " 'C180P141NThinF_IMG_20151201_165423_cell_175.png',\n",
       " 'C137P98ThinF_IMG_20151005_162348_cell_4.png',\n",
       " 'C39P4thinF_original_IMG_20150622_114609_cell_7.png',\n",
       " 'C39P4thinF_original_IMG_20150622_110435_cell_95.png',\n",
       " 'C182P143NThinF_IMG_20151201_172524_cell_197.png',\n",
       " 'C184P145ThinF_IMG_20151203_104153_cell_137.png',\n",
       " 'C48P9thinF_IMG_20150721_160406_cell_227.png',\n",
       " 'C113P74ThinF_IMG_20150930_135904_cell_181.png',\n",
       " 'C184P145ThinF_IMG_20151203_103326_cell_138.png',\n",
       " 'C82P43ThinF_IMG_20150817_124010_cell_187.png',\n",
       " 'C80P41ThinF_IMG_20150817_111802_cell_12.png',\n",
       " 'C183P144NThinF_IMG_20151201_223208_cell_111.png',\n",
       " 'C91P52ThinF_IMG_20150821_125423_cell_25.png',\n",
       " 'C118P79ThinF_IMG_20151002_110725_cell_140.png',\n",
       " 'C59P20thinF_IMG_20150803_113051_cell_165.png',\n",
       " 'C48P9thinF_IMG_20150721_163810_cell_1.png',\n",
       " 'C185P146ThinF_IMG_20151203_110933_cell_230.png',\n",
       " 'C39P4thinF_original_IMG_20150622_105554_cell_1.png',\n",
       " 'C180P141NThinF_IMG_20151201_165423_cell_159.png',\n",
       " 'C76P37ThinF_IMG_20150815_171214_cell_200.png',\n",
       " 'C60P21thinF_IMG_20150803_144629_cell_9.png',\n",
       " 'C93P54ThinF_IMG_20150821_162901_cell_195.png',\n",
       " 'C181P142ThinF_IMG_20151127_160650_cell_182.png',\n",
       " 'C70P31_ThinF_IMG_20150813_131708_cell_7.png',\n",
       " 'C184P145ThinF_IMG_20151203_103114_cell_169.png',\n",
       " 'C172P133ThinF_IMG_20151119_155156_cell_259.png',\n",
       " 'C107P68ThinF_IMG_20150924_222415_cell_183.png',\n",
       " 'C76P37ThinF_IMG_20150815_172902_cell_217.png',\n",
       " 'C137P98ThinF_IMG_20151005_162648_cell_7.png',\n",
       " 'C97P58ThinF_IMG_20150917_152437_cell_6.png',\n",
       " 'C76P37ThinF_IMG_20150815_172902_cell_213.png',\n",
       " 'C91P52ThinF_IMG_20150821_124311_cell_16.png',\n",
       " 'C175P136NThinF_IMG_20151127_142326_cell_234.png',\n",
       " 'C51AP12thinF_IMG_20150724_155046_cell_90.png',\n",
       " 'C133P94ThinF_IMG_20151004_154919_cell_145.png',\n",
       " 'C92P53ThinF_IMG_20150821_151646_cell_205.png',\n",
       " 'C182P143NThinF_IMG_20151201_172759_cell_24.png',\n",
       " 'C124P85ThinF_IMG_20151002_153825_cell_193.png',\n",
       " 'C136P97ThinF_IMG_20151005_143329_cell_96.png',\n",
       " 'C128P89ThinF_IMG_20151004_131632_cell_173.png',\n",
       " 'C179P140ThinF_IMG_20151127_153436_cell_178.png',\n",
       " 'C182P143NThinF_IMG_20151201_172257_cell_170.png',\n",
       " 'C172P133ThinF_IMG_20151119_155019_cell_236.png',\n",
       " 'C181P142ThinF_IMG_20151127_155914_cell_156.png',\n",
       " 'C68P29N_ThinF_IMG_20150819_134326_cell_127.png',\n",
       " 'C62P23N_ThinF_IMG_20150818_132811_cell_197.png',\n",
       " ...]"
      ]
     },
     "execution_count": 26,
     "metadata": {},
     "output_type": "execute_result"
    }
   ],
   "source": [
    "os.listdir(os.path.join(train_path,'parasitized'))"
   ]
  },
  {
   "cell_type": "code",
   "execution_count": 28,
   "metadata": {
    "colab": {
     "base_uri": "https://localhost:8080/"
    },
    "executionInfo": {
     "elapsed": 6,
     "status": "ok",
     "timestamp": 1663878900530,
     "user": {
      "displayName": "Edward Williams",
      "userId": "15751998290745019023"
     },
     "user_tz": -120
    },
    "id": "U3zWAaJRsl9N",
    "outputId": "2056e508-bc5d-455d-b87f-36a8cf2a38bf"
   },
   "outputs": [
    {
     "data": {
      "text/plain": [
       "(12479, 12479)"
      ]
     },
     "execution_count": 28,
     "metadata": {},
     "output_type": "execute_result"
    }
   ],
   "source": [
    "len(os.listdir(os.path.join(train_path,'parasitized'))), len(os.listdir(os.path.join(train_path,'uninfected')))"
   ]
  },
  {
   "cell_type": "code",
   "execution_count": 30,
   "metadata": {
    "colab": {
     "base_uri": "https://localhost:8080/"
    },
    "executionInfo": {
     "elapsed": 405,
     "status": "ok",
     "timestamp": 1663878931895,
     "user": {
      "displayName": "Edward Williams",
      "userId": "15751998290745019023"
     },
     "user_tz": -120
    },
    "id": "pQluIckosl9O",
    "outputId": "2047bd70-94e2-400f-c174-fcbd66ff3223"
   },
   "outputs": [
    {
     "data": {
      "text/plain": [
       "(1300, 1300)"
      ]
     },
     "execution_count": 30,
     "metadata": {},
     "output_type": "execute_result"
    }
   ],
   "source": [
    "len(os.listdir(os.path.join(test_path,'parasitized'))), len(os.listdir(os.path.join(test_path,'uninfected')))"
   ]
  },
  {
   "cell_type": "code",
   "execution_count": null,
   "metadata": {
    "colab": {
     "base_uri": "https://localhost:8080/"
    },
    "executionInfo": {
     "elapsed": 37,
     "status": "ok",
     "timestamp": 1663622652757,
     "user": {
      "displayName": "John Bay",
      "userId": "18207726099240828133"
     },
     "user_tz": -180
    },
    "id": "nz_3zdr4avaP",
    "outputId": "60469d95-0eca-4a81-dad1-69a9b60977ef"
   },
   "outputs": [
    {
     "name": "stdout",
     "output_type": "stream",
     "text": [
      "There are 2 directories and 0 images in 'cell_images'.\n",
      "There are 2 directories and 0 images in 'cell_images/train'.\n",
      "There are 0 directories and 12479 images in 'cell_images/train/parasitized'.\n",
      "There are 0 directories and 12479 images in 'cell_images/train/uninfected'.\n",
      "There are 2 directories and 0 images in 'cell_images/test'.\n",
      "There are 0 directories and 1300 images in 'cell_images/test/parasitized'.\n",
      "There are 0 directories and 1300 images in 'cell_images/test/uninfected'.\n"
     ]
    }
   ],
   "source": [
    "# Walk through cell_images directory and list number of files\n",
    "for dirpath, dirnames, filenames in os.walk(my_data_dir):\n",
    "  print(f\"There are {len(dirnames)} directories and {len(filenames)} images in '{dirpath}'.\")"
   ]
  },
  {
   "cell_type": "code",
   "execution_count": 31,
   "metadata": {
    "colab": {
     "base_uri": "https://localhost:8080/"
    },
    "executionInfo": {
     "elapsed": 6,
     "status": "ok",
     "timestamp": 1663879067486,
     "user": {
      "displayName": "Edward Williams",
      "userId": "15751998290745019023"
     },
     "user_tz": -120
    },
    "id": "qtJs_F0d6kCy",
    "outputId": "45919115-891e-4c43-e2e8-1aa600a925a7"
   },
   "outputs": [
    {
     "name": "stdout",
     "output_type": "stream",
     "text": [
      "There are 2 directories and NO images in 'cell_images'.\n",
      "There are 2 directories and NO images in 'cell_images/train'.\n",
      "There are 0 directories and 12479 images in 'cell_images/train/uninfected'.\n",
      "There are 0 directories and 12479 images in 'cell_images/train/parasitized'.\n",
      "There are 2 directories and NO images in 'cell_images/test'.\n",
      "There are 0 directories and 1300 images in 'cell_images/test/uninfected'.\n",
      "There are 0 directories and 1300 images in 'cell_images/test/parasitized'.\n"
     ]
    }
   ],
   "source": [
    "# Walk through cell_images directory and list number of files\n",
    "for dirpath, dirnames, filenames in os.walk(my_data_dir):\n",
    "  if filenames:\n",
    "    print(f\"There are {len(dirnames)} directories and {len(filenames)} images in '{dirpath}'.\")\n",
    "  else:\n",
    "    print(f\"There are {len(dirnames)} directories and NO images in '{dirpath}'.\")"
   ]
  },
  {
   "cell_type": "markdown",
   "metadata": {
    "id": "2docX2FutRHv"
   },
   "source": [
    "**Let's take an example images from both train-parasitized and train-uninfected folders to observe process** "
   ]
  },
  {
   "cell_type": "code",
   "execution_count": 15,
   "metadata": {
    "colab": {
     "base_uri": "https://localhost:8080/"
    },
    "executionInfo": {
     "elapsed": 220,
     "status": "ok",
     "timestamp": 1663889496675,
     "user": {
      "displayName": "Edward Williams",
      "userId": "15751998290745019023"
     },
     "user_tz": -120
    },
    "id": "wUZcZtQWsl9I",
    "outputId": "9d9bfc07-41aa-4cc7-9af2-1639e0e11c1d"
   },
   "outputs": [
    {
     "data": {
      "text/plain": [
       "['C133P94ThinF_IMG_20151004_155518_cell_110.png',\n",
       " 'C116P77ThinF_IMG_20150930_171558_cell_92.png',\n",
       " 'C128P89ThinF_IMG_20151004_131030_cell_154.png',\n",
       " 'C59P20thinF_IMG_20150803_112802_cell_156.png',\n",
       " 'C56P17thinF_IMG_20150728_155921_cell_112.png',\n",
       " 'C68P29N_ThinF_IMG_20150819_133350_cell_146.png',\n",
       " 'C129P90ThinF_IMG_20151004_134944_cell_18.png',\n",
       " 'C62P23N_ThinF_IMG_20150818_132811_cell_194.png',\n",
       " 'C59P20thinF_IMG_20150803_112733_cell_165.png',\n",
       " 'C146P107ThinF_IMG_20151018_134554_cell_251.png']"
      ]
     },
     "execution_count": 15,
     "metadata": {},
     "output_type": "execute_result"
    }
   ],
   "source": [
    "os.listdir(os.path.join(train_path,'parasitized'))[:10]"
   ]
  },
  {
   "cell_type": "code",
   "execution_count": 16,
   "metadata": {
    "colab": {
     "base_uri": "https://localhost:8080/",
     "height": 36
    },
    "executionInfo": {
     "elapsed": 10,
     "status": "ok",
     "timestamp": 1663889496914,
     "user": {
      "displayName": "Edward Williams",
      "userId": "15751998290745019023"
     },
     "user_tz": -120
    },
    "id": "90IdG6knsl9J",
    "outputId": "b9e6f54d-1437-4e1b-c7b5-9387816cfcad"
   },
   "outputs": [
    {
     "data": {
      "application/vnd.google.colaboratory.intrinsic+json": {
       "type": "string"
      },
      "text/plain": [
       "'C68P29N_ThinF_IMG_20150819_133350_cell_146.png'"
      ]
     },
     "execution_count": 16,
     "metadata": {},
     "output_type": "execute_result"
    }
   ],
   "source": [
    "os.listdir(os.path.join(train_path,'parasitized'))[5]"
   ]
  },
  {
   "cell_type": "code",
   "execution_count": 17,
   "metadata": {
    "executionInfo": {
     "elapsed": 217,
     "status": "ok",
     "timestamp": 1663889520910,
     "user": {
      "displayName": "Edward Williams",
      "userId": "15751998290745019023"
     },
     "user_tz": -120
    },
    "id": "rKvIiLAssl9J"
   },
   "outputs": [],
   "source": [
    "para_cell_path = os.path.join(train_path,'parasitized','C68P29N_ThinF_IMG_20150819_134504_cell_120.png')"
   ]
  },
  {
   "cell_type": "code",
   "execution_count": 18,
   "metadata": {
    "colab": {
     "base_uri": "https://localhost:8080/",
     "height": 36
    },
    "executionInfo": {
     "elapsed": 234,
     "status": "ok",
     "timestamp": 1663889522908,
     "user": {
      "displayName": "Edward Williams",
      "userId": "15751998290745019023"
     },
     "user_tz": -120
    },
    "id": "L5V2hllmsl9J",
    "outputId": "49173be4-c10f-43f8-8017-5e8ff2d3c1cf"
   },
   "outputs": [
    {
     "data": {
      "application/vnd.google.colaboratory.intrinsic+json": {
       "type": "string"
      },
      "text/plain": [
       "'cell_images/train/parasitized/C68P29N_ThinF_IMG_20150819_134504_cell_120.png'"
      ]
     },
     "execution_count": 18,
     "metadata": {},
     "output_type": "execute_result"
    }
   ],
   "source": [
    "para_cell_path"
   ]
  },
  {
   "cell_type": "code",
   "execution_count": 19,
   "metadata": {
    "colab": {
     "base_uri": "https://localhost:8080/"
    },
    "executionInfo": {
     "elapsed": 223,
     "status": "ok",
     "timestamp": 1663889542214,
     "user": {
      "displayName": "Edward Williams",
      "userId": "15751998290745019023"
     },
     "user_tz": -120
    },
    "id": "bgtb1aRfsl9K",
    "outputId": "ff2c50d5-15e7-4e72-951d-6a63a5eed7bc"
   },
   "outputs": [
    {
     "data": {
      "text/plain": [
       "array([[[0., 0., 0.],\n",
       "        [0., 0., 0.],\n",
       "        [0., 0., 0.],\n",
       "        ...,\n",
       "        [0., 0., 0.],\n",
       "        [0., 0., 0.],\n",
       "        [0., 0., 0.]],\n",
       "\n",
       "       [[0., 0., 0.],\n",
       "        [0., 0., 0.],\n",
       "        [0., 0., 0.],\n",
       "        ...,\n",
       "        [0., 0., 0.],\n",
       "        [0., 0., 0.],\n",
       "        [0., 0., 0.]],\n",
       "\n",
       "       [[0., 0., 0.],\n",
       "        [0., 0., 0.],\n",
       "        [0., 0., 0.],\n",
       "        ...,\n",
       "        [0., 0., 0.],\n",
       "        [0., 0., 0.],\n",
       "        [0., 0., 0.]],\n",
       "\n",
       "       ...,\n",
       "\n",
       "       [[0., 0., 0.],\n",
       "        [0., 0., 0.],\n",
       "        [0., 0., 0.],\n",
       "        ...,\n",
       "        [0., 0., 0.],\n",
       "        [0., 0., 0.],\n",
       "        [0., 0., 0.]],\n",
       "\n",
       "       [[0., 0., 0.],\n",
       "        [0., 0., 0.],\n",
       "        [0., 0., 0.],\n",
       "        ...,\n",
       "        [0., 0., 0.],\n",
       "        [0., 0., 0.],\n",
       "        [0., 0., 0.]],\n",
       "\n",
       "       [[0., 0., 0.],\n",
       "        [0., 0., 0.],\n",
       "        [0., 0., 0.],\n",
       "        ...,\n",
       "        [0., 0., 0.],\n",
       "        [0., 0., 0.],\n",
       "        [0., 0., 0.]]], dtype=float32)"
      ]
     },
     "execution_count": 19,
     "metadata": {},
     "output_type": "execute_result"
    }
   ],
   "source": [
    "imread(para_cell_path)"
   ]
  },
  {
   "cell_type": "code",
   "execution_count": 20,
   "metadata": {
    "executionInfo": {
     "elapsed": 344,
     "status": "ok",
     "timestamp": 1663889557402,
     "user": {
      "displayName": "Edward Williams",
      "userId": "15751998290745019023"
     },
     "user_tz": -120
    },
    "id": "GsObRYqksl9K"
   },
   "outputs": [],
   "source": [
    "para_cell = imread(para_cell_path)"
   ]
  },
  {
   "cell_type": "code",
   "execution_count": 21,
   "metadata": {
    "colab": {
     "base_uri": "https://localhost:8080/",
     "height": 377
    },
    "executionInfo": {
     "elapsed": 757,
     "status": "ok",
     "timestamp": 1663889583954,
     "user": {
      "displayName": "Edward Williams",
      "userId": "15751998290745019023"
     },
     "user_tz": -120
    },
    "id": "7E8cwW2osl9K",
    "outputId": "33ff36f5-3ed7-4f28-aa25-0d420160c39d"
   },
   "outputs": [
    {
     "data": {
      "image/png": "[encoded data removed]",
      "text/plain": [
       "<Figure size 720x432 with 1 Axes>"
      ]
     },
     "metadata": {},
     "output_type": "display_data"
    }
   ],
   "source": [
    "plt.imshow(para_cell)\n",
    "plt.show()"
   ]
  },
  {
   "cell_type": "code",
   "execution_count": 22,
   "metadata": {
    "colab": {
     "base_uri": "https://localhost:8080/"
    },
    "executionInfo": {
     "elapsed": 223,
     "status": "ok",
     "timestamp": 1663889624606,
     "user": {
      "displayName": "Edward Williams",
      "userId": "15751998290745019023"
     },
     "user_tz": -120
    },
    "id": "XDpeTqBdsl9L",
    "outputId": "84469c0d-bdea-48bb-8ec9-0e92497ba5a4"
   },
   "outputs": [
    {
     "data": {
      "text/plain": [
       "(172, 154, 3)"
      ]
     },
     "execution_count": 22,
     "metadata": {},
     "output_type": "execute_result"
    }
   ],
   "source": [
    "para_cell.shape"
   ]
  },
  {
   "cell_type": "code",
   "execution_count": 23,
   "metadata": {
    "colab": {
     "base_uri": "https://localhost:8080/"
    },
    "executionInfo": {
     "elapsed": 228,
     "status": "ok",
     "timestamp": 1663889742193,
     "user": {
      "displayName": "Edward Williams",
      "userId": "15751998290745019023"
     },
     "user_tz": -120
    },
    "id": "pj1xYpfksl9M",
    "outputId": "f3092234-b6ef-42a1-a447-f46759ba89ba"
   },
   "outputs": [
    {
     "data": {
      "text/plain": [
       "['C63P24N_ThinF_IMG_20150818_143544_cell_125.png',\n",
       " 'C215ThinF_IMG_20151106_133247_cell_214.png',\n",
       " 'C145P106ThinF_IMG_20151016_154921_cell_10.png',\n",
       " 'C99P60ThinF_IMG_20150918_141351_cell_53.png',\n",
       " 'C46P7ThinF_IMG_20151130_205558_cell_49.png',\n",
       " 'C71P32_ThinF_IMG_20150813_163120_cell_135.png',\n",
       " 'C94P55ThinF_IMG_20150821_165118_cell_125.png',\n",
       " 'C215ThinF_IMG_20151106_133643_cell_18.png',\n",
       " 'C214ThinF_IMG_20151106_114526_cell_147.png',\n",
       " 'C134P95ThinF_IMG_20151005_121656_cell_75.png']"
      ]
     },
     "execution_count": 23,
     "metadata": {},
     "output_type": "execute_result"
    }
   ],
   "source": [
    "os.listdir(os.path.join(train_path,'uninfected'))[:10]"
   ]
  },
  {
   "cell_type": "code",
   "execution_count": 24,
   "metadata": {
    "executionInfo": {
     "elapsed": 556,
     "status": "ok",
     "timestamp": 1663889808332,
     "user": {
      "displayName": "Edward Williams",
      "userId": "15751998290745019023"
     },
     "user_tz": -120
    },
    "id": "scyqIWQmsl9M"
   },
   "outputs": [],
   "source": [
    "uninfected_cell_path = os.path.join(train_path,'uninfected',os.listdir(os.path.join(train_path,'uninfected'))[5])"
   ]
  },
  {
   "cell_type": "code",
   "execution_count": 25,
   "metadata": {
    "colab": {
     "base_uri": "https://localhost:8080/"
    },
    "executionInfo": {
     "elapsed": 6,
     "status": "ok",
     "timestamp": 1663889808561,
     "user": {
      "displayName": "Edward Williams",
      "userId": "15751998290745019023"
     },
     "user_tz": -120
    },
    "id": "8sac1keAsl9M",
    "outputId": "b3543884-13e2-43c3-d0eb-12e3081b4987"
   },
   "outputs": [
    {
     "data": {
      "text/plain": [
       "array([[[0., 0., 0.],\n",
       "        [0., 0., 0.],\n",
       "        [0., 0., 0.],\n",
       "        ...,\n",
       "        [0., 0., 0.],\n",
       "        [0., 0., 0.],\n",
       "        [0., 0., 0.]],\n",
       "\n",
       "       [[0., 0., 0.],\n",
       "        [0., 0., 0.],\n",
       "        [0., 0., 0.],\n",
       "        ...,\n",
       "        [0., 0., 0.],\n",
       "        [0., 0., 0.],\n",
       "        [0., 0., 0.]],\n",
       "\n",
       "       [[0., 0., 0.],\n",
       "        [0., 0., 0.],\n",
       "        [0., 0., 0.],\n",
       "        ...,\n",
       "        [0., 0., 0.],\n",
       "        [0., 0., 0.],\n",
       "        [0., 0., 0.]],\n",
       "\n",
       "       ...,\n",
       "\n",
       "       [[0., 0., 0.],\n",
       "        [0., 0., 0.],\n",
       "        [0., 0., 0.],\n",
       "        ...,\n",
       "        [0., 0., 0.],\n",
       "        [0., 0., 0.],\n",
       "        [0., 0., 0.]],\n",
       "\n",
       "       [[0., 0., 0.],\n",
       "        [0., 0., 0.],\n",
       "        [0., 0., 0.],\n",
       "        ...,\n",
       "        [0., 0., 0.],\n",
       "        [0., 0., 0.],\n",
       "        [0., 0., 0.]],\n",
       "\n",
       "       [[0., 0., 0.],\n",
       "        [0., 0., 0.],\n",
       "        [0., 0., 0.],\n",
       "        ...,\n",
       "        [0., 0., 0.],\n",
       "        [0., 0., 0.],\n",
       "        [0., 0., 0.]]], dtype=float32)"
      ]
     },
     "execution_count": 25,
     "metadata": {},
     "output_type": "execute_result"
    }
   ],
   "source": [
    "imread(uninfected_cell_path)"
   ]
  },
  {
   "cell_type": "code",
   "execution_count": 26,
   "metadata": {
    "colab": {
     "base_uri": "https://localhost:8080/",
     "height": 377
    },
    "executionInfo": {
     "elapsed": 710,
     "status": "ok",
     "timestamp": 1663889829150,
     "user": {
      "displayName": "Edward Williams",
      "userId": "15751998290745019023"
     },
     "user_tz": -120
    },
    "id": "GYQ6VT4Esl9N",
    "outputId": "aff3a1b8-3ee8-4ea2-9ced-5004498db860"
   },
   "outputs": [
    {
     "data": {
      "image/png": "[encoded data removed]",
      "text/plain": [
       "<Figure size 720x432 with 1 Axes>"
      ]
     },
     "metadata": {},
     "output_type": "display_data"
    }
   ],
   "source": [
    "#plt.imshow(imread(uninfected_cell_path));\n",
    "uninfected_cell = imread(uninfected_cell_path)\n",
    "plt.imshow(uninfected_cell);"
   ]
  },
  {
   "cell_type": "code",
   "execution_count": 27,
   "metadata": {
    "colab": {
     "base_uri": "https://localhost:8080/"
    },
    "executionInfo": {
     "elapsed": 237,
     "status": "ok",
     "timestamp": 1663889845404,
     "user": {
      "displayName": "Edward Williams",
      "userId": "15751998290745019023"
     },
     "user_tz": -120
    },
    "id": "GREBe_GIrZtp",
    "outputId": "b82dbb61-609f-451a-c023-8457aa5dbfc9"
   },
   "outputs": [
    {
     "data": {
      "text/plain": [
       "(136, 130, 3)"
      ]
     },
     "execution_count": 27,
     "metadata": {},
     "output_type": "execute_result"
    }
   ],
   "source": [
    "uninfected_cell.shape"
   ]
  },
  {
   "cell_type": "code",
   "execution_count": 28,
   "metadata": {
    "executionInfo": {
     "elapsed": 227,
     "status": "ok",
     "timestamp": 1663889909950,
     "user": {
      "displayName": "Edward Williams",
      "userId": "15751998290745019023"
     },
     "user_tz": -120
    },
    "id": "E0jEJVskgsKG"
   },
   "outputs": [],
   "source": [
    "# View a random image\n",
    "import random\n",
    "\n",
    "def view_random_image(target_dir, target_class):\n",
    "  # Setup target directory (we'll view images from here)\n",
    "  target_folder = os.path.join(target_dir,target_class)\n",
    "\n",
    "  # Get a random image path\n",
    "  random_image = random.sample(os.listdir(target_folder), 1)\n",
    "\n",
    "  # Read in the image and plot it using matplotlib\n",
    "  # img = imread(target_folder + \"/\" + random_image[0])\n",
    "  img = imread(os.path.join(target_folder, random_image[0]))\n",
    "  plt.imshow(img)\n",
    "  plt.title(target_class)\n",
    "  plt.axis(\"off\");\n",
    "\n",
    "  print(f\"Image shape: {img.shape}\") # show the shape of the image\n",
    "\n",
    "  return img"
   ]
  },
  {
   "cell_type": "code",
   "execution_count": 29,
   "metadata": {
    "colab": {
     "base_uri": "https://localhost:8080/",
     "height": 391
    },
    "executionInfo": {
     "elapsed": 847,
     "status": "ok",
     "timestamp": 1663889928351,
     "user": {
      "displayName": "Edward Williams",
      "userId": "15751998290745019023"
     },
     "user_tz": -120
    },
    "id": "khW2E0HmgsUe",
    "outputId": "6c21a45c-cf83-4987-b69f-d2ba6155c51d"
   },
   "outputs": [
    {
     "name": "stdout",
     "output_type": "stream",
     "text": [
      "Image shape: (124, 109, 3)\n"
     ]
    },
    {
     "data": {
      "image/png": "[encoded data removed]",
      "text/plain": [
       "<Figure size 720x432 with 1 Axes>"
      ]
     },
     "metadata": {},
     "output_type": "display_data"
    }
   ],
   "source": [
    "# View a random image from the training dataset\n",
    "img = view_random_image(target_dir=train_path,\n",
    "                        target_class=\"parasitized\")"
   ]
  },
  {
   "cell_type": "code",
   "execution_count": 30,
   "metadata": {
    "colab": {
     "base_uri": "https://localhost:8080/",
     "height": 391
    },
    "executionInfo": {
     "elapsed": 348,
     "status": "ok",
     "timestamp": 1663889939428,
     "user": {
      "displayName": "Edward Williams",
      "userId": "15751998290745019023"
     },
     "user_tz": -120
    },
    "id": "BcEpw1GPgseo",
    "outputId": "44c4f417-6a27-4ee9-9777-ec68ea723fc9"
   },
   "outputs": [
    {
     "name": "stdout",
     "output_type": "stream",
     "text": [
      "Image shape: (91, 115, 3)\n"
     ]
    },
    {
     "data": {
      "image/png": "[encoded data removed]",
      "text/plain": [
       "<Figure size 720x432 with 1 Axes>"
      ]
     },
     "metadata": {},
     "output_type": "display_data"
    }
   ],
   "source": [
    "# View a random image from the training dataset\n",
    "img = view_random_image(target_dir=train_path,\n",
    "                        target_class=\"uninfected\")"
   ]
  },
  {
   "cell_type": "code",
   "execution_count": 31,
   "metadata": {
    "colab": {
     "base_uri": "https://localhost:8080/",
     "height": 391
    },
    "executionInfo": {
     "elapsed": 497,
     "status": "ok",
     "timestamp": 1663889980137,
     "user": {
      "displayName": "Edward Williams",
      "userId": "15751998290745019023"
     },
     "user_tz": -120
    },
    "id": "KwuIL3FdAXlZ",
    "outputId": "10f89803-2847-49cf-a046-c3cba5b2ce65"
   },
   "outputs": [
    {
     "name": "stdout",
     "output_type": "stream",
     "text": [
      "Image shape: (118, 121, 3)\n"
     ]
    },
    {
     "data": {
      "image/png": "[encoded data removed]",
      "text/plain": [
       "<Figure size 720x432 with 1 Axes>"
      ]
     },
     "metadata": {},
     "output_type": "display_data"
    }
   ],
   "source": [
    "# View a random image from the training dataset\n",
    "import random\n",
    "img = view_random_image(target_dir=train_path,\n",
    "                        target_class=random.choice(class_names)) # get a random class name"
   ]
  },
  {
   "cell_type": "markdown",
   "metadata": {
    "id": "7qmejxHxsl9O"
   },
   "source": [
    "# Data Preprocessing"
   ]
  },
  {
   "cell_type": "markdown",
   "metadata": {
    "id": "LH--CKJ0sl9O"
   },
   "source": [
    "## Defining Input Shape"
   ]
  },
  {
   "cell_type": "markdown",
   "metadata": {
    "id": "FXz_fh0bsl9O"
   },
   "source": [
    "**Let's decide on the final dimension of these images.**"
   ]
  },
  {
   "cell_type": "code",
   "execution_count": 32,
   "metadata": {
    "colab": {
     "base_uri": "https://localhost:8080/"
    },
    "executionInfo": {
     "elapsed": 356,
     "status": "ok",
     "timestamp": 1663890003119,
     "user": {
      "displayName": "Edward Williams",
      "userId": "15751998290745019023"
     },
     "user_tz": -120
    },
    "id": "yedwAw8Jsl9P",
    "outputId": "23758b6c-255e-4dfd-dc00-55006be34c44"
   },
   "outputs": [
    {
     "data": {
      "text/plain": [
       "(136, 130, 3)"
      ]
     },
     "execution_count": 32,
     "metadata": {},
     "output_type": "execute_result"
    }
   ],
   "source": [
    "uninfected_cell.shape"
   ]
  },
  {
   "cell_type": "code",
   "execution_count": 33,
   "metadata": {
    "colab": {
     "base_uri": "https://localhost:8080/"
    },
    "executionInfo": {
     "elapsed": 4,
     "status": "ok",
     "timestamp": 1663890007005,
     "user": {
      "displayName": "Edward Williams",
      "userId": "15751998290745019023"
     },
     "user_tz": -120
    },
    "id": "zpfsabyPsl9P",
    "outputId": "4eeb20fa-3d27-4a4f-96e4-60dcea92253f"
   },
   "outputs": [
    {
     "data": {
      "text/plain": [
       "(172, 154, 3)"
      ]
     },
     "execution_count": 33,
     "metadata": {},
     "output_type": "execute_result"
    }
   ],
   "source": [
    "para_cell.shape"
   ]
  },
  {
   "cell_type": "markdown",
   "metadata": {
    "cellView": "code",
    "executionInfo": {
     "elapsed": 16,
     "status": "ok",
     "timestamp": 1649265829189,
     "user": {
      "displayName": "Steve Wallace",
      "userId": "06741533186265949524"
     },
     "user_tz": -180
    },
    "id": "c1MICswflLpO",
    "outputId": "976efc35-690f-4c05-a758-e70d72df7d9e"
   },
   "source": [
    "x = []\n",
    "y = []\n",
    "\n",
    "for image in os.listdir(train_path+'uninfected'):\n",
    "    img = imread(train_path+'uninfected/'+image)\n",
    "    d1,d2,_ = img.shape\n",
    "    x.append(d1)\n",
    "    y.append(d2)"
   ]
  },
  {
   "cell_type": "code",
   "execution_count": 34,
   "metadata": {
    "executionInfo": {
     "elapsed": 27543,
     "status": "ok",
     "timestamp": 1663890065146,
     "user": {
      "displayName": "Edward Williams",
      "userId": "15751998290745019023"
     },
     "user_tz": -120
    },
    "id": "Cnndjp3hsl9Q"
   },
   "outputs": [],
   "source": [
    "x = [imread(os.path.join(train_path,'uninfected',image)).shape[0] for image in os.listdir(os.path.join(train_path,'uninfected')) if 'Thumbs.db' not in image]\n",
    "y = [imread(os.path.join(train_path,'uninfected',image)).shape[1] for image in os.listdir(os.path.join(train_path,'uninfected')) if 'Thumbs.db' not in image]"
   ]
  },
  {
   "cell_type": "code",
   "execution_count": 62,
   "metadata": {
    "colab": {
     "base_uri": "https://localhost:8080/"
    },
    "executionInfo": {
     "elapsed": 395,
     "status": "ok",
     "timestamp": 1663880121204,
     "user": {
      "displayName": "Edward Williams",
      "userId": "15751998290745019023"
     },
     "user_tz": -120
    },
    "id": "I8coq5Crsl9R",
    "outputId": "9dabfed2-aa02-4c69-b47b-d812b3619bb0"
   },
   "outputs": [
    {
     "data": {
      "text/plain": [
       "[142, 127, 127, 121, 115]"
      ]
     },
     "execution_count": 62,
     "metadata": {},
     "output_type": "execute_result"
    }
   ],
   "source": [
    "x[:5]"
   ]
  },
  {
   "cell_type": "code",
   "execution_count": 35,
   "metadata": {
    "colab": {
     "base_uri": "https://localhost:8080/",
     "height": 430
    },
    "executionInfo": {
     "elapsed": 712,
     "status": "ok",
     "timestamp": 1663890076305,
     "user": {
      "displayName": "Edward Williams",
      "userId": "15751998290745019023"
     },
     "user_tz": -120
    },
    "id": "RZ1WZ16Osl9R",
    "outputId": "056ebfd2-0220-4fe5-f06e-65725e5e21fb"
   },
   "outputs": [
    {
     "name": "stderr",
     "output_type": "stream",
     "text": [
      "/usr/local/lib/python3.7/dist-packages/seaborn/_decorators.py:43: FutureWarning: Pass the following variables as keyword args: x, y. From version 0.12, the only valid positional argument will be `data`, and passing other arguments without an explicit keyword will result in an error or misinterpretation.\n",
      "  FutureWarning\n"
     ]
    },
    {
     "data": {
      "image/png": "[encoded data removed]",
      "text/plain": [
       "<Figure size 720x432 with 1 Axes>"
      ]
     },
     "metadata": {},
     "output_type": "display_data"
    }
   ],
   "source": [
    "sns.scatterplot(x,y);"
   ]
  },
  {
   "cell_type": "code",
   "execution_count": 36,
   "metadata": {
    "colab": {
     "base_uri": "https://localhost:8080/"
    },
    "executionInfo": {
     "elapsed": 505,
     "status": "ok",
     "timestamp": 1663890122178,
     "user": {
      "displayName": "Edward Williams",
      "userId": "15751998290745019023"
     },
     "user_tz": -120
    },
    "id": "CE2dIZyesl9R",
    "outputId": "f536dfa0-100e-4fae-d3da-a690eb447fc7"
   },
   "outputs": [
    {
     "data": {
      "text/plain": [
       "(131.64820899110507, 130.0)"
      ]
     },
     "execution_count": 36,
     "metadata": {},
     "output_type": "execute_result"
    }
   ],
   "source": [
    "np.mean(x), np.median(x)"
   ]
  },
  {
   "cell_type": "code",
   "execution_count": 37,
   "metadata": {
    "colab": {
     "base_uri": "https://localhost:8080/"
    },
    "executionInfo": {
     "elapsed": 5,
     "status": "ok",
     "timestamp": 1663890122421,
     "user": {
      "displayName": "Edward Williams",
      "userId": "15751998290745019023"
     },
     "user_tz": -120
    },
    "id": "j-hPSXm7sl9R",
    "outputId": "03714948-c7e8-47da-847b-f189671344aa"
   },
   "outputs": [
    {
     "data": {
      "text/plain": [
       "(131.4041990544114, 130.0)"
      ]
     },
     "execution_count": 37,
     "metadata": {},
     "output_type": "execute_result"
    }
   ],
   "source": [
    "np.mean(y), np.median(y)"
   ]
  },
  {
   "cell_type": "code",
   "execution_count": 38,
   "metadata": {
    "executionInfo": {
     "elapsed": 241,
     "status": "ok",
     "timestamp": 1663890202337,
     "user": {
      "displayName": "Edward Williams",
      "userId": "15751998290745019023"
     },
     "user_tz": -120
    },
    "id": "XZipjtXssl9S"
   },
   "outputs": [],
   "source": [
    "image_shape = (130,130,3)"
   ]
  },
  {
   "cell_type": "markdown",
   "metadata": {
    "id": "nzfQWmOxsl9S"
   },
   "source": [
    "## Scaling"
   ]
  },
  {
   "cell_type": "markdown",
   "metadata": {
    "id": "mKfeQeWbsl9S"
   },
   "source": [
    "**Let's check the images if they are needed to be scaled or not**"
   ]
  },
  {
   "cell_type": "code",
   "execution_count": 39,
   "metadata": {
    "colab": {
     "base_uri": "https://localhost:8080/"
    },
    "executionInfo": {
     "elapsed": 5,
     "status": "ok",
     "timestamp": 1663890255783,
     "user": {
      "displayName": "Edward Williams",
      "userId": "15751998290745019023"
     },
     "user_tz": -120
    },
    "id": "Wh48Bd-1sl9S",
    "outputId": "aa0a8246-15ef-44a0-de8f-91c53788baea"
   },
   "outputs": [
    {
     "data": {
      "text/plain": [
       "0.8627451"
      ]
     },
     "execution_count": 39,
     "metadata": {},
     "output_type": "execute_result"
    }
   ],
   "source": [
    "uninfected_cell.max()"
   ]
  },
  {
   "cell_type": "code",
   "execution_count": 40,
   "metadata": {
    "colab": {
     "base_uri": "https://localhost:8080/"
    },
    "executionInfo": {
     "elapsed": 9,
     "status": "ok",
     "timestamp": 1663890256022,
     "user": {
      "displayName": "Edward Williams",
      "userId": "15751998290745019023"
     },
     "user_tz": -120
    },
    "id": "X4lGP4Essl9S",
    "outputId": "d17491b2-1ca9-458e-a634-c2665c848b47"
   },
   "outputs": [
    {
     "data": {
      "text/plain": [
       "0.9372549"
      ]
     },
     "execution_count": 40,
     "metadata": {},
     "output_type": "execute_result"
    }
   ],
   "source": [
    "para_cell.max()"
   ]
  },
  {
   "cell_type": "markdown",
   "metadata": {
    "id": "o-rpBt-ysl9S"
   },
   "source": [
    "As we see above, all images have been already scaled"
   ]
  },
  {
   "cell_type": "markdown",
   "metadata": {
    "id": "wwoyEQxasl9T"
   },
   "source": [
    "## Image Data Generator"
   ]
  },
  {
   "cell_type": "markdown",
   "metadata": {
    "id": "rMtI4ruOtZBS"
   },
   "source": [
    "**Image Manipulation**\n",
    "\n",
    "We can use the ImageDataGenerator to manipulate the images with rotation, resizing, and scaling so the model becomes more robust to different images that our data set doesn't have. ImageDataGenerator does the followings.\n",
    "\n",
    "* Accepts a batch of images used for training.\n",
    "* Applies a series of random transformations to each image in the batch.\n",
    "* Replaces the original batch with randomly transformed batch.\n",
    "* Training the CNN on this randomly transformed batch.\n",
    "\n",
    "The goal of applying data augmentation is to have a more generalized model.\n",
    "\n",
    "Data augmentation is a way to try and prevent a model overfitting. If your model is overfiting (e.g. the validation loss keeps increasing), you may want to try using data augmentation."
   ]
  },
  {
   "cell_type": "code",
   "execution_count": 41,
   "metadata": {
    "executionInfo": {
     "elapsed": 274,
     "status": "ok",
     "timestamp": 1663891361090,
     "user": {
      "displayName": "Edward Williams",
      "userId": "15751998290745019023"
     },
     "user_tz": -120
    },
    "id": "PvfAR41Isl9T"
   },
   "outputs": [],
   "source": [
    "from tensorflow.keras.preprocessing.image import ImageDataGenerator"
   ]
  },
  {
   "cell_type": "code",
   "execution_count": 42,
   "metadata": {
    "executionInfo": {
     "elapsed": 4,
     "status": "ok",
     "timestamp": 1663891373719,
     "user": {
      "displayName": "Edward Williams",
      "userId": "15751998290745019023"
     },
     "user_tz": -120
    },
    "id": "-R0eYE5esl9T"
   },
   "outputs": [],
   "source": [
    "?ImageDataGenerator"
   ]
  },
  {
   "cell_type": "code",
   "execution_count": 43,
   "metadata": {
    "executionInfo": {
     "elapsed": 236,
     "status": "ok",
     "timestamp": 1663891670303,
     "user": {
      "displayName": "Edward Williams",
      "userId": "15751998290745019023"
     },
     "user_tz": -120
    },
    "id": "CG7aykrysl9T"
   },
   "outputs": [],
   "source": [
    "image_gen = ImageDataGenerator(rotation_range=15, \n",
    "                               width_shift_range=0.10, \n",
    "                               height_shift_range=0.10, \n",
    "                               #rescale=1/255, \n",
    "                               shear_range=0.1, \n",
    "                               zoom_range=0.1, \n",
    "                               horizontal_flip=True, \n",
    "                               fill_mode='nearest')"
   ]
  },
  {
   "cell_type": "code",
   "execution_count": 44,
   "metadata": {
    "colab": {
     "base_uri": "https://localhost:8080/",
     "height": 377
    },
    "executionInfo": {
     "elapsed": 844,
     "status": "ok",
     "timestamp": 1663891677645,
     "user": {
      "displayName": "Edward Williams",
      "userId": "15751998290745019023"
     },
     "user_tz": -120
    },
    "id": "hYjJqytGsl9T",
    "outputId": "2d23c83c-10b3-47ab-856d-ff4c580216c4"
   },
   "outputs": [
    {
     "data": {
      "image/png": "[encoded data removed]",
      "text/plain": [
       "<Figure size 720x432 with 1 Axes>"
      ]
     },
     "metadata": {},
     "output_type": "display_data"
    }
   ],
   "source": [
    "plt.imshow(para_cell);"
   ]
  },
  {
   "cell_type": "code",
   "execution_count": 47,
   "metadata": {
    "colab": {
     "base_uri": "https://localhost:8080/",
     "height": 377
    },
    "executionInfo": {
     "elapsed": 531,
     "status": "ok",
     "timestamp": 1663891708518,
     "user": {
      "displayName": "Edward Williams",
      "userId": "15751998290745019023"
     },
     "user_tz": -120
    },
    "id": "EkKJrYeFsl9T",
    "outputId": "618a8f90-95aa-4d8b-de10-990684cff6e5"
   },
   "outputs": [
    {
     "data": {
      "image/png": "[encoded data removed]",
      "text/plain": [
       "<Figure size 720x432 with 1 Axes>"
      ]
     },
     "metadata": {},
     "output_type": "display_data"
    }
   ],
   "source": [
    "plt.imshow(image_gen.random_transform(para_cell));"
   ]
  },
  {
   "cell_type": "markdown",
   "metadata": {
    "id": "NXTR3CIv0qm1"
   },
   "source": [
    "### Taking the path to a directory & Generating batches of augmented data\n",
    "\n",
    "flow_from_directory function works with images organized in sub-directories. Your directories should include only one class of images, so one folder per class of images."
   ]
  },
  {
   "cell_type": "code",
   "execution_count": null,
   "metadata": {
    "id": "7_KXVvrtsl9U"
   },
   "outputs": [],
   "source": [
    "#help(image_gen.flow_from_directory)\n",
    "#Takes the path to a directory & generates batches of augmented data."
   ]
  },
  {
   "cell_type": "code",
   "execution_count": 48,
   "metadata": {
    "colab": {
     "base_uri": "https://localhost:8080/"
    },
    "executionInfo": {
     "elapsed": 1041,
     "status": "ok",
     "timestamp": 1663891899391,
     "user": {
      "displayName": "Edward Williams",
      "userId": "15751998290745019023"
     },
     "user_tz": -120
    },
    "id": "gg7R9FNEsl9U",
    "outputId": "4e8be9c3-ab47-4b20-9a05-af1b98d3a9e5"
   },
   "outputs": [
    {
     "name": "stdout",
     "output_type": "stream",
     "text": [
      "Found 24958 images belonging to 2 classes.\n"
     ]
    },
    {
     "data": {
      "text/plain": [
       "<keras.preprocessing.image.DirectoryIterator at 0x7f17520ab950>"
      ]
     },
     "execution_count": 48,
     "metadata": {},
     "output_type": "execute_result"
    }
   ],
   "source": [
    "image_gen.flow_from_directory(train_path)"
   ]
  },
  {
   "cell_type": "code",
   "execution_count": 49,
   "metadata": {
    "colab": {
     "base_uri": "https://localhost:8080/"
    },
    "executionInfo": {
     "elapsed": 234,
     "status": "ok",
     "timestamp": 1663891935350,
     "user": {
      "displayName": "Edward Williams",
      "userId": "15751998290745019023"
     },
     "user_tz": -120
    },
    "id": "lDqfD0mUsl9U",
    "outputId": "fbc83d34-9a49-4016-8267-da357b9c8744"
   },
   "outputs": [
    {
     "name": "stdout",
     "output_type": "stream",
     "text": [
      "Found 2600 images belonging to 2 classes.\n"
     ]
    },
    {
     "data": {
      "text/plain": [
       "<keras.preprocessing.image.DirectoryIterator at 0x7f1751e66e90>"
      ]
     },
     "execution_count": 49,
     "metadata": {},
     "output_type": "execute_result"
    }
   ],
   "source": [
    "image_gen.flow_from_directory(test_path)"
   ]
  },
  {
   "cell_type": "code",
   "execution_count": 50,
   "metadata": {
    "executionInfo": {
     "elapsed": 213,
     "status": "ok",
     "timestamp": 1663891943618,
     "user": {
      "displayName": "Edward Williams",
      "userId": "15751998290745019023"
     },
     "user_tz": -120
    },
    "id": "uh3j7j6_00ch"
   },
   "outputs": [],
   "source": [
    "batch_size = 32"
   ]
  },
  {
   "cell_type": "code",
   "execution_count": 51,
   "metadata": {
    "colab": {
     "base_uri": "https://localhost:8080/"
    },
    "executionInfo": {
     "elapsed": 241,
     "status": "ok",
     "timestamp": 1663891949349,
     "user": {
      "displayName": "Edward Williams",
      "userId": "15751998290745019023"
     },
     "user_tz": -120
    },
    "id": "c8ELVwKrM0jy",
    "outputId": "4d3093a9-56d3-44a6-8cc5-902bd3cca872"
   },
   "outputs": [
    {
     "data": {
      "text/plain": [
       "(130, 130, 3)"
      ]
     },
     "execution_count": 51,
     "metadata": {},
     "output_type": "execute_result"
    }
   ],
   "source": [
    "image_shape"
   ]
  },
  {
   "cell_type": "code",
   "execution_count": 52,
   "metadata": {
    "colab": {
     "base_uri": "https://localhost:8080/"
    },
    "executionInfo": {
     "elapsed": 1270,
     "status": "ok",
     "timestamp": 1663892109766,
     "user": {
      "displayName": "Edward Williams",
      "userId": "15751998290745019023"
     },
     "user_tz": -120
    },
    "id": "gV4T5jcwsl9U",
    "outputId": "02ef0074-ac64-4bf4-da42-356ed5d656bb"
   },
   "outputs": [
    {
     "name": "stdout",
     "output_type": "stream",
     "text": [
      "Found 24958 images belonging to 2 classes.\n"
     ]
    }
   ],
   "source": [
    "train_image_gen = image_gen.flow_from_directory(directory=train_path,\n",
    "                                                target_size=image_shape[:2],\n",
    "                                                color_mode='rgb',\n",
    "                                                batch_size=batch_size,\n",
    "                                                class_mode='binary',\n",
    "                                                shuffle=True)"
   ]
  },
  {
   "cell_type": "code",
   "execution_count": 53,
   "metadata": {
    "colab": {
     "base_uri": "https://localhost:8080/"
    },
    "executionInfo": {
     "elapsed": 229,
     "status": "ok",
     "timestamp": 1663892144772,
     "user": {
      "displayName": "Edward Williams",
      "userId": "15751998290745019023"
     },
     "user_tz": -120
    },
    "id": "KbbqrT2Asl9U",
    "outputId": "ca326b4c-0077-4466-e237-acefb9d3dbf8"
   },
   "outputs": [
    {
     "name": "stdout",
     "output_type": "stream",
     "text": [
      "Found 2600 images belonging to 2 classes.\n"
     ]
    }
   ],
   "source": [
    "test_image_gen = image_gen.flow_from_directory(directory=test_path,\n",
    "                                               target_size=image_shape[:2],\n",
    "                                               color_mode='rgb',\n",
    "                                               batch_size=batch_size,\n",
    "                                               class_mode='binary',\n",
    "                                               shuffle=False)"
   ]
  },
  {
   "cell_type": "code",
   "execution_count": 54,
   "metadata": {
    "colab": {
     "base_uri": "https://localhost:8080/"
    },
    "executionInfo": {
     "elapsed": 353,
     "status": "ok",
     "timestamp": 1663892173751,
     "user": {
      "displayName": "Edward Williams",
      "userId": "15751998290745019023"
     },
     "user_tz": -120
    },
    "id": "efxzYhpisl9V",
    "outputId": "d948fa30-9890-464c-e0ef-43f109c4851f"
   },
   "outputs": [
    {
     "data": {
      "text/plain": [
       "{'parasitized': 0, 'uninfected': 1}"
      ]
     },
     "execution_count": 54,
     "metadata": {},
     "output_type": "execute_result"
    }
   ],
   "source": [
    "train_image_gen.class_indices"
   ]
  },
  {
   "cell_type": "code",
   "execution_count": 55,
   "metadata": {
    "colab": {
     "base_uri": "https://localhost:8080/"
    },
    "executionInfo": {
     "elapsed": 13,
     "status": "ok",
     "timestamp": 1663892173753,
     "user": {
      "displayName": "Edward Williams",
      "userId": "15751998290745019023"
     },
     "user_tz": -120
    },
    "id": "eE82-YIQUHtE",
    "outputId": "c79ee716-c02c-4b2a-e24b-775aa50026c2"
   },
   "outputs": [
    {
     "data": {
      "text/plain": [
       "{'parasitized': 0, 'uninfected': 1}"
      ]
     },
     "execution_count": 55,
     "metadata": {},
     "output_type": "execute_result"
    }
   ],
   "source": [
    "test_image_gen.class_indices"
   ]
  },
  {
   "cell_type": "code",
   "execution_count": 56,
   "metadata": {
    "colab": {
     "base_uri": "https://localhost:8080/"
    },
    "executionInfo": {
     "elapsed": 213,
     "status": "ok",
     "timestamp": 1663892183958,
     "user": {
      "displayName": "Edward Williams",
      "userId": "15751998290745019023"
     },
     "user_tz": -120
    },
    "id": "B5r91T4hsl9V",
    "outputId": "bba8d031-7472-489d-e72c-7eeb1072deb0"
   },
   "outputs": [
    {
     "data": {
      "text/plain": [
       "<keras.preprocessing.image.DirectoryIterator at 0x7f1751e25390>"
      ]
     },
     "execution_count": 56,
     "metadata": {},
     "output_type": "execute_result"
    }
   ],
   "source": [
    "train_image_gen"
   ]
  },
  {
   "cell_type": "code",
   "execution_count": 88,
   "metadata": {
    "colab": {
     "base_uri": "https://localhost:8080/"
    },
    "executionInfo": {
     "elapsed": 437,
     "status": "ok",
     "timestamp": 1663880503874,
     "user": {
      "displayName": "Edward Williams",
      "userId": "15751998290745019023"
     },
     "user_tz": -120
    },
    "id": "3bchi9hbATna",
    "outputId": "2ed92a98-939e-4dcd-df8f-b2ea2d48b163",
    "scrolled": true,
    "tags": []
   },
   "outputs": [
    {
     "data": {
      "text/plain": [
       "(array([[[[0., 0., 0.],\n",
       "          [0., 0., 0.],\n",
       "          [0., 0., 0.],\n",
       "          ...,\n",
       "          [0., 0., 0.],\n",
       "          [0., 0., 0.],\n",
       "          [0., 0., 0.]],\n",
       " \n",
       "         [[0., 0., 0.],\n",
       "          [0., 0., 0.],\n",
       "          [0., 0., 0.],\n",
       "          ...,\n",
       "          [0., 0., 0.],\n",
       "          [0., 0., 0.],\n",
       "          [0., 0., 0.]],\n",
       " \n",
       "         [[0., 0., 0.],\n",
       "          [0., 0., 0.],\n",
       "          [0., 0., 0.],\n",
       "          ...,\n",
       "          [0., 0., 0.],\n",
       "          [0., 0., 0.],\n",
       "          [0., 0., 0.]],\n",
       " \n",
       "         ...,\n",
       " \n",
       "         [[0., 0., 0.],\n",
       "          [0., 0., 0.],\n",
       "          [0., 0., 0.],\n",
       "          ...,\n",
       "          [0., 0., 0.],\n",
       "          [0., 0., 0.],\n",
       "          [0., 0., 0.]],\n",
       " \n",
       "         [[0., 0., 0.],\n",
       "          [0., 0., 0.],\n",
       "          [0., 0., 0.],\n",
       "          ...,\n",
       "          [0., 0., 0.],\n",
       "          [0., 0., 0.],\n",
       "          [0., 0., 0.]],\n",
       " \n",
       "         [[0., 0., 0.],\n",
       "          [0., 0., 0.],\n",
       "          [0., 0., 0.],\n",
       "          ...,\n",
       "          [0., 0., 0.],\n",
       "          [0., 0., 0.],\n",
       "          [0., 0., 0.]]],\n",
       " \n",
       " \n",
       "        [[[0., 0., 0.],\n",
       "          [0., 0., 0.],\n",
       "          [0., 0., 0.],\n",
       "          ...,\n",
       "          [0., 0., 0.],\n",
       "          [0., 0., 0.],\n",
       "          [0., 0., 0.]],\n",
       " \n",
       "         [[0., 0., 0.],\n",
       "          [0., 0., 0.],\n",
       "          [0., 0., 0.],\n",
       "          ...,\n",
       "          [0., 0., 0.],\n",
       "          [0., 0., 0.],\n",
       "          [0., 0., 0.]],\n",
       " \n",
       "         [[0., 0., 0.],\n",
       "          [0., 0., 0.],\n",
       "          [0., 0., 0.],\n",
       "          ...,\n",
       "          [0., 0., 0.],\n",
       "          [0., 0., 0.],\n",
       "          [0., 0., 0.]],\n",
       " \n",
       "         ...,\n",
       " \n",
       "         [[0., 0., 0.],\n",
       "          [0., 0., 0.],\n",
       "          [0., 0., 0.],\n",
       "          ...,\n",
       "          [0., 0., 0.],\n",
       "          [0., 0., 0.],\n",
       "          [0., 0., 0.]],\n",
       " \n",
       "         [[0., 0., 0.],\n",
       "          [0., 0., 0.],\n",
       "          [0., 0., 0.],\n",
       "          ...,\n",
       "          [0., 0., 0.],\n",
       "          [0., 0., 0.],\n",
       "          [0., 0., 0.]],\n",
       " \n",
       "         [[0., 0., 0.],\n",
       "          [0., 0., 0.],\n",
       "          [0., 0., 0.],\n",
       "          ...,\n",
       "          [0., 0., 0.],\n",
       "          [0., 0., 0.],\n",
       "          [0., 0., 0.]]],\n",
       " \n",
       " \n",
       "        [[[0., 0., 0.],\n",
       "          [0., 0., 0.],\n",
       "          [0., 0., 0.],\n",
       "          ...,\n",
       "          [0., 0., 0.],\n",
       "          [0., 0., 0.],\n",
       "          [0., 0., 0.]],\n",
       " \n",
       "         [[0., 0., 0.],\n",
       "          [0., 0., 0.],\n",
       "          [0., 0., 0.],\n",
       "          ...,\n",
       "          [0., 0., 0.],\n",
       "          [0., 0., 0.],\n",
       "          [0., 0., 0.]],\n",
       " \n",
       "         [[0., 0., 0.],\n",
       "          [0., 0., 0.],\n",
       "          [0., 0., 0.],\n",
       "          ...,\n",
       "          [0., 0., 0.],\n",
       "          [0., 0., 0.],\n",
       "          [0., 0., 0.]],\n",
       " \n",
       "         ...,\n",
       " \n",
       "         [[0., 0., 0.],\n",
       "          [0., 0., 0.],\n",
       "          [0., 0., 0.],\n",
       "          ...,\n",
       "          [0., 0., 0.],\n",
       "          [0., 0., 0.],\n",
       "          [0., 0., 0.]],\n",
       " \n",
       "         [[0., 0., 0.],\n",
       "          [0., 0., 0.],\n",
       "          [0., 0., 0.],\n",
       "          ...,\n",
       "          [0., 0., 0.],\n",
       "          [0., 0., 0.],\n",
       "          [0., 0., 0.]],\n",
       " \n",
       "         [[0., 0., 0.],\n",
       "          [0., 0., 0.],\n",
       "          [0., 0., 0.],\n",
       "          ...,\n",
       "          [0., 0., 0.],\n",
       "          [0., 0., 0.],\n",
       "          [0., 0., 0.]]],\n",
       " \n",
       " \n",
       "        ...,\n",
       " \n",
       " \n",
       "        [[[0., 0., 0.],\n",
       "          [0., 0., 0.],\n",
       "          [0., 0., 0.],\n",
       "          ...,\n",
       "          [0., 0., 0.],\n",
       "          [0., 0., 0.],\n",
       "          [0., 0., 0.]],\n",
       " \n",
       "         [[0., 0., 0.],\n",
       "          [0., 0., 0.],\n",
       "          [0., 0., 0.],\n",
       "          ...,\n",
       "          [0., 0., 0.],\n",
       "          [0., 0., 0.],\n",
       "          [0., 0., 0.]],\n",
       " \n",
       "         [[0., 0., 0.],\n",
       "          [0., 0., 0.],\n",
       "          [0., 0., 0.],\n",
       "          ...,\n",
       "          [0., 0., 0.],\n",
       "          [0., 0., 0.],\n",
       "          [0., 0., 0.]],\n",
       " \n",
       "         ...,\n",
       " \n",
       "         [[0., 0., 0.],\n",
       "          [0., 0., 0.],\n",
       "          [0., 0., 0.],\n",
       "          ...,\n",
       "          [0., 0., 0.],\n",
       "          [0., 0., 0.],\n",
       "          [0., 0., 0.]],\n",
       " \n",
       "         [[0., 0., 0.],\n",
       "          [0., 0., 0.],\n",
       "          [0., 0., 0.],\n",
       "          ...,\n",
       "          [0., 0., 0.],\n",
       "          [0., 0., 0.],\n",
       "          [0., 0., 0.]],\n",
       " \n",
       "         [[0., 0., 0.],\n",
       "          [0., 0., 0.],\n",
       "          [0., 0., 0.],\n",
       "          ...,\n",
       "          [0., 0., 0.],\n",
       "          [0., 0., 0.],\n",
       "          [0., 0., 0.]]],\n",
       " \n",
       " \n",
       "        [[[0., 0., 0.],\n",
       "          [0., 0., 0.],\n",
       "          [0., 0., 0.],\n",
       "          ...,\n",
       "          [0., 0., 0.],\n",
       "          [0., 0., 0.],\n",
       "          [0., 0., 0.]],\n",
       " \n",
       "         [[0., 0., 0.],\n",
       "          [0., 0., 0.],\n",
       "          [0., 0., 0.],\n",
       "          ...,\n",
       "          [0., 0., 0.],\n",
       "          [0., 0., 0.],\n",
       "          [0., 0., 0.]],\n",
       " \n",
       "         [[0., 0., 0.],\n",
       "          [0., 0., 0.],\n",
       "          [0., 0., 0.],\n",
       "          ...,\n",
       "          [0., 0., 0.],\n",
       "          [0., 0., 0.],\n",
       "          [0., 0., 0.]],\n",
       " \n",
       "         ...,\n",
       " \n",
       "         [[0., 0., 0.],\n",
       "          [0., 0., 0.],\n",
       "          [0., 0., 0.],\n",
       "          ...,\n",
       "          [0., 0., 0.],\n",
       "          [0., 0., 0.],\n",
       "          [0., 0., 0.]],\n",
       " \n",
       "         [[0., 0., 0.],\n",
       "          [0., 0., 0.],\n",
       "          [0., 0., 0.],\n",
       "          ...,\n",
       "          [0., 0., 0.],\n",
       "          [0., 0., 0.],\n",
       "          [0., 0., 0.]],\n",
       " \n",
       "         [[0., 0., 0.],\n",
       "          [0., 0., 0.],\n",
       "          [0., 0., 0.],\n",
       "          ...,\n",
       "          [0., 0., 0.],\n",
       "          [0., 0., 0.],\n",
       "          [0., 0., 0.]]],\n",
       " \n",
       " \n",
       "        [[[0., 0., 0.],\n",
       "          [0., 0., 0.],\n",
       "          [0., 0., 0.],\n",
       "          ...,\n",
       "          [0., 0., 0.],\n",
       "          [0., 0., 0.],\n",
       "          [0., 0., 0.]],\n",
       " \n",
       "         [[0., 0., 0.],\n",
       "          [0., 0., 0.],\n",
       "          [0., 0., 0.],\n",
       "          ...,\n",
       "          [0., 0., 0.],\n",
       "          [0., 0., 0.],\n",
       "          [0., 0., 0.]],\n",
       " \n",
       "         [[0., 0., 0.],\n",
       "          [0., 0., 0.],\n",
       "          [0., 0., 0.],\n",
       "          ...,\n",
       "          [0., 0., 0.],\n",
       "          [0., 0., 0.],\n",
       "          [0., 0., 0.]],\n",
       " \n",
       "         ...,\n",
       " \n",
       "         [[0., 0., 0.],\n",
       "          [0., 0., 0.],\n",
       "          [0., 0., 0.],\n",
       "          ...,\n",
       "          [0., 0., 0.],\n",
       "          [0., 0., 0.],\n",
       "          [0., 0., 0.]],\n",
       " \n",
       "         [[0., 0., 0.],\n",
       "          [0., 0., 0.],\n",
       "          [0., 0., 0.],\n",
       "          ...,\n",
       "          [0., 0., 0.],\n",
       "          [0., 0., 0.],\n",
       "          [0., 0., 0.]],\n",
       " \n",
       "         [[0., 0., 0.],\n",
       "          [0., 0., 0.],\n",
       "          [0., 0., 0.],\n",
       "          ...,\n",
       "          [0., 0., 0.],\n",
       "          [0., 0., 0.],\n",
       "          [0., 0., 0.]]]], dtype=float32),\n",
       " array([1., 0., 1., 1., 0., 0., 0., 0., 0., 1., 1., 1., 0., 1., 0., 0., 1.,\n",
       "        1., 0., 0., 0., 0., 1., 0., 1., 1., 1., 1., 1., 0., 1., 1.],\n",
       "       dtype=float32))"
      ]
     },
     "execution_count": 88,
     "metadata": {},
     "output_type": "execute_result"
    }
   ],
   "source": [
    "train_image_gen[0]"
   ]
  },
  {
   "cell_type": "code",
   "execution_count": 57,
   "metadata": {
    "colab": {
     "base_uri": "https://localhost:8080/"
    },
    "executionInfo": {
     "elapsed": 248,
     "status": "ok",
     "timestamp": 1663892320260,
     "user": {
      "displayName": "Edward Williams",
      "userId": "15751998290745019023"
     },
     "user_tz": -120
    },
    "id": "g_tNsaxlsl9V",
    "outputId": "bf45666a-6ae3-4bb7-e36a-e2d57c112c4a"
   },
   "outputs": [
    {
     "data": {
      "text/plain": [
       "(32, 130, 130, 3)"
      ]
     },
     "execution_count": 57,
     "metadata": {},
     "output_type": "execute_result"
    }
   ],
   "source": [
    "train_image_gen[0][0].shape"
   ]
  },
  {
   "cell_type": "code",
   "execution_count": 58,
   "metadata": {
    "colab": {
     "base_uri": "https://localhost:8080/"
    },
    "executionInfo": {
     "elapsed": 228,
     "status": "ok",
     "timestamp": 1663892331908,
     "user": {
      "displayName": "Edward Williams",
      "userId": "15751998290745019023"
     },
     "user_tz": -120
    },
    "id": "w08Vuz9y88iG",
    "outputId": "e336c082-81e5-4b44-e879-5b19d72d71f9"
   },
   "outputs": [
    {
     "data": {
      "text/plain": [
       "(130, 130, 3)"
      ]
     },
     "execution_count": 58,
     "metadata": {},
     "output_type": "execute_result"
    }
   ],
   "source": [
    "train_image_gen[0][0][0].shape"
   ]
  },
  {
   "cell_type": "code",
   "execution_count": 59,
   "metadata": {
    "colab": {
     "base_uri": "https://localhost:8080/"
    },
    "executionInfo": {
     "elapsed": 205,
     "status": "ok",
     "timestamp": 1663892357105,
     "user": {
      "displayName": "Edward Williams",
      "userId": "15751998290745019023"
     },
     "user_tz": -120
    },
    "id": "kBX9wMYasl9V",
    "outputId": "3c12a505-eb18-4893-8cfd-1968d6fb367c"
   },
   "outputs": [
    {
     "data": {
      "text/plain": [
       "(780, 82)"
      ]
     },
     "execution_count": 59,
     "metadata": {},
     "output_type": "execute_result"
    }
   ],
   "source": [
    "len(train_image_gen), len(test_image_gen)"
   ]
  },
  {
   "cell_type": "code",
   "execution_count": 60,
   "metadata": {
    "colab": {
     "base_uri": "https://localhost:8080/"
    },
    "executionInfo": {
     "elapsed": 260,
     "status": "ok",
     "timestamp": 1663892463134,
     "user": {
      "displayName": "Edward Williams",
      "userId": "15751998290745019023"
     },
     "user_tz": -120
    },
    "id": "yfl3Qbm-t_V0",
    "outputId": "71ce72da-1f70-4ff8-f8be-a49f49905921"
   },
   "outputs": [
    {
     "data": {
      "text/plain": [
       "780.0"
      ]
     },
     "execution_count": 60,
     "metadata": {},
     "output_type": "execute_result"
    }
   ],
   "source": [
    "24960/32"
   ]
  },
  {
   "cell_type": "code",
   "execution_count": 92,
   "metadata": {
    "colab": {
     "base_uri": "https://localhost:8080/"
    },
    "executionInfo": {
     "elapsed": 8,
     "status": "ok",
     "timestamp": 1663880542479,
     "user": {
      "displayName": "Edward Williams",
      "userId": "15751998290745019023"
     },
     "user_tz": -120
    },
    "id": "aS4Gj8PGsl9V",
    "outputId": "db3cccab-9727-4c13-ea37-6458012446ae"
   },
   "outputs": [
    {
     "data": {
      "text/plain": [
       "(24960, 2624)"
      ]
     },
     "execution_count": 92,
     "metadata": {},
     "output_type": "execute_result"
    }
   ],
   "source": [
    "len(train_image_gen)*batch_size, len(test_image_gen)*batch_size "
   ]
  },
  {
   "cell_type": "code",
   "execution_count": 93,
   "metadata": {
    "colab": {
     "base_uri": "https://localhost:8080/"
    },
    "executionInfo": {
     "elapsed": 399,
     "status": "ok",
     "timestamp": 1663880577799,
     "user": {
      "displayName": "Edward Williams",
      "userId": "15751998290745019023"
     },
     "user_tz": -120
    },
    "id": "ZkqN1GrZ8QSs",
    "outputId": "1eca5b47-2980-4f7c-f9a9-273422783ab8"
   },
   "outputs": [
    {
     "data": {
      "text/plain": [
       "(32, 32)"
      ]
     },
     "execution_count": 93,
     "metadata": {},
     "output_type": "execute_result"
    }
   ],
   "source": [
    "# Get a sample of the training data batch \n",
    "images, labels = train_image_gen.next() # get the 'next' batch of images/labels\n",
    "len(images), len(labels)"
   ]
  },
  {
   "cell_type": "code",
   "execution_count": 94,
   "metadata": {
    "colab": {
     "base_uri": "https://localhost:8080/"
    },
    "executionInfo": {
     "elapsed": 5,
     "status": "ok",
     "timestamp": 1663880582825,
     "user": {
      "displayName": "Edward Williams",
      "userId": "15751998290745019023"
     },
     "user_tz": -120
    },
    "id": "7UDSmH8F8aBH",
    "outputId": "fc620ab5-f019-4975-869d-708cfd9c6a8d"
   },
   "outputs": [
    {
     "data": {
      "text/plain": [
       "(32, 32)"
      ]
     },
     "execution_count": 94,
     "metadata": {},
     "output_type": "execute_result"
    }
   ],
   "source": [
    "# Get a sample of the testing data batch \n",
    "images, labels = test_image_gen.next() # get the 'next' batch of images/labels\n",
    "len(images), len(labels)"
   ]
  },
  {
   "cell_type": "markdown",
   "metadata": {
    "id": "McnEpbpKsl9W"
   },
   "source": [
    "# Modelling-1"
   ]
  },
  {
   "cell_type": "code",
   "execution_count": 95,
   "metadata": {
    "executionInfo": {
     "elapsed": 1053,
     "status": "ok",
     "timestamp": 1663880588505,
     "user": {
      "displayName": "Edward Williams",
      "userId": "15751998290745019023"
     },
     "user_tz": -120
    },
    "id": "_4wdkY_Csl9W"
   },
   "outputs": [],
   "source": [
    "from tensorflow.keras.models import Sequential\n",
    "from tensorflow.keras.layers import Activation, Dropout, Flatten, Dense, Conv2D, MaxPooling2D\n",
    "from tensorflow.keras.callbacks import EarlyStopping"
   ]
  },
  {
   "cell_type": "code",
   "execution_count": 96,
   "metadata": {
    "executionInfo": {
     "elapsed": 3178,
     "status": "ok",
     "timestamp": 1663880599922,
     "user": {
      "displayName": "Edward Williams",
      "userId": "15751998290745019023"
     },
     "user_tz": -120
    },
    "id": "CQzvmjcEsl9W"
   },
   "outputs": [],
   "source": [
    "model1 = Sequential()\n",
    "\n",
    "model1.add(Conv2D(filters=32, kernel_size=(3,3), input_shape=image_shape, activation='relu'))\n",
    "model1.add(MaxPooling2D(pool_size=(2, 2)))\n",
    "\n",
    "model1.add(Conv2D(filters=64, kernel_size=(3,3), activation='relu'))\n",
    "model1.add(MaxPooling2D(pool_size=(2, 2)))\n",
    "\n",
    "model1.add(Conv2D(filters=64, kernel_size=(3,3), activation='relu'))\n",
    "model1.add(MaxPooling2D(pool_size=(2, 2)))\n",
    "\n",
    "\n",
    "model1.add(Flatten())\n",
    "\n",
    "\n",
    "model1.add(Dense(128))\n",
    "model1.add(Activation('relu'))\n",
    "\n",
    "model1.add(Dropout(0.5))\n",
    "\n",
    "model1.add(Dense(1))\n",
    "model1.add(Activation('sigmoid'))\n",
    "\n",
    "# optimizer = keras.optimizers.Adam(lr=0.01)\n",
    "model1.compile(loss='binary_crossentropy',\n",
    "              optimizer='adam',\n",
    "              metrics=['accuracy'])"
   ]
  },
  {
   "cell_type": "code",
   "execution_count": 97,
   "metadata": {
    "colab": {
     "base_uri": "https://localhost:8080/"
    },
    "executionInfo": {
     "elapsed": 1313,
     "status": "ok",
     "timestamp": 1663880604540,
     "user": {
      "displayName": "Edward Williams",
      "userId": "15751998290745019023"
     },
     "user_tz": -120
    },
    "id": "MHI3EEvXsl9W",
    "outputId": "db4d9181-0464-4467-b400-a98d89df93fe"
   },
   "outputs": [
    {
     "name": "stdout",
     "output_type": "stream",
     "text": [
      "Model: \"sequential\"\n",
      "_________________________________________________________________\n",
      " Layer (type)                Output Shape              Param #   \n",
      "=================================================================\n",
      " conv2d (Conv2D)             (None, 128, 128, 32)      896       \n",
      "                                                                 \n",
      " max_pooling2d (MaxPooling2D  (None, 64, 64, 32)       0         \n",
      " )                                                               \n",
      "                                                                 \n",
      " conv2d_1 (Conv2D)           (None, 62, 62, 64)        18496     \n",
      "                                                                 \n",
      " max_pooling2d_1 (MaxPooling  (None, 31, 31, 64)       0         \n",
      " 2D)                                                             \n",
      "                                                                 \n",
      " conv2d_2 (Conv2D)           (None, 29, 29, 64)        36928     \n",
      "                                                                 \n",
      " max_pooling2d_2 (MaxPooling  (None, 14, 14, 64)       0         \n",
      " 2D)                                                             \n",
      "                                                                 \n",
      " flatten (Flatten)           (None, 12544)             0         \n",
      "                                                                 \n",
      " dense (Dense)               (None, 128)               1605760   \n",
      "                                                                 \n",
      " activation (Activation)     (None, 128)               0         \n",
      "                                                                 \n",
      " dropout (Dropout)           (None, 128)               0         \n",
      "                                                                 \n",
      " dense_1 (Dense)             (None, 1)                 129       \n",
      "                                                                 \n",
      " activation_1 (Activation)   (None, 1)                 0         \n",
      "                                                                 \n",
      "=================================================================\n",
      "Total params: 1,662,209\n",
      "Trainable params: 1,662,209\n",
      "Non-trainable params: 0\n",
      "_________________________________________________________________\n"
     ]
    }
   ],
   "source": [
    "model1.summary()"
   ]
  },
  {
   "cell_type": "code",
   "execution_count": 98,
   "metadata": {
    "executionInfo": {
     "elapsed": 5,
     "status": "ok",
     "timestamp": 1663880609047,
     "user": {
      "displayName": "Edward Williams",
      "userId": "15751998290745019023"
     },
     "user_tz": -120
    },
    "id": "MQEe7W01sl9W"
   },
   "outputs": [],
   "source": [
    "early_stop = EarlyStopping(monitor='val_loss', patience=4, restore_best_weights = True)"
   ]
  },
  {
   "cell_type": "code",
   "execution_count": 99,
   "metadata": {
    "colab": {
     "base_uri": "https://localhost:8080/"
    },
    "executionInfo": {
     "elapsed": 1187560,
     "status": "ok",
     "timestamp": 1663881807955,
     "user": {
      "displayName": "Edward Williams",
      "userId": "15751998290745019023"
     },
     "user_tz": -120
    },
    "id": "ptJFzuyvsl9X",
    "outputId": "49ca321a-4753-4f21-84e2-34b75942c350",
    "scrolled": true
   },
   "outputs": [
    {
     "name": "stdout",
     "output_type": "stream",
     "text": [
      "Epoch 1/10\n",
      "780/780 [==============================] - 129s 150ms/step - loss: 0.4545 - accuracy: 0.8675 - val_loss: 0.2652 - val_accuracy: 0.9046\n",
      "Epoch 2/10\n",
      "780/780 [==============================] - 118s 151ms/step - loss: 0.2251 - accuracy: 0.9276 - val_loss: 0.2204 - val_accuracy: 0.9265\n",
      "Epoch 3/10\n",
      "780/780 [==============================] - 118s 151ms/step - loss: 0.2216 - accuracy: 0.9295 - val_loss: 0.2141 - val_accuracy: 0.9308\n",
      "Epoch 4/10\n",
      "780/780 [==============================] - 117s 151ms/step - loss: 0.2054 - accuracy: 0.9357 - val_loss: 0.1782 - val_accuracy: 0.9450\n",
      "Epoch 5/10\n",
      "780/780 [==============================] - 118s 151ms/step - loss: 0.1872 - accuracy: 0.9419 - val_loss: 0.1796 - val_accuracy: 0.9423\n",
      "Epoch 6/10\n",
      "780/780 [==============================] - 118s 151ms/step - loss: 0.1749 - accuracy: 0.9450 - val_loss: 0.1632 - val_accuracy: 0.9454\n",
      "Epoch 7/10\n",
      "780/780 [==============================] - 117s 150ms/step - loss: 0.1699 - accuracy: 0.9475 - val_loss: 0.1735 - val_accuracy: 0.9423\n",
      "Epoch 8/10\n",
      "780/780 [==============================] - 118s 151ms/step - loss: 0.1651 - accuracy: 0.9467 - val_loss: 0.1655 - val_accuracy: 0.9469\n",
      "Epoch 9/10\n",
      "780/780 [==============================] - 117s 150ms/step - loss: 0.1670 - accuracy: 0.9476 - val_loss: 0.1673 - val_accuracy: 0.9458\n",
      "Epoch 10/10\n",
      "780/780 [==============================] - 117s 150ms/step - loss: 0.1637 - accuracy: 0.9494 - val_loss: 0.2011 - val_accuracy: 0.9312\n"
     ]
    },
    {
     "data": {
      "text/plain": [
       "<keras.callbacks.History at 0x7f8aa83ed490>"
      ]
     },
     "execution_count": 99,
     "metadata": {},
     "output_type": "execute_result"
    }
   ],
   "source": [
    "model1.fit(train_image_gen,\n",
    "          epochs=10,\n",
    "          steps_per_epoch=len(train_image_gen),\n",
    "          validation_data=test_image_gen,\n",
    "          validation_steps=len(test_image_gen),\n",
    "          callbacks=[early_stop])"
   ]
  },
  {
   "cell_type": "code",
   "execution_count": 100,
   "metadata": {
    "colab": {
     "base_uri": "https://localhost:8080/"
    },
    "executionInfo": {
     "elapsed": 1110,
     "status": "ok",
     "timestamp": 1663881896943,
     "user": {
      "displayName": "Edward Williams",
      "userId": "15751998290745019023"
     },
     "user_tz": -120
    },
    "id": "yUXSEkDLsl9X",
    "outputId": "4a6f3340-9e68-41f4-ceb1-2eec2219f3ab"
   },
   "outputs": [
    {
     "data": {
      "text/plain": [
       "['loss', 'accuracy']"
      ]
     },
     "execution_count": 100,
     "metadata": {},
     "output_type": "execute_result"
    }
   ],
   "source": [
    "model1.metrics_names"
   ]
  },
  {
   "cell_type": "code",
   "execution_count": 101,
   "metadata": {
    "colab": {
     "base_uri": "https://localhost:8080/",
     "height": 206
    },
    "executionInfo": {
     "elapsed": 771,
     "status": "ok",
     "timestamp": 1663881901308,
     "user": {
      "displayName": "Edward Williams",
      "userId": "15751998290745019023"
     },
     "user_tz": -120
    },
    "id": "AIykzWBQsl9X",
    "outputId": "d4e09546-26ec-4eba-a553-79232b8e2064"
   },
   "outputs": [
    {
     "data": {
      "text/html": [
       "\n",
       "  <div id=\"df-917fef39-c629-4b05-9c13-576a51d7fbe5\">\n",
       "    <div class=\"colab-df-container\">\n",
       "      <div>\n",
       "<style scoped>\n",
       "    .dataframe tbody tr th:only-of-type {\n",
       "        vertical-align: middle;\n",
       "    }\n",
       "\n",
       "    .dataframe tbody tr th {\n",
       "        vertical-align: top;\n",
       "    }\n",
       "\n",
       "    .dataframe thead th {\n",
       "        text-align: right;\n",
       "    }\n",
       "</style>\n",
       "<table border=\"1\" class=\"dataframe\">\n",
       "  <thead>\n",
       "    <tr style=\"text-align: right;\">\n",
       "      <th></th>\n",
       "      <th>loss</th>\n",
       "      <th>accuracy</th>\n",
       "      <th>val_loss</th>\n",
       "      <th>val_accuracy</th>\n",
       "    </tr>\n",
       "  </thead>\n",
       "  <tbody>\n",
       "    <tr>\n",
       "      <th>0</th>\n",
       "      <td>0.4545</td>\n",
       "      <td>0.8675</td>\n",
       "      <td>0.2652</td>\n",
       "      <td>0.9046</td>\n",
       "    </tr>\n",
       "    <tr>\n",
       "      <th>1</th>\n",
       "      <td>0.2251</td>\n",
       "      <td>0.9276</td>\n",
       "      <td>0.2204</td>\n",
       "      <td>0.9265</td>\n",
       "    </tr>\n",
       "    <tr>\n",
       "      <th>2</th>\n",
       "      <td>0.2216</td>\n",
       "      <td>0.9295</td>\n",
       "      <td>0.2141</td>\n",
       "      <td>0.9308</td>\n",
       "    </tr>\n",
       "    <tr>\n",
       "      <th>3</th>\n",
       "      <td>0.2054</td>\n",
       "      <td>0.9357</td>\n",
       "      <td>0.1782</td>\n",
       "      <td>0.9450</td>\n",
       "    </tr>\n",
       "    <tr>\n",
       "      <th>4</th>\n",
       "      <td>0.1872</td>\n",
       "      <td>0.9419</td>\n",
       "      <td>0.1796</td>\n",
       "      <td>0.9423</td>\n",
       "    </tr>\n",
       "  </tbody>\n",
       "</table>\n",
       "</div>\n",
       "      <button class=\"colab-df-convert\" onclick=\"convertToInteractive('df-917fef39-c629-4b05-9c13-576a51d7fbe5')\"\n",
       "              title=\"Convert this dataframe to an interactive table.\"\n",
       "              style=\"display:none;\">\n",
       "        \n",
       "  <svg xmlns=\"http://www.w3.org/2000/svg\" height=\"24px\"viewBox=\"0 0 24 24\"\n",
       "       width=\"24px\">\n",
       "    <path d=\"M0 0h24v24H0V0z\" fill=\"none\"/>\n",
       "    <path d=\"M18.56 5.44l.94 2.06.94-2.06 2.06-.94-2.06-.94-.94-2.06-.94 2.06-2.06.94zm-11 1L8.5 8.5l.94-2.06 2.06-.94-2.06-.94L8.5 2.5l-.94 2.06-2.06.94zm10 10l.94 2.06.94-2.06 2.06-.94-2.06-.94-.94-2.06-.94 2.06-2.06.94z\"/><path d=\"M17.41 7.96l-1.37-1.37c-.4-.4-.92-.59-1.43-.59-.52 0-1.04.2-1.43.59L10.3 9.45l-7.72 7.72c-.78.78-.78 2.05 0 2.83L4 21.41c.39.39.9.59 1.41.59.51 0 1.02-.2 1.41-.59l7.78-7.78 2.81-2.81c.8-.78.8-2.07 0-2.86zM5.41 20L4 18.59l7.72-7.72 1.47 1.35L5.41 20z\"/>\n",
       "  </svg>\n",
       "      </button>\n",
       "      \n",
       "  <style>\n",
       "    .colab-df-container {\n",
       "      display:flex;\n",
       "      flex-wrap:wrap;\n",
       "      gap: 12px;\n",
       "    }\n",
       "\n",
       "    .colab-df-convert {\n",
       "      background-color: #E8F0FE;\n",
       "      border: none;\n",
       "      border-radius: 50%;\n",
       "      cursor: pointer;\n",
       "      display: none;\n",
       "      fill: #1967D2;\n",
       "      height: 32px;\n",
       "      padding: 0 0 0 0;\n",
       "      width: 32px;\n",
       "    }\n",
       "\n",
       "    .colab-df-convert:hover {\n",
       "      background-color: #E2EBFA;\n",
       "      box-shadow: 0px 1px 2px rgba(60, 64, 67, 0.3), 0px 1px 3px 1px rgba(60, 64, 67, 0.15);\n",
       "      fill: #174EA6;\n",
       "    }\n",
       "\n",
       "    [theme=dark] .colab-df-convert {\n",
       "      background-color: #3B4455;\n",
       "      fill: #D2E3FC;\n",
       "    }\n",
       "\n",
       "    [theme=dark] .colab-df-convert:hover {\n",
       "      background-color: #434B5C;\n",
       "      box-shadow: 0px 1px 3px 1px rgba(0, 0, 0, 0.15);\n",
       "      filter: drop-shadow(0px 1px 2px rgba(0, 0, 0, 0.3));\n",
       "      fill: #FFFFFF;\n",
       "    }\n",
       "  </style>\n",
       "\n",
       "      <script>\n",
       "        const buttonEl =\n",
       "          document.querySelector('#df-917fef39-c629-4b05-9c13-576a51d7fbe5 button.colab-df-convert');\n",
       "        buttonEl.style.display =\n",
       "          google.colab.kernel.accessAllowed ? 'block' : 'none';\n",
       "\n",
       "        async function convertToInteractive(key) {\n",
       "          const element = document.querySelector('#df-917fef39-c629-4b05-9c13-576a51d7fbe5');\n",
       "          const dataTable =\n",
       "            await google.colab.kernel.invokeFunction('convertToInteractive',\n",
       "                                                     [key], {});\n",
       "          if (!dataTable) return;\n",
       "\n",
       "          const docLinkHtml = 'Like what you see? Visit the ' +\n",
       "            '<a target=\"_blank\" href=https://colab.research.google.com/notebooks/data_table.ipynb>data table notebook</a>'\n",
       "            + ' to learn more about interactive tables.';\n",
       "          element.innerHTML = '';\n",
       "          dataTable['output_type'] = 'display_data';\n",
       "          await google.colab.output.renderOutput(dataTable, element);\n",
       "          const docLink = document.createElement('div');\n",
       "          docLink.innerHTML = docLinkHtml;\n",
       "          element.appendChild(docLink);\n",
       "        }\n",
       "      </script>\n",
       "    </div>\n",
       "  </div>\n",
       "  "
      ],
      "text/plain": [
       "    loss  accuracy  val_loss  val_accuracy\n",
       "0 0.4545    0.8675    0.2652        0.9046\n",
       "1 0.2251    0.9276    0.2204        0.9265\n",
       "2 0.2216    0.9295    0.2141        0.9308\n",
       "3 0.2054    0.9357    0.1782        0.9450\n",
       "4 0.1872    0.9419    0.1796        0.9423"
      ]
     },
     "execution_count": 101,
     "metadata": {},
     "output_type": "execute_result"
    }
   ],
   "source": [
    "summary = pd.DataFrame(model1.history.history)\n",
    "summary.head()"
   ]
  },
  {
   "cell_type": "code",
   "execution_count": 102,
   "metadata": {
    "colab": {
     "base_uri": "https://localhost:8080/",
     "height": 374
    },
    "executionInfo": {
     "elapsed": 1291,
     "status": "ok",
     "timestamp": 1663881913272,
     "user": {
      "displayName": "Edward Williams",
      "userId": "15751998290745019023"
     },
     "user_tz": -120
    },
    "id": "Dcy3L5Whsl9X",
    "outputId": "a5ec53bc-8698-40c6-c1c5-6b4048b10ab8"
   },
   "outputs": [
    {
     "data": {
      "image/png": "[encoded data removed]",
      "text/plain": [
       "<Figure size 720x432 with 1 Axes>"
      ]
     },
     "metadata": {},
     "output_type": "display_data"
    }
   ],
   "source": [
    "summary[[\"loss\", \"val_loss\"]].plot();"
   ]
  },
  {
   "cell_type": "code",
   "execution_count": 103,
   "metadata": {
    "colab": {
     "base_uri": "https://localhost:8080/",
     "height": 374
    },
    "executionInfo": {
     "elapsed": 8,
     "status": "ok",
     "timestamp": 1663881914565,
     "user": {
      "displayName": "Edward Williams",
      "userId": "15751998290745019023"
     },
     "user_tz": -120
    },
    "id": "azs1F4o7sl9X",
    "outputId": "4c8d68d0-51bb-4fc4-c561-0fea11429e14"
   },
   "outputs": [
    {
     "data": {
      "image/png": "[encoded data removed]",
      "text/plain": [
       "<Figure size 720x432 with 1 Axes>"
      ]
     },
     "metadata": {},
     "output_type": "display_data"
    }
   ],
   "source": [
    "summary[[\"accuracy\", \"val_accuracy\"]].plot();"
   ]
  },
  {
   "cell_type": "markdown",
   "metadata": {
    "id": "16_yfUk5sl9Y"
   },
   "source": [
    "# Evaluation on Test Data"
   ]
  },
  {
   "cell_type": "code",
   "execution_count": 104,
   "metadata": {
    "executionInfo": {
     "elapsed": 1095,
     "status": "ok",
     "timestamp": 1663881936606,
     "user": {
      "displayName": "Edward Williams",
      "userId": "15751998290745019023"
     },
     "user_tz": -120
    },
    "id": "Xz95GVTDsl9Y"
   },
   "outputs": [],
   "source": [
    "from sklearn.metrics import classification_report, confusion_matrix"
   ]
  },
  {
   "cell_type": "code",
   "execution_count": 105,
   "metadata": {
    "colab": {
     "base_uri": "https://localhost:8080/"
    },
    "executionInfo": {
     "elapsed": 8798,
     "status": "ok",
     "timestamp": 1663881950382,
     "user": {
      "displayName": "Edward Williams",
      "userId": "15751998290745019023"
     },
     "user_tz": -120
    },
    "id": "mSBs8sNAsl9Y",
    "outputId": "c1fb1332-bbeb-4e3b-b6a9-2444bd5d4def"
   },
   "outputs": [
    {
     "name": "stdout",
     "output_type": "stream",
     "text": [
      "82/82 [==============================] - 11s 129ms/step - loss: 0.1654 - accuracy: 0.9446\n",
      "Test loss: 0.16537387669086456\n",
      "Test accuracy: 0.944615364074707\n"
     ]
    }
   ],
   "source": [
    "score = model1.evaluate(test_image_gen)\n",
    "print('Test loss:', score[0])\n",
    "print('Test accuracy:', score[1])"
   ]
  },
  {
   "cell_type": "code",
   "execution_count": 106,
   "metadata": {
    "executionInfo": {
     "elapsed": 10795,
     "status": "ok",
     "timestamp": 1663881974874,
     "user": {
      "displayName": "Edward Williams",
      "userId": "15751998290745019023"
     },
     "user_tz": -120
    },
    "id": "ZtAfDORssl9Y"
   },
   "outputs": [],
   "source": [
    "pred_prob = model1.predict(test_image_gen)"
   ]
  },
  {
   "cell_type": "code",
   "execution_count": 107,
   "metadata": {
    "colab": {
     "base_uri": "https://localhost:8080/"
    },
    "executionInfo": {
     "elapsed": 3,
     "status": "ok",
     "timestamp": 1663881977089,
     "user": {
      "displayName": "Edward Williams",
      "userId": "15751998290745019023"
     },
     "user_tz": -120
    },
    "id": "5PfBiFPlsl9Y",
    "outputId": "45e277d6-d9ad-482f-b5d0-4c881187ff95"
   },
   "outputs": [
    {
     "data": {
      "text/plain": [
       "array([[3.3485040e-03],\n",
       "       [1.4366325e-03],\n",
       "       [2.0682963e-05],\n",
       "       ...,\n",
       "       [9.6443903e-01],\n",
       "       [9.6655285e-01],\n",
       "       [8.2034510e-01]], dtype=float32)"
      ]
     },
     "execution_count": 107,
     "metadata": {},
     "output_type": "execute_result"
    }
   ],
   "source": [
    "pred_prob"
   ]
  },
  {
   "cell_type": "code",
   "execution_count": 108,
   "metadata": {
    "executionInfo": {
     "elapsed": 3,
     "status": "ok",
     "timestamp": 1663881980464,
     "user": {
      "displayName": "Edward Williams",
      "userId": "15751998290745019023"
     },
     "user_tz": -120
    },
    "id": "qwF2D32fsl9Z"
   },
   "outputs": [],
   "source": [
    "y_pred = pred_prob > 0.5"
   ]
  },
  {
   "cell_type": "code",
   "execution_count": 109,
   "metadata": {
    "colab": {
     "base_uri": "https://localhost:8080/"
    },
    "executionInfo": {
     "elapsed": 8,
     "status": "ok",
     "timestamp": 1663881983656,
     "user": {
      "displayName": "Edward Williams",
      "userId": "15751998290745019023"
     },
     "user_tz": -120
    },
    "id": "EP0FHhTSsl9Z",
    "outputId": "75fdb0f6-e7be-4cde-c6a5-6a7b31cb2484"
   },
   "outputs": [
    {
     "data": {
      "text/plain": [
       "array([[False],\n",
       "       [False],\n",
       "       [False],\n",
       "       ...,\n",
       "       [ True],\n",
       "       [ True],\n",
       "       [ True]])"
      ]
     },
     "execution_count": 109,
     "metadata": {},
     "output_type": "execute_result"
    }
   ],
   "source": [
    "y_pred"
   ]
  },
  {
   "cell_type": "code",
   "execution_count": 110,
   "metadata": {
    "colab": {
     "base_uri": "https://localhost:8080/"
    },
    "executionInfo": {
     "elapsed": 4,
     "status": "ok",
     "timestamp": 1663881987969,
     "user": {
      "displayName": "Edward Williams",
      "userId": "15751998290745019023"
     },
     "user_tz": -120
    },
    "id": "BfPUSYHxsl9a",
    "outputId": "9b84ba46-23a1-43b3-be1c-e00b8586ff39"
   },
   "outputs": [
    {
     "data": {
      "text/plain": [
       "array([0, 0, 0, ..., 1, 1, 1], dtype=int32)"
      ]
     },
     "execution_count": 110,
     "metadata": {},
     "output_type": "execute_result"
    }
   ],
   "source": [
    "y_test = test_image_gen.classes\n",
    "y_test"
   ]
  },
  {
   "cell_type": "code",
   "execution_count": 111,
   "metadata": {
    "colab": {
     "base_uri": "https://localhost:8080/"
    },
    "executionInfo": {
     "elapsed": 5,
     "status": "ok",
     "timestamp": 1663881990580,
     "user": {
      "displayName": "Edward Williams",
      "userId": "15751998290745019023"
     },
     "user_tz": -120
    },
    "id": "DWwI79g1sl9a",
    "outputId": "3c581055-9bb4-4ee3-fe6d-0561f6ea1b48"
   },
   "outputs": [
    {
     "name": "stdout",
     "output_type": "stream",
     "text": [
      "              precision    recall  f1-score   support\n",
      "\n",
      "           0       0.96      0.93      0.94      1300\n",
      "           1       0.93      0.96      0.94      1300\n",
      "\n",
      "    accuracy                           0.94      2600\n",
      "   macro avg       0.94      0.94      0.94      2600\n",
      "weighted avg       0.94      0.94      0.94      2600\n",
      "\n"
     ]
    }
   ],
   "source": [
    "print(classification_report(y_test, y_pred))"
   ]
  },
  {
   "cell_type": "code",
   "execution_count": 112,
   "metadata": {
    "colab": {
     "base_uri": "https://localhost:8080/"
    },
    "executionInfo": {
     "elapsed": 1086,
     "status": "ok",
     "timestamp": 1663882006697,
     "user": {
      "displayName": "Edward Williams",
      "userId": "15751998290745019023"
     },
     "user_tz": -120
    },
    "id": "KlUFu_UHsl9b",
    "outputId": "bfedc247-46e2-4dc1-9326-41b2bcf1fd52",
    "scrolled": true
   },
   "outputs": [
    {
     "data": {
      "text/plain": [
       "array([[1206,   94],\n",
       "       [  53, 1247]])"
      ]
     },
     "execution_count": 112,
     "metadata": {},
     "output_type": "execute_result"
    }
   ],
   "source": [
    "confusion_matrix(y_test, y_pred)"
   ]
  },
  {
   "cell_type": "markdown",
   "metadata": {
    "id": "lPIenRrysl9b"
   },
   "source": [
    "# Modelling-2"
   ]
  },
  {
   "cell_type": "code",
   "execution_count": 113,
   "metadata": {
    "executionInfo": {
     "elapsed": 1068,
     "status": "ok",
     "timestamp": 1663882040484,
     "user": {
      "displayName": "Edward Williams",
      "userId": "15751998290745019023"
     },
     "user_tz": -120
    },
    "id": "6Dnzknlxsl9b"
   },
   "outputs": [],
   "source": [
    "model2 = Sequential()\n",
    "\n",
    "model2.add(Conv2D(filters=64, kernel_size=(3,3),input_shape=image_shape, padding='same', activation='relu',))\n",
    "model2.add(MaxPooling2D(pool_size=(2, 2)))\n",
    "\n",
    "model2.add(Conv2D(filters=128, kernel_size=(3,3), padding='same', activation='relu'))\n",
    "model2.add(Conv2D(filters=128, kernel_size=(3,3), padding='same', activation='relu'))\n",
    "model2.add(MaxPooling2D(pool_size=(2, 2)))\n",
    "\n",
    "model2.add(Conv2D(filters=256, kernel_size=(3,3), padding='same', activation='relu'))\n",
    "model2.add(Conv2D(filters=256, kernel_size=(3,3), padding='same', activation='relu'))\n",
    "model2.add(Conv2D(filters=256, kernel_size=(3,3), padding='same', activation='relu'))\n",
    "model2.add(MaxPooling2D(pool_size=(2, 2)))\n",
    "\n",
    "model2.add(Conv2D(filters=128, kernel_size=(3,3), padding='same', activation='relu'))\n",
    "model2.add(MaxPooling2D(pool_size=(2, 2)))\n",
    "\n",
    "model2.add(Conv2D(filters=64, kernel_size=(3,3), padding='same', activation='relu'))\n",
    "model2.add(MaxPooling2D(pool_size=(2, 2)))\n",
    "\n",
    "\n",
    "model2.add(Flatten())\n",
    "\n",
    "\n",
    "model2.add(Dense(128))\n",
    "model2.add(Activation('relu'))\n",
    "model2.add(Dropout(0.5))\n",
    "\n",
    "model2.add(Dense(1))\n",
    "model2.add(Activation('sigmoid'))\n",
    "\n",
    "model2.compile(loss='binary_crossentropy',\n",
    "              optimizer='adam',\n",
    "              metrics=['accuracy'])"
   ]
  },
  {
   "cell_type": "code",
   "execution_count": 114,
   "metadata": {
    "colab": {
     "base_uri": "https://localhost:8080/"
    },
    "executionInfo": {
     "elapsed": 1084,
     "status": "ok",
     "timestamp": 1663882045170,
     "user": {
      "displayName": "Edward Williams",
      "userId": "15751998290745019023"
     },
     "user_tz": -120
    },
    "id": "waeAEJGSsl9c",
    "outputId": "f953dfda-4f1b-40a8-f4ee-758b49d4654a"
   },
   "outputs": [
    {
     "name": "stdout",
     "output_type": "stream",
     "text": [
      "Model: \"sequential_1\"\n",
      "_________________________________________________________________\n",
      " Layer (type)                Output Shape              Param #   \n",
      "=================================================================\n",
      " conv2d_3 (Conv2D)           (None, 130, 130, 64)      1792      \n",
      "                                                                 \n",
      " max_pooling2d_3 (MaxPooling  (None, 65, 65, 64)       0         \n",
      " 2D)                                                             \n",
      "                                                                 \n",
      " conv2d_4 (Conv2D)           (None, 65, 65, 128)       73856     \n",
      "                                                                 \n",
      " conv2d_5 (Conv2D)           (None, 65, 65, 128)       147584    \n",
      "                                                                 \n",
      " max_pooling2d_4 (MaxPooling  (None, 32, 32, 128)      0         \n",
      " 2D)                                                             \n",
      "                                                                 \n",
      " conv2d_6 (Conv2D)           (None, 32, 32, 256)       295168    \n",
      "                                                                 \n",
      " conv2d_7 (Conv2D)           (None, 32, 32, 256)       590080    \n",
      "                                                                 \n",
      " conv2d_8 (Conv2D)           (None, 32, 32, 256)       590080    \n",
      "                                                                 \n",
      " max_pooling2d_5 (MaxPooling  (None, 16, 16, 256)      0         \n",
      " 2D)                                                             \n",
      "                                                                 \n",
      " conv2d_9 (Conv2D)           (None, 16, 16, 128)       295040    \n",
      "                                                                 \n",
      " max_pooling2d_6 (MaxPooling  (None, 8, 8, 128)        0         \n",
      " 2D)                                                             \n",
      "                                                                 \n",
      " conv2d_10 (Conv2D)          (None, 8, 8, 64)          73792     \n",
      "                                                                 \n",
      " max_pooling2d_7 (MaxPooling  (None, 4, 4, 64)         0         \n",
      " 2D)                                                             \n",
      "                                                                 \n",
      " flatten_1 (Flatten)         (None, 1024)              0         \n",
      "                                                                 \n",
      " dense_2 (Dense)             (None, 128)               131200    \n",
      "                                                                 \n",
      " activation_2 (Activation)   (None, 128)               0         \n",
      "                                                                 \n",
      " dropout_1 (Dropout)         (None, 128)               0         \n",
      "                                                                 \n",
      " dense_3 (Dense)             (None, 1)                 129       \n",
      "                                                                 \n",
      " activation_3 (Activation)   (None, 1)                 0         \n",
      "                                                                 \n",
      "=================================================================\n",
      "Total params: 2,198,721\n",
      "Trainable params: 2,198,721\n",
      "Non-trainable params: 0\n",
      "_________________________________________________________________\n"
     ]
    }
   ],
   "source": [
    "model2.summary()"
   ]
  },
  {
   "cell_type": "code",
   "execution_count": 115,
   "metadata": {
    "executionInfo": {
     "elapsed": 412,
     "status": "ok",
     "timestamp": 1663882053213,
     "user": {
      "displayName": "Edward Williams",
      "userId": "15751998290745019023"
     },
     "user_tz": -120
    },
    "id": "tLSLjgiPsl9c"
   },
   "outputs": [],
   "source": [
    "early_stop = EarlyStopping(monitor='val_loss', patience=3, restore_best_weights = True)"
   ]
  },
  {
   "cell_type": "code",
   "execution_count": 116,
   "metadata": {
    "colab": {
     "base_uri": "https://localhost:8080/"
    },
    "executionInfo": {
     "elapsed": 1077040,
     "status": "ok",
     "timestamp": 1663883140856,
     "user": {
      "displayName": "Edward Williams",
      "userId": "15751998290745019023"
     },
     "user_tz": -120
    },
    "id": "mVbSg-qLsl9c",
    "outputId": "cd5bf3ce-902f-4af7-deee-5a5044b16290",
    "scrolled": true
   },
   "outputs": [
    {
     "name": "stdout",
     "output_type": "stream",
     "text": [
      "Epoch 1/8\n",
      "780/780 [==============================] - 138s 172ms/step - loss: 0.3542 - accuracy: 0.8494 - val_loss: 0.1980 - val_accuracy: 0.9362\n",
      "Epoch 2/8\n",
      "780/780 [==============================] - 133s 171ms/step - loss: 0.1655 - accuracy: 0.9506 - val_loss: 0.1707 - val_accuracy: 0.9469\n",
      "Epoch 3/8\n",
      "780/780 [==============================] - 133s 171ms/step - loss: 0.1623 - accuracy: 0.9512 - val_loss: 0.1582 - val_accuracy: 0.9515\n",
      "Epoch 4/8\n",
      "780/780 [==============================] - 133s 170ms/step - loss: 0.1606 - accuracy: 0.9503 - val_loss: 0.1622 - val_accuracy: 0.9500\n",
      "Epoch 5/8\n",
      "780/780 [==============================] - 132s 170ms/step - loss: 0.1551 - accuracy: 0.9537 - val_loss: 0.1533 - val_accuracy: 0.9488\n",
      "Epoch 6/8\n",
      "780/780 [==============================] - 133s 170ms/step - loss: 0.1530 - accuracy: 0.9540 - val_loss: 0.1621 - val_accuracy: 0.9492\n",
      "Epoch 7/8\n",
      "780/780 [==============================] - 133s 170ms/step - loss: 0.1517 - accuracy: 0.9522 - val_loss: 0.1522 - val_accuracy: 0.9485\n",
      "Epoch 8/8\n",
      "780/780 [==============================] - 133s 170ms/step - loss: 0.1449 - accuracy: 0.9548 - val_loss: 0.1452 - val_accuracy: 0.9492\n"
     ]
    },
    {
     "data": {
      "text/plain": [
       "<keras.callbacks.History at 0x7f8a9238ed10>"
      ]
     },
     "execution_count": 116,
     "metadata": {},
     "output_type": "execute_result"
    }
   ],
   "source": [
    "model2.fit(train_image_gen,\n",
    "          epochs=8,\n",
    "          steps_per_epoch=len(train_image_gen),\n",
    "          validation_data=test_image_gen,\n",
    "          validation_steps=len(test_image_gen),\n",
    "          callbacks=[early_stop])"
   ]
  },
  {
   "cell_type": "code",
   "execution_count": 117,
   "metadata": {
    "colab": {
     "base_uri": "https://localhost:8080/"
    },
    "executionInfo": {
     "elapsed": 413,
     "status": "ok",
     "timestamp": 1663883147187,
     "user": {
      "displayName": "Edward Williams",
      "userId": "15751998290745019023"
     },
     "user_tz": -120
    },
    "id": "CiIRPi0qsl9c",
    "outputId": "1fad1fd1-b3e7-4504-cfd5-36b864100934"
   },
   "outputs": [
    {
     "data": {
      "text/plain": [
       "['loss', 'accuracy']"
      ]
     },
     "execution_count": 117,
     "metadata": {},
     "output_type": "execute_result"
    }
   ],
   "source": [
    "model2.metrics_names"
   ]
  },
  {
   "cell_type": "code",
   "execution_count": 118,
   "metadata": {
    "colab": {
     "base_uri": "https://localhost:8080/",
     "height": 206
    },
    "executionInfo": {
     "elapsed": 8,
     "status": "ok",
     "timestamp": 1663883150230,
     "user": {
      "displayName": "Edward Williams",
      "userId": "15751998290745019023"
     },
     "user_tz": -120
    },
    "id": "28IfaCRpsl9d",
    "outputId": "f23efb00-b7e0-4783-875f-8a99503ae9db"
   },
   "outputs": [
    {
     "data": {
      "text/html": [
       "\n",
       "  <div id=\"df-0aa64229-e6b5-4a32-a2f2-b78d1db9827f\">\n",
       "    <div class=\"colab-df-container\">\n",
       "      <div>\n",
       "<style scoped>\n",
       "    .dataframe tbody tr th:only-of-type {\n",
       "        vertical-align: middle;\n",
       "    }\n",
       "\n",
       "    .dataframe tbody tr th {\n",
       "        vertical-align: top;\n",
       "    }\n",
       "\n",
       "    .dataframe thead th {\n",
       "        text-align: right;\n",
       "    }\n",
       "</style>\n",
       "<table border=\"1\" class=\"dataframe\">\n",
       "  <thead>\n",
       "    <tr style=\"text-align: right;\">\n",
       "      <th></th>\n",
       "      <th>loss</th>\n",
       "      <th>accuracy</th>\n",
       "      <th>val_loss</th>\n",
       "      <th>val_accuracy</th>\n",
       "    </tr>\n",
       "  </thead>\n",
       "  <tbody>\n",
       "    <tr>\n",
       "      <th>0</th>\n",
       "      <td>0.3542</td>\n",
       "      <td>0.8494</td>\n",
       "      <td>0.1980</td>\n",
       "      <td>0.9362</td>\n",
       "    </tr>\n",
       "    <tr>\n",
       "      <th>1</th>\n",
       "      <td>0.1655</td>\n",
       "      <td>0.9506</td>\n",
       "      <td>0.1707</td>\n",
       "      <td>0.9469</td>\n",
       "    </tr>\n",
       "    <tr>\n",
       "      <th>2</th>\n",
       "      <td>0.1623</td>\n",
       "      <td>0.9512</td>\n",
       "      <td>0.1582</td>\n",
       "      <td>0.9515</td>\n",
       "    </tr>\n",
       "    <tr>\n",
       "      <th>3</th>\n",
       "      <td>0.1606</td>\n",
       "      <td>0.9503</td>\n",
       "      <td>0.1622</td>\n",
       "      <td>0.9500</td>\n",
       "    </tr>\n",
       "    <tr>\n",
       "      <th>4</th>\n",
       "      <td>0.1551</td>\n",
       "      <td>0.9537</td>\n",
       "      <td>0.1533</td>\n",
       "      <td>0.9488</td>\n",
       "    </tr>\n",
       "  </tbody>\n",
       "</table>\n",
       "</div>\n",
       "      <button class=\"colab-df-convert\" onclick=\"convertToInteractive('df-0aa64229-e6b5-4a32-a2f2-b78d1db9827f')\"\n",
       "              title=\"Convert this dataframe to an interactive table.\"\n",
       "              style=\"display:none;\">\n",
       "        \n",
       "  <svg xmlns=\"http://www.w3.org/2000/svg\" height=\"24px\"viewBox=\"0 0 24 24\"\n",
       "       width=\"24px\">\n",
       "    <path d=\"M0 0h24v24H0V0z\" fill=\"none\"/>\n",
       "    <path d=\"M18.56 5.44l.94 2.06.94-2.06 2.06-.94-2.06-.94-.94-2.06-.94 2.06-2.06.94zm-11 1L8.5 8.5l.94-2.06 2.06-.94-2.06-.94L8.5 2.5l-.94 2.06-2.06.94zm10 10l.94 2.06.94-2.06 2.06-.94-2.06-.94-.94-2.06-.94 2.06-2.06.94z\"/><path d=\"M17.41 7.96l-1.37-1.37c-.4-.4-.92-.59-1.43-.59-.52 0-1.04.2-1.43.59L10.3 9.45l-7.72 7.72c-.78.78-.78 2.05 0 2.83L4 21.41c.39.39.9.59 1.41.59.51 0 1.02-.2 1.41-.59l7.78-7.78 2.81-2.81c.8-.78.8-2.07 0-2.86zM5.41 20L4 18.59l7.72-7.72 1.47 1.35L5.41 20z\"/>\n",
       "  </svg>\n",
       "      </button>\n",
       "      \n",
       "  <style>\n",
       "    .colab-df-container {\n",
       "      display:flex;\n",
       "      flex-wrap:wrap;\n",
       "      gap: 12px;\n",
       "    }\n",
       "\n",
       "    .colab-df-convert {\n",
       "      background-color: #E8F0FE;\n",
       "      border: none;\n",
       "      border-radius: 50%;\n",
       "      cursor: pointer;\n",
       "      display: none;\n",
       "      fill: #1967D2;\n",
       "      height: 32px;\n",
       "      padding: 0 0 0 0;\n",
       "      width: 32px;\n",
       "    }\n",
       "\n",
       "    .colab-df-convert:hover {\n",
       "      background-color: #E2EBFA;\n",
       "      box-shadow: 0px 1px 2px rgba(60, 64, 67, 0.3), 0px 1px 3px 1px rgba(60, 64, 67, 0.15);\n",
       "      fill: #174EA6;\n",
       "    }\n",
       "\n",
       "    [theme=dark] .colab-df-convert {\n",
       "      background-color: #3B4455;\n",
       "      fill: #D2E3FC;\n",
       "    }\n",
       "\n",
       "    [theme=dark] .colab-df-convert:hover {\n",
       "      background-color: #434B5C;\n",
       "      box-shadow: 0px 1px 3px 1px rgba(0, 0, 0, 0.15);\n",
       "      filter: drop-shadow(0px 1px 2px rgba(0, 0, 0, 0.3));\n",
       "      fill: #FFFFFF;\n",
       "    }\n",
       "  </style>\n",
       "\n",
       "      <script>\n",
       "        const buttonEl =\n",
       "          document.querySelector('#df-0aa64229-e6b5-4a32-a2f2-b78d1db9827f button.colab-df-convert');\n",
       "        buttonEl.style.display =\n",
       "          google.colab.kernel.accessAllowed ? 'block' : 'none';\n",
       "\n",
       "        async function convertToInteractive(key) {\n",
       "          const element = document.querySelector('#df-0aa64229-e6b5-4a32-a2f2-b78d1db9827f');\n",
       "          const dataTable =\n",
       "            await google.colab.kernel.invokeFunction('convertToInteractive',\n",
       "                                                     [key], {});\n",
       "          if (!dataTable) return;\n",
       "\n",
       "          const docLinkHtml = 'Like what you see? Visit the ' +\n",
       "            '<a target=\"_blank\" href=https://colab.research.google.com/notebooks/data_table.ipynb>data table notebook</a>'\n",
       "            + ' to learn more about interactive tables.';\n",
       "          element.innerHTML = '';\n",
       "          dataTable['output_type'] = 'display_data';\n",
       "          await google.colab.output.renderOutput(dataTable, element);\n",
       "          const docLink = document.createElement('div');\n",
       "          docLink.innerHTML = docLinkHtml;\n",
       "          element.appendChild(docLink);\n",
       "        }\n",
       "      </script>\n",
       "    </div>\n",
       "  </div>\n",
       "  "
      ],
      "text/plain": [
       "    loss  accuracy  val_loss  val_accuracy\n",
       "0 0.3542    0.8494    0.1980        0.9362\n",
       "1 0.1655    0.9506    0.1707        0.9469\n",
       "2 0.1623    0.9512    0.1582        0.9515\n",
       "3 0.1606    0.9503    0.1622        0.9500\n",
       "4 0.1551    0.9537    0.1533        0.9488"
      ]
     },
     "execution_count": 118,
     "metadata": {},
     "output_type": "execute_result"
    }
   ],
   "source": [
    "summary = pd.DataFrame(model2.history.history)\n",
    "summary.head()"
   ]
  },
  {
   "cell_type": "code",
   "execution_count": 119,
   "metadata": {
    "colab": {
     "base_uri": "https://localhost:8080/",
     "height": 374
    },
    "executionInfo": {
     "elapsed": 7,
     "status": "ok",
     "timestamp": 1663883154218,
     "user": {
      "displayName": "Edward Williams",
      "userId": "15751998290745019023"
     },
     "user_tz": -120
    },
    "id": "zyO6Cmv_sl9d",
    "outputId": "acd02ea7-ab94-4e4b-a282-9574c730af3f"
   },
   "outputs": [
    {
     "data": {
      "image/png": "[encoded data removed]",
      "text/plain": [
       "<Figure size 720x432 with 1 Axes>"
      ]
     },
     "metadata": {},
     "output_type": "display_data"
    }
   ],
   "source": [
    "summary[[\"loss\", \"val_loss\"]].plot();"
   ]
  },
  {
   "cell_type": "code",
   "execution_count": 120,
   "metadata": {
    "colab": {
     "base_uri": "https://localhost:8080/",
     "height": 378
    },
    "executionInfo": {
     "elapsed": 745,
     "status": "ok",
     "timestamp": 1663883157373,
     "user": {
      "displayName": "Edward Williams",
      "userId": "15751998290745019023"
     },
     "user_tz": -120
    },
    "id": "_D-FnA7Ksl9d",
    "outputId": "fb09897f-d667-426e-a47c-a9ec7ddc4c20"
   },
   "outputs": [
    {
     "data": {
      "image/png": "[encoded data removed]",
      "text/plain": [
       "<Figure size 720x432 with 1 Axes>"
      ]
     },
     "metadata": {},
     "output_type": "display_data"
    }
   ],
   "source": [
    "summary[[\"accuracy\", \"val_accuracy\"]].plot();"
   ]
  },
  {
   "cell_type": "markdown",
   "metadata": {
    "id": "F2bTLAvQsl9d"
   },
   "source": [
    "# Evaluation on Test Data"
   ]
  },
  {
   "cell_type": "code",
   "execution_count": 121,
   "metadata": {
    "colab": {
     "base_uri": "https://localhost:8080/"
    },
    "executionInfo": {
     "elapsed": 12616,
     "status": "ok",
     "timestamp": 1663883176432,
     "user": {
      "displayName": "Edward Williams",
      "userId": "15751998290745019023"
     },
     "user_tz": -120
    },
    "id": "rKRt861Wsl9e",
    "outputId": "4d42df2a-c7d3-46a1-91fa-bcceb5c55357"
   },
   "outputs": [
    {
     "name": "stdout",
     "output_type": "stream",
     "text": [
      "82/82 [==============================] - 12s 141ms/step - loss: 0.1564 - accuracy: 0.9488\n",
      "Test loss: 0.15644428133964539\n",
      "Test accuracy: 0.948846161365509\n"
     ]
    }
   ],
   "source": [
    "score = model2.evaluate(test_image_gen)\n",
    "print('Test loss:', score[0])\n",
    "print('Test accuracy:', score[1])"
   ]
  },
  {
   "cell_type": "code",
   "execution_count": 122,
   "metadata": {
    "executionInfo": {
     "elapsed": 11753,
     "status": "ok",
     "timestamp": 1663883198855,
     "user": {
      "displayName": "Edward Williams",
      "userId": "15751998290745019023"
     },
     "user_tz": -120
    },
    "id": "kP3oobifsl9e"
   },
   "outputs": [],
   "source": [
    "pred_prob = model2.predict(test_image_gen)"
   ]
  },
  {
   "cell_type": "code",
   "execution_count": 123,
   "metadata": {
    "executionInfo": {
     "elapsed": 19,
     "status": "ok",
     "timestamp": 1663883198856,
     "user": {
      "displayName": "Edward Williams",
      "userId": "15751998290745019023"
     },
     "user_tz": -120
    },
    "id": "93Jub8WGsl9f"
   },
   "outputs": [],
   "source": [
    "y_pred = pred_prob > 0.5"
   ]
  },
  {
   "cell_type": "code",
   "execution_count": 124,
   "metadata": {
    "colab": {
     "base_uri": "https://localhost:8080/"
    },
    "executionInfo": {
     "elapsed": 18,
     "status": "ok",
     "timestamp": 1663883198857,
     "user": {
      "displayName": "Edward Williams",
      "userId": "15751998290745019023"
     },
     "user_tz": -120
    },
    "id": "sTWX-UTMsl9f",
    "outputId": "23837bb9-aff4-4a42-86bf-3a2ddec1f421"
   },
   "outputs": [
    {
     "name": "stdout",
     "output_type": "stream",
     "text": [
      "              precision    recall  f1-score   support\n",
      "\n",
      "           0       0.96      0.93      0.95      1300\n",
      "           1       0.93      0.96      0.95      1300\n",
      "\n",
      "    accuracy                           0.95      2600\n",
      "   macro avg       0.95      0.95      0.95      2600\n",
      "weighted avg       0.95      0.95      0.95      2600\n",
      "\n"
     ]
    }
   ],
   "source": [
    "print(classification_report(y_test, y_pred))"
   ]
  },
  {
   "cell_type": "code",
   "execution_count": 125,
   "metadata": {
    "colab": {
     "base_uri": "https://localhost:8080/"
    },
    "executionInfo": {
     "elapsed": 17,
     "status": "ok",
     "timestamp": 1663883198859,
     "user": {
      "displayName": "Edward Williams",
      "userId": "15751998290745019023"
     },
     "user_tz": -120
    },
    "id": "oUdsEhpJsl9g",
    "outputId": "2bb26264-f0b5-42e8-bbbc-786cf430f3c4"
   },
   "outputs": [
    {
     "data": {
      "text/plain": [
       "array([[1211,   89],\n",
       "       [  48, 1252]])"
      ]
     },
     "execution_count": 125,
     "metadata": {},
     "output_type": "execute_result"
    }
   ],
   "source": [
    "confusion_matrix(y_test, y_pred)"
   ]
  },
  {
   "cell_type": "code",
   "execution_count": 126,
   "metadata": {
    "executionInfo": {
     "elapsed": 12,
     "status": "ok",
     "timestamp": 1663883198859,
     "user": {
      "displayName": "Edward Williams",
      "userId": "15751998290745019023"
     },
     "user_tz": -120
    },
    "id": "WR3JOvQhsl9g"
   },
   "outputs": [],
   "source": [
    "model1.save('malaria_model.h5')"
   ]
  },
  {
   "cell_type": "markdown",
   "metadata": {
    "id": "k17LqDfKsl9g"
   },
   "source": [
    "# Prediction"
   ]
  },
  {
   "cell_type": "code",
   "execution_count": 127,
   "metadata": {
    "executionInfo": {
     "elapsed": 2,
     "status": "ok",
     "timestamp": 1663883202390,
     "user": {
      "displayName": "Edward Williams",
      "userId": "15751998290745019023"
     },
     "user_tz": -120
    },
    "id": "HMDO0Dgv194o"
   },
   "outputs": [],
   "source": [
    "from tensorflow.keras.models import load_model\n",
    "from tensorflow.keras.preprocessing import image"
   ]
  },
  {
   "cell_type": "code",
   "execution_count": 128,
   "metadata": {
    "executionInfo": {
     "elapsed": 3,
     "status": "ok",
     "timestamp": 1663883203784,
     "user": {
      "displayName": "Edward Williams",
      "userId": "15751998290745019023"
     },
     "user_tz": -120
    },
    "id": "p4_7g3rEDiJ7"
   },
   "outputs": [],
   "source": [
    "model=load_model('malaria_model.h5')"
   ]
  },
  {
   "cell_type": "code",
   "execution_count": 129,
   "metadata": {
    "colab": {
     "base_uri": "https://localhost:8080/",
     "height": 36
    },
    "executionInfo": {
     "elapsed": 6,
     "status": "ok",
     "timestamp": 1663883204205,
     "user": {
      "displayName": "Edward Williams",
      "userId": "15751998290745019023"
     },
     "user_tz": -120
    },
    "id": "PLkgTS3cGHTv",
    "outputId": "2ca9105d-6ac6-4802-967a-6f17f52f3376"
   },
   "outputs": [
    {
     "data": {
      "application/vnd.google.colaboratory.intrinsic+json": {
       "type": "string"
      },
      "text/plain": [
       "'parasitized'"
      ]
     },
     "execution_count": 129,
     "metadata": {},
     "output_type": "execute_result"
    }
   ],
   "source": [
    "target_class=random.choice(class_names)\n",
    "target_class"
   ]
  },
  {
   "cell_type": "code",
   "execution_count": 131,
   "metadata": {
    "colab": {
     "base_uri": "https://localhost:8080/"
    },
    "executionInfo": {
     "elapsed": 4,
     "status": "ok",
     "timestamp": 1663883229534,
     "user": {
      "displayName": "Edward Williams",
      "userId": "15751998290745019023"
     },
     "user_tz": -120
    },
    "id": "8paR170UBXzt",
    "outputId": "694f03e8-15a9-4cc0-a61e-27c37f5ac9d1"
   },
   "outputs": [
    {
     "data": {
      "text/plain": [
       "['C130P91ThinF_IMG_20151004_135449_cell_125.png']"
      ]
     },
     "execution_count": 131,
     "metadata": {},
     "output_type": "execute_result"
    }
   ],
   "source": [
    "random_image = random.sample(os.listdir(os.path.join(test_path, target_class)), 1)\n",
    "random_image"
   ]
  },
  {
   "cell_type": "code",
   "execution_count": 132,
   "metadata": {
    "colab": {
     "base_uri": "https://localhost:8080/",
     "height": 36
    },
    "executionInfo": {
     "elapsed": 9,
     "status": "ok",
     "timestamp": 1663883251586,
     "user": {
      "displayName": "Edward Williams",
      "userId": "15751998290745019023"
     },
     "user_tz": -120
    },
    "id": "oeLS4RgHCCm6",
    "outputId": "8dff6f2f-ca4a-4b29-8851-8aa937ecc191"
   },
   "outputs": [
    {
     "data": {
      "application/vnd.google.colaboratory.intrinsic+json": {
       "type": "string"
      },
      "text/plain": [
       "'cell_images/test/parasitized/C130P91ThinF_IMG_20151004_135449_cell_125.png'"
      ]
     },
     "execution_count": 132,
     "metadata": {},
     "output_type": "execute_result"
    }
   ],
   "source": [
    "image_path = os.path.join(test_path, target_class, random_image[0])\n",
    "image_path"
   ]
  },
  {
   "cell_type": "code",
   "execution_count": 182,
   "metadata": {
    "executionInfo": {
     "elapsed": 386,
     "status": "ok",
     "timestamp": 1663883624268,
     "user": {
      "displayName": "Edward Williams",
      "userId": "15751998290745019023"
     },
     "user_tz": -120
    },
    "id": "RCxuuqwOsl9h"
   },
   "outputs": [],
   "source": [
    "my_image = image.load_img(image_path, target_size=image_shape)"
   ]
  },
  {
   "cell_type": "code",
   "execution_count": 183,
   "metadata": {
    "colab": {
     "base_uri": "https://localhost:8080/",
     "height": 147
    },
    "executionInfo": {
     "elapsed": 6,
     "status": "ok",
     "timestamp": 1663883625525,
     "user": {
      "displayName": "Edward Williams",
      "userId": "15751998290745019023"
     },
     "user_tz": -120
    },
    "id": "3GtFgC0gsl9h",
    "outputId": "12d66a88-bace-40dd-8455-35ade99dcac4"
   },
   "outputs": [
    {
     "data": {
      "image/png": "[encoded data removed]",
      "text/plain": [
       "<PIL.Image.Image image mode=RGB size=130x130 at 0x7F8A922948D0>"
      ]
     },
     "execution_count": 183,
     "metadata": {},
     "output_type": "execute_result"
    }
   ],
   "source": [
    "my_image"
   ]
  },
  {
   "cell_type": "code",
   "execution_count": 184,
   "metadata": {
    "colab": {
     "base_uri": "https://localhost:8080/"
    },
    "executionInfo": {
     "elapsed": 10,
     "status": "ok",
     "timestamp": 1663883627502,
     "user": {
      "displayName": "Edward Williams",
      "userId": "15751998290745019023"
     },
     "user_tz": -120
    },
    "id": "-wfKWRy55R_1",
    "outputId": "fb618d6d-6904-428b-da1e-eac66f0e72fa"
   },
   "outputs": [
    {
     "data": {
      "text/plain": [
       "PIL.Image.Image"
      ]
     },
     "execution_count": 184,
     "metadata": {},
     "output_type": "execute_result"
    }
   ],
   "source": [
    "type(my_image)"
   ]
  },
  {
   "cell_type": "code",
   "execution_count": 185,
   "metadata": {
    "colab": {
     "base_uri": "https://localhost:8080/",
     "height": 395
    },
    "executionInfo": {
     "elapsed": 9,
     "status": "ok",
     "timestamp": 1663883627503,
     "user": {
      "displayName": "Edward Williams",
      "userId": "15751998290745019023"
     },
     "user_tz": -120
    },
    "id": "upCKxEOxK_-B",
    "outputId": "d3331d58-8d38-4ae2-facd-90d93a654355"
   },
   "outputs": [
    {
     "data": {
      "text/plain": [
       "<matplotlib.image.AxesImage at 0x7f8a8e5a2290>"
      ]
     },
     "execution_count": 185,
     "metadata": {},
     "output_type": "execute_result"
    },
    {
     "data": {
      "image/png": "[encoded data removed]",
      "text/plain": [
       "<Figure size 720x432 with 1 Axes>"
      ]
     },
     "metadata": {},
     "output_type": "display_data"
    }
   ],
   "source": [
    "plt.imshow(my_image)"
   ]
  },
  {
   "cell_type": "code",
   "execution_count": 186,
   "metadata": {
    "executionInfo": {
     "elapsed": 4,
     "status": "ok",
     "timestamp": 1663883627894,
     "user": {
      "displayName": "Edward Williams",
      "userId": "15751998290745019023"
     },
     "user_tz": -120
    },
    "id": "Q9J8ngv-TVIV"
   },
   "outputs": [],
   "source": [
    "# my_image = np.array(my_image)\n",
    "my_image = image.img_to_array(my_image)"
   ]
  },
  {
   "cell_type": "code",
   "execution_count": 187,
   "metadata": {
    "colab": {
     "base_uri": "https://localhost:8080/"
    },
    "executionInfo": {
     "elapsed": 4,
     "status": "ok",
     "timestamp": 1663883627894,
     "user": {
      "displayName": "Edward Williams",
      "userId": "15751998290745019023"
     },
     "user_tz": -120
    },
    "id": "IJfZ-ILKsl9i",
    "outputId": "55443df1-485f-4a8a-8c46-7b37a6d2c9ba"
   },
   "outputs": [
    {
     "data": {
      "text/plain": [
       "(130, 130, 3)"
      ]
     },
     "execution_count": 187,
     "metadata": {},
     "output_type": "execute_result"
    }
   ],
   "source": [
    "my_image.shape"
   ]
  },
  {
   "cell_type": "code",
   "execution_count": 188,
   "metadata": {
    "executionInfo": {
     "elapsed": 3,
     "status": "ok",
     "timestamp": 1663883627895,
     "user": {
      "displayName": "Edward Williams",
      "userId": "15751998290745019023"
     },
     "user_tz": -120
    },
    "id": "n9-XbB8Rsl9i"
   },
   "outputs": [],
   "source": [
    "my_image = np.expand_dims(my_image, axis=0)"
   ]
  },
  {
   "cell_type": "code",
   "execution_count": 189,
   "metadata": {
    "colab": {
     "base_uri": "https://localhost:8080/"
    },
    "executionInfo": {
     "elapsed": 1034,
     "status": "ok",
     "timestamp": 1663883629710,
     "user": {
      "displayName": "Edward Williams",
      "userId": "15751998290745019023"
     },
     "user_tz": -120
    },
    "id": "ZuV5DH_fsl9i",
    "outputId": "f777f8e0-2427-4843-e581-bf134ab0ebfa"
   },
   "outputs": [
    {
     "data": {
      "text/plain": [
       "(1, 130, 130, 3)"
      ]
     },
     "execution_count": 189,
     "metadata": {},
     "output_type": "execute_result"
    }
   ],
   "source": [
    "my_image.shape"
   ]
  },
  {
   "cell_type": "code",
   "execution_count": 190,
   "metadata": {
    "colab": {
     "base_uri": "https://localhost:8080/"
    },
    "executionInfo": {
     "elapsed": 7,
     "status": "ok",
     "timestamp": 1663883629711,
     "user": {
      "displayName": "Edward Williams",
      "userId": "15751998290745019023"
     },
     "user_tz": -120
    },
    "id": "p5wQ4c6Zsl9i",
    "outputId": "e90d1b74-d3ba-48a4-b591-949666908475"
   },
   "outputs": [
    {
     "data": {
      "text/plain": [
       "array([[0.00265809]], dtype=float32)"
      ]
     },
     "execution_count": 190,
     "metadata": {},
     "output_type": "execute_result"
    }
   ],
   "source": [
    "model.predict(my_image)"
   ]
  },
  {
   "cell_type": "code",
   "execution_count": 191,
   "metadata": {
    "colab": {
     "base_uri": "https://localhost:8080/"
    },
    "executionInfo": {
     "elapsed": 4,
     "status": "ok",
     "timestamp": 1663883630245,
     "user": {
      "displayName": "Edward Williams",
      "userId": "15751998290745019023"
     },
     "user_tz": -120
    },
    "id": "ETuvfYOksl9i",
    "outputId": "73386bb7-6edf-463d-b78c-34247358b504"
   },
   "outputs": [
    {
     "data": {
      "text/plain": [
       "{'parasitized': 0, 'uninfected': 1}"
      ]
     },
     "execution_count": 191,
     "metadata": {},
     "output_type": "execute_result"
    }
   ],
   "source": [
    "train_image_gen.class_indices"
   ]
  }
 ],
 "metadata": {
  "colab": {
   "collapsed_sections": [],
   "provenance": []
  },
  "gpuClass": "standard",
  "kernelspec": {
   "display_name": "Python 3 (ipykernel)",
   "language": "python",
   "name": "python3"
  },
  "language_info": {
   "codemirror_mode": {
    "name": "ipython",
    "version": 3
   },
   "file_extension": ".py",
   "mimetype": "text/x-python",
   "name": "python",
   "nbconvert_exporter": "python",
   "pygments_lexer": "ipython3",
   "version": "3.9.12"
  },
  "toc": {
   "base_numbering": 1,
   "nav_menu": {},
   "number_sections": false,
   "sideBar": true,
   "skip_h1_title": false,
   "title_cell": "Table of Contents",
   "title_sidebar": "Contents",
   "toc_cell": false,
   "toc_position": {},
   "toc_section_display": true,
   "toc_window_display": true
  }
 },
 "nbformat": 4,
 "nbformat_minor": 4
}
